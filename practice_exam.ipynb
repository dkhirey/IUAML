{
 "cells": [
  {
   "cell_type": "code",
   "execution_count": 3,
   "metadata": {
    "ExecuteTime": {
     "end_time": "2018-10-22T18:34:15.913772Z",
     "start_time": "2018-10-22T18:34:15.903749Z"
    }
   },
   "outputs": [
    {
     "data": {
      "text/plain": [
       "0.7999999999999998"
      ]
     },
     "execution_count": 3,
     "metadata": {},
     "output_type": "execute_result"
    }
   ],
   "source": [
    "\n",
    "new = 2 - 0.1 * (4*2 + 4)\n",
    "new "
   ]
  },
  {
   "cell_type": "code",
   "execution_count": 12,
   "metadata": {
    "ExecuteTime": {
     "end_time": "2018-10-22T18:41:22.571592Z",
     "start_time": "2018-10-22T18:41:22.563876Z"
    }
   },
   "outputs": [],
   "source": [
    "w = [0,1] \n",
    "X = [[1,1],[1,3],[1,5],[1,4],[1,2]]\n",
    "y = [2,4,5,3,3]"
   ]
  },
  {
   "cell_type": "code",
   "execution_count": 13,
   "metadata": {
    "ExecuteTime": {
     "end_time": "2018-10-22T18:41:24.953271Z",
     "start_time": "2018-10-22T18:41:24.944896Z"
    }
   },
   "outputs": [
    {
     "data": {
      "text/plain": [
       "0.8"
      ]
     },
     "execution_count": 13,
     "metadata": {},
     "output_type": "execute_result"
    }
   ],
   "source": [
    "import numpy as np\n",
    "np.sum((np.dot(X,w) - y)**2)/5"
   ]
  },
  {
   "cell_type": "code",
   "execution_count": 83,
   "metadata": {
    "ExecuteTime": {
     "end_time": "2018-10-22T19:38:12.530566Z",
     "start_time": "2018-10-22T19:38:12.526097Z"
    }
   },
   "outputs": [],
   "source": [
    "w = [2,-1,4,8]\n",
    "X = [1,5,1,2]\n",
    "y = 6"
   ]
  },
  {
   "cell_type": "code",
   "execution_count": 15,
   "metadata": {
    "ExecuteTime": {
     "end_time": "2018-10-22T18:44:15.949176Z",
     "start_time": "2018-10-22T18:44:15.938145Z"
    }
   },
   "outputs": [
    {
     "data": {
      "text/plain": [
       "array([ 1.89, -1.55,  3.89,  7.78])"
      ]
     },
     "execution_count": 15,
     "metadata": {},
     "output_type": "execute_result"
    }
   ],
   "source": [
    "w=w-0.01*np.dot((np.dot(X,w)-y),X)\n",
    "w"
   ]
  },
  {
   "cell_type": "code",
   "execution_count": 16,
   "metadata": {
    "ExecuteTime": {
     "end_time": "2018-10-22T18:46:30.350746Z",
     "start_time": "2018-10-22T18:46:30.343761Z"
    }
   },
   "outputs": [],
   "source": [
    "w = [2,-1,10,8]\n",
    "X = [1,5,1,2]\n",
    "y = 10\n",
    "eta = 0.1\n",
    "alpha = 0.3"
   ]
  },
  {
   "cell_type": "code",
   "execution_count": 17,
   "metadata": {
    "ExecuteTime": {
     "end_time": "2018-10-22T18:46:48.579700Z",
     "start_time": "2018-10-22T18:46:48.571444Z"
    },
    "scrolled": true
   },
   "outputs": [
    {
     "data": {
      "text/plain": [
       "array([ 0.7 , -7.47,  8.67,  5.37])"
      ]
     },
     "execution_count": 17,
     "metadata": {},
     "output_type": "execute_result"
    }
   ],
   "source": [
    "w = w - eta * (np.dot((np.dot(X,w)-y),X) + np.append(0,alpha*np.sign(w[1:]))) \n",
    "w"
   ]
  },
  {
   "cell_type": "code",
   "execution_count": 18,
   "metadata": {
    "ExecuteTime": {
     "end_time": "2018-10-22T18:49:06.462208Z",
     "start_time": "2018-10-22T18:49:06.455676Z"
    }
   },
   "outputs": [
    {
     "data": {
      "text/plain": [
       "0.0010288065843621398"
      ]
     },
     "execution_count": 18,
     "metadata": {},
     "output_type": "execute_result"
    }
   ],
   "source": [
    "(1/3)*(1/3)*(1/3)*(1/3)*(1/3)*(1/4)"
   ]
  },
  {
   "cell_type": "code",
   "execution_count": 23,
   "metadata": {
    "ExecuteTime": {
     "end_time": "2018-10-22T18:54:20.746838Z",
     "start_time": "2018-10-22T18:54:20.738740Z"
    }
   },
   "outputs": [
    {
     "data": {
      "text/plain": [
       "0.0004016183732968405"
      ]
     },
     "execution_count": 23,
     "metadata": {},
     "output_type": "execute_result"
    }
   ],
   "source": [
    "((5+1)/(8+6))*((5+1)/(8+6))*((5+1)/(8+6))*((0+1)/(8+6))*((0+1)/(8+6))"
   ]
  },
  {
   "cell_type": "code",
   "execution_count": 70,
   "metadata": {
    "ExecuteTime": {
     "end_time": "2018-10-22T19:21:58.865751Z",
     "start_time": "2018-10-22T19:21:58.857661Z"
    }
   },
   "outputs": [],
   "source": [
    "W = np.transpose(np.array([[1., 1.], \n",
    "              [-4., 3.], \n",
    "              [-1., -3.]])).reshape(2, 3)\n",
    "b = np.array([[-2.], \n",
    "              [-11.], \n",
    "              [-1.]])\n",
    "x = np.array([0., 1.])"
   ]
  },
  {
   "cell_type": "code",
   "execution_count": 67,
   "metadata": {
    "ExecuteTime": {
     "end_time": "2018-10-22T19:20:51.862512Z",
     "start_time": "2018-10-22T19:20:51.855151Z"
    }
   },
   "outputs": [
    {
     "data": {
      "text/plain": [
       "array([ 1.,  3., -3.])"
      ]
     },
     "execution_count": 67,
     "metadata": {},
     "output_type": "execute_result"
    }
   ],
   "source": [
    "np.dot(x,W)"
   ]
  },
  {
   "cell_type": "code",
   "execution_count": 71,
   "metadata": {
    "ExecuteTime": {
     "end_time": "2018-10-22T19:22:01.436451Z",
     "start_time": "2018-10-22T19:22:01.429876Z"
    }
   },
   "outputs": [],
   "source": [
    "def scores(W, b, x):\n",
    "    return np.dot(x, W) + b\n",
    "\n",
    "def probas(W, b, x):\n",
    "    sc = scores(W, b, x)\n",
    "    sc_exp = np.exp(sc)\n",
    "    return sc_exp / np.sum(sc_exp)"
   ]
  },
  {
   "cell_type": "code",
   "execution_count": 73,
   "metadata": {
    "ExecuteTime": {
     "end_time": "2018-10-22T19:22:16.681063Z",
     "start_time": "2018-10-22T19:22:16.672585Z"
    }
   },
   "outputs": [
    {
     "data": {
      "text/plain": [
       "array([[0.032, 0.236, 0.001],\n",
       "       [0.   , 0.   , 0.   ],\n",
       "       [0.087, 0.642, 0.002]])"
      ]
     },
     "execution_count": 73,
     "metadata": {},
     "output_type": "execute_result"
    }
   ],
   "source": [
    "np.round(probas(W, b, x), 3)"
   ]
  },
  {
   "cell_type": "code",
   "execution_count": 82,
   "metadata": {
    "ExecuteTime": {
     "end_time": "2018-10-22T19:34:18.656570Z",
     "start_time": "2018-10-22T19:34:18.562899Z"
    }
   },
   "outputs": [
    {
     "name": "stdout",
     "output_type": "stream",
     "text": [
      "1.0\n"
     ]
    }
   ],
   "source": [
    "import numpy as np\n",
    "from sklearn.model_selection import train_test_split\n",
    "from sklearn.preprocessing import StandardScaler\n",
    "from sklearn.model_selection import GridSearchCV\n",
    "from sklearn.linear_model import LogisticRegression\n",
    "from sklearn.pipeline import Pipeline\n",
    "from sklearn.metrics import accuracy_score\n",
    "from sklearn.datasets import load_iris\n",
    "\n",
    "iris = load_iris()\n",
    "X = iris.data\n",
    "y = iris.target\n",
    "\n",
    "X_train, X_test, y_train, y_test = train_test_split(X, y, test_size=.2, random_state=42)\n",
    "\n",
    "params = {'lr__C': [1.0, 10.0, 100.0] }\n",
    " \n",
    "lr_pipeline = Pipeline([('scaler', StandardScaler()),\n",
    "                        ('lr', LogisticRegression(penalty = 'l1'))])\n",
    "\n",
    "gs = GridSearchCV(lr_pipeline, param_grid=params, cv=5, refit=True)\n",
    "gs.fit(X_train, y_train)\n",
    "y_preds = gs.predict(X_test)\n",
    "score =accuracy_score(y_test, y_preds)\n",
    "print(score)"
   ]
  },
  {
   "cell_type": "code",
   "execution_count": null,
   "metadata": {},
   "outputs": [],
   "source": []
  }
 ],
 "metadata": {
  "kernelspec": {
   "display_name": "Python 3",
   "language": "python",
   "name": "python3"
  },
  "language_info": {
   "codemirror_mode": {
    "name": "ipython",
    "version": 3
   },
   "file_extension": ".py",
   "mimetype": "text/x-python",
   "name": "python",
   "nbconvert_exporter": "python",
   "pygments_lexer": "ipython3",
   "version": "3.6.5"
  },
  "latex_envs": {
   "LaTeX_envs_menu_present": true,
   "autoclose": true,
   "autocomplete": true,
   "bibliofile": "biblio.bib",
   "cite_by": "apalike",
   "current_citInitial": 1,
   "eqLabelWithNumbers": true,
   "eqNumInitial": 1,
   "hotkeys": {
    "equation": "Ctrl-E",
    "itemize": "Ctrl-I"
   },
   "labels_anchors": false,
   "latex_user_defs": false,
   "report_style_numbering": false,
   "user_envs_cfg": true
  },
  "toc": {
   "base_numbering": 1,
   "nav_menu": {},
   "number_sections": true,
   "sideBar": true,
   "skip_h1_title": false,
   "title_cell": "Table of Contents",
   "title_sidebar": "Contents",
   "toc_cell": false,
   "toc_position": {},
   "toc_section_display": true,
   "toc_window_display": false
  },
  "varInspector": {
   "cols": {
    "lenName": 16,
    "lenType": 16,
    "lenVar": 40
   },
   "kernels_config": {
    "python": {
     "delete_cmd_postfix": "",
     "delete_cmd_prefix": "del ",
     "library": "var_list.py",
     "varRefreshCmd": "print(var_dic_list())"
    },
    "r": {
     "delete_cmd_postfix": ") ",
     "delete_cmd_prefix": "rm(",
     "library": "var_list.r",
     "varRefreshCmd": "cat(var_dic_list()) "
    }
   },
   "types_to_exclude": [
    "module",
    "function",
    "builtin_function_or_method",
    "instance",
    "_Feature"
   ],
   "window_display": false
  }
 },
 "nbformat": 4,
 "nbformat_minor": 2
}
