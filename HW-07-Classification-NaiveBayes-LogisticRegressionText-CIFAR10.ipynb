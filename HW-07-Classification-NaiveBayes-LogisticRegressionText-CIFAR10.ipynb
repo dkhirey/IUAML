{
 "cells": [
  {
   "cell_type": "markdown",
   "metadata": {},
   "source": [
    "# Homework 07\n",
    "\n",
    "`By   : Dr. James G. Shanahan\n",
    "EMAIL: James.Shanahan AT Gmail.com`"
   ]
  },
  {
   "cell_type": "markdown",
   "metadata": {},
   "source": [
    "Please complete all core assignment tasks. For bonus points, please complete the optional stretech assignment tasks that will involve more theory and programming.\n",
    "\n",
    "The goals of this HW include the following:\n",
    "* Compare a range of classification models using different datasets\n",
    "* Perform text classification in a pipeline\n",
    "    * Use gridsearch to identify best hyperparameter combinations\n",
    "    * Visualize and uncerstand classification results using a confusion matrix\n",
    "* Evaluate and discuss logistic regression models with regularization \n",
    "  \n",
    "Please consult Canvas for the grading rubric (check Module 07 -> HW 07)."
   ]
  },
  {
   "cell_type": "markdown",
   "metadata": {},
   "source": [
    "# CIFAR10"
   ]
  },
  {
   "cell_type": "markdown",
   "metadata": {},
   "source": [
    "DOWNLOAD DATA FROM [HERE](http://www.cs.toronto.edu/~kriz/cifar-10-python.tar.gz) AND PUT IT TO THE DATA FOLDER\n",
    "\n",
    "The [CIFAR-10](http://www.cs.toronto.edu/~kriz/cifar.html) dataset consists of 60000 32x32 colour images in 10 classes, with 6000 images per class. There are 50000 training images and 10000 test images.\n",
    "\n",
    "The classes are completely mutually exclusive. There is no overlap between automobiles and trucks. \"Automobile\" includes sedans, SUVs, things of that sort. \"Truck\" includes only big trucks. Neither includes pickup trucks. Such a situation is called **multiclass** classification in oppose to **multilabel** classification when each example may have multiple label.\n",
    "\n",
    "One can see state-of-the-art results [here](http://rodrigob.github.io/are_we_there_yet/build/classification_datasets_results.html)"
   ]
  },
  {
   "cell_type": "code",
   "execution_count": 1,
   "metadata": {
    "ExecuteTime": {
     "end_time": "2018-10-16T19:41:56.948047Z",
     "start_time": "2018-10-16T19:41:51.343008Z"
    }
   },
   "outputs": [],
   "source": [
    "import _pickle as cPickle\n",
    "import tarfile\n",
    "\n",
    "import numpy as np\n",
    "import pandas as pd\n",
    "\n",
    "from sklearn.linear_model import LogisticRegression\n",
    "from sklearn.model_selection import train_test_split\n",
    "from sklearn.metrics import accuracy_score\n",
    "\n",
    "import matplotlib\n",
    "import matplotlib.pyplot as plt\n",
    "import seaborn as sns\n",
    "\n",
    "%matplotlib inline"
   ]
  },
  {
   "cell_type": "markdown",
   "metadata": {},
   "source": [
    "Set style for plotting"
   ]
  },
  {
   "cell_type": "code",
   "execution_count": 2,
   "metadata": {
    "ExecuteTime": {
     "end_time": "2018-10-16T19:41:59.496429Z",
     "start_time": "2018-10-16T19:41:59.492394Z"
    }
   },
   "outputs": [],
   "source": [
    "sns.set(style=\"whitegrid\", font_scale=1.3)\n",
    "matplotlib.rcParams[\"legend.framealpha\"] = 1\n",
    "matplotlib.rcParams[\"legend.frameon\"] = True"
   ]
  },
  {
   "cell_type": "markdown",
   "metadata": {},
   "source": [
    "# Data"
   ]
  },
  {
   "cell_type": "markdown",
   "metadata": {},
   "source": [
    "Unarchive data"
   ]
  },
  {
   "cell_type": "code",
   "execution_count": 3,
   "metadata": {
    "ExecuteTime": {
     "end_time": "2018-10-04T14:57:59.271316Z",
     "start_time": "2018-10-04T14:57:59.254272Z"
    },
    "scrolled": true
   },
   "outputs": [
    {
     "data": {
      "text/plain": [
       "'C:\\\\Users\\\\hv158\\\\Documents\\\\GitHub\\\\I526_AML_FA18-master\\\\Assignments\\\\Unit-07-Classification-NaiveBayes-LogisticRegression'"
      ]
     },
     "execution_count": 3,
     "metadata": {},
     "output_type": "execute_result"
    }
   ],
   "source": [
    "pwd"
   ]
  },
  {
   "cell_type": "code",
   "execution_count": 4,
   "metadata": {
    "ExecuteTime": {
     "end_time": "2018-10-04T14:57:59.283349Z",
     "start_time": "2018-10-04T14:57:59.273321Z"
    }
   },
   "outputs": [],
   "source": [
    "#!ls /root/shared/Dropbox/Projects/Courses/DataScienceAtScale/Assignments/HW-Assignment-SOLUTIONS/Unit-07-Logistic-Regression-CIFAR10/data/cifar-10-python.tar.gz"
   ]
  },
  {
   "cell_type": "code",
   "execution_count": 3,
   "metadata": {
    "ExecuteTime": {
     "end_time": "2018-10-16T19:42:10.199419Z",
     "start_time": "2018-10-16T19:42:07.567422Z"
    }
   },
   "outputs": [],
   "source": [
    "#tar = tarfile.open(\"/root/shared/Dropbox/Projects/Courses/DataScienceAtScale/Assignments/HW-Assignment-SOLUTIONS/Unit-07-Logistic-Regression-CIFAR10/data/cifar-10-python.tar.gz\", \"r:gz\")\n",
    "tar = tarfile.open(\"data/cifar-10-python.tar.gz\", \"r:gz\")\n",
    "tar.extractall(\"data\")\n",
    "tar.close()"
   ]
  },
  {
   "cell_type": "markdown",
   "metadata": {},
   "source": [
    "## Reading"
   ]
  },
  {
   "cell_type": "markdown",
   "metadata": {},
   "source": [
    "Data are stored as a memory dump with python $\\text{dict}$ object. It was created using **pickle** function. To read one should \"unpickle\" it."
   ]
  },
  {
   "cell_type": "code",
   "execution_count": 4,
   "metadata": {
    "ExecuteTime": {
     "end_time": "2018-10-16T19:42:13.967443Z",
     "start_time": "2018-10-16T19:42:13.963466Z"
    }
   },
   "outputs": [],
   "source": [
    "def unpickle(file):\n",
    "    fo = open(file, 'rb')\n",
    "    dict = cPickle.load(fo, encoding=\"latin1\")\n",
    "    fo.close()\n",
    "    return dict"
   ]
  },
  {
   "cell_type": "markdown",
   "metadata": {},
   "source": [
    "Data are also splitted in to 5 pieces for conveniece. Let's read them all and concatenate"
   ]
  },
  {
   "cell_type": "code",
   "execution_count": 5,
   "metadata": {
    "ExecuteTime": {
     "end_time": "2018-10-16T19:42:21.679858Z",
     "start_time": "2018-10-16T19:42:21.279830Z"
    }
   },
   "outputs": [],
   "source": [
    "for b in range(1, 6):\n",
    "    data_batch = unpickle(\"data/cifar-10-batches-py/data_batch_\" + str(b))\n",
    "    if b == 1:\n",
    "        X_train = data_batch[\"data\"]\n",
    "        y_train = np.array(data_batch[\"labels\"])\n",
    "    else:\n",
    "        X_train = np.append(X_train, data_batch[\"data\"], axis=0)\n",
    "        y_train = np.append(y_train, data_batch[\"labels\"], axis=0)"
   ]
  },
  {
   "cell_type": "markdown",
   "metadata": {},
   "source": [
    "Read test data. In this dataset train/test split is provided by authors of the dataset to be able to consistently evaluate solutions"
   ]
  },
  {
   "cell_type": "code",
   "execution_count": 6,
   "metadata": {
    "ExecuteTime": {
     "end_time": "2018-10-16T19:42:25.682361Z",
     "start_time": "2018-10-16T19:42:25.632193Z"
    }
   },
   "outputs": [],
   "source": [
    "data_batch = unpickle(\"data/cifar-10-batches-py/test_batch\")\n",
    "X_test = data_batch[\"data\"]\n",
    "y_test = np.array(data_batch[\"labels\"])"
   ]
  },
  {
   "cell_type": "markdown",
   "metadata": {},
   "source": [
    "Read meta-information file with the names of the classes"
   ]
  },
  {
   "cell_type": "code",
   "execution_count": 7,
   "metadata": {
    "ExecuteTime": {
     "end_time": "2018-10-16T19:42:28.286516Z",
     "start_time": "2018-10-16T19:42:28.281520Z"
    }
   },
   "outputs": [],
   "source": [
    "classes = unpickle(\"data/cifar-10-batches-py/batches.meta\")[\"label_names\"]"
   ]
  },
  {
   "cell_type": "markdown",
   "metadata": {},
   "source": [
    "## Pre-processing"
   ]
  },
  {
   "cell_type": "markdown",
   "metadata": {},
   "source": [
    "We have too many data"
   ]
  },
  {
   "cell_type": "code",
   "execution_count": 8,
   "metadata": {
    "ExecuteTime": {
     "end_time": "2018-10-16T19:42:33.360719Z",
     "start_time": "2018-10-16T19:42:33.355748Z"
    }
   },
   "outputs": [
    {
     "name": "stdout",
     "output_type": "stream",
     "text": [
      "Train size: 50000\n",
      "Test size: 10000\n"
     ]
    }
   ],
   "source": [
    "print(\"Train size:\", X_train.shape[0])\n",
    "print(\"Test size:\", X_test.shape[0])"
   ]
  },
  {
   "cell_type": "markdown",
   "metadata": {},
   "source": [
    "Let's take only 10% of them to train faster"
   ]
  },
  {
   "cell_type": "code",
   "execution_count": 9,
   "metadata": {
    "ExecuteTime": {
     "end_time": "2018-10-16T19:42:37.015084Z",
     "start_time": "2018-10-16T19:42:37.012111Z"
    }
   },
   "outputs": [],
   "source": [
    "subsample_rate = 0.1"
   ]
  },
  {
   "cell_type": "markdown",
   "metadata": {},
   "source": [
    "We want to preserve the same quantity ratio between classes. In python such an option is called **stratification**. Let's randomly (with fixed initial seed for the sake of reproducibility) divide part of train data"
   ]
  },
  {
   "cell_type": "code",
   "execution_count": 10,
   "metadata": {
    "ExecuteTime": {
     "end_time": "2018-10-16T19:42:41.218691Z",
     "start_time": "2018-10-16T19:42:41.047262Z"
    }
   },
   "outputs": [
    {
     "name": "stderr",
     "output_type": "stream",
     "text": [
      "C:\\Users\\hv158\\AppData\\Local\\Continuum\\anaconda3\\lib\\site-packages\\sklearn\\model_selection\\_split.py:2026: FutureWarning: From version 0.21, test_size will always complement train_size unless both are specified.\n",
      "  FutureWarning)\n"
     ]
    }
   ],
   "source": [
    "X_train, _, y_train, _ = train_test_split(X_train, y_train, stratify=y_train, train_size=subsample_rate, random_state=42)"
   ]
  },
  {
   "cell_type": "markdown",
   "metadata": {},
   "source": [
    "The same for test"
   ]
  },
  {
   "cell_type": "code",
   "execution_count": 11,
   "metadata": {
    "ExecuteTime": {
     "end_time": "2018-10-16T19:42:43.795301Z",
     "start_time": "2018-10-16T19:42:43.760198Z"
    }
   },
   "outputs": [
    {
     "name": "stderr",
     "output_type": "stream",
     "text": [
      "C:\\Users\\hv158\\AppData\\Local\\Continuum\\anaconda3\\lib\\site-packages\\sklearn\\model_selection\\_split.py:2026: FutureWarning: From version 0.21, test_size will always complement train_size unless both are specified.\n",
      "  FutureWarning)\n"
     ]
    }
   ],
   "source": [
    "X_test, _, y_test, _ = train_test_split(X_test, y_test, stratify=y_test, train_size=subsample_rate, random_state=42)"
   ]
  },
  {
   "cell_type": "markdown",
   "metadata": {},
   "source": [
    "Indeed, we preserved the number of objects of each class"
   ]
  },
  {
   "cell_type": "code",
   "execution_count": 14,
   "metadata": {
    "ExecuteTime": {
     "end_time": "2018-10-04T14:58:02.871040Z",
     "start_time": "2018-10-04T14:58:02.865024Z"
    }
   },
   "outputs": [
    {
     "data": {
      "text/plain": [
       "[('airplane', 500),\n",
       " ('automobile', 500),\n",
       " ('bird', 500),\n",
       " ('cat', 500),\n",
       " ('deer', 500),\n",
       " ('dog', 500),\n",
       " ('frog', 500),\n",
       " ('horse', 500),\n",
       " ('ship', 500),\n",
       " ('truck', 500)]"
      ]
     },
     "execution_count": 14,
     "metadata": {},
     "output_type": "execute_result"
    }
   ],
   "source": [
    "unique_train = np.unique(y_train, return_counts=True)\n",
    "list(zip(np.array(classes)[unique_train[0]], unique_train[1]))"
   ]
  },
  {
   "cell_type": "markdown",
   "metadata": {},
   "source": [
    "## Visualization"
   ]
  },
  {
   "cell_type": "markdown",
   "metadata": {},
   "source": [
    "For now each object has the following shape"
   ]
  },
  {
   "cell_type": "code",
   "execution_count": 15,
   "metadata": {
    "ExecuteTime": {
     "end_time": "2018-10-04T14:58:02.887083Z",
     "start_time": "2018-10-04T14:58:02.873045Z"
    }
   },
   "outputs": [
    {
     "data": {
      "text/plain": [
       "(3072,)"
      ]
     },
     "execution_count": 15,
     "metadata": {},
     "output_type": "execute_result"
    }
   ],
   "source": [
    "X_train[0].shape"
   ]
  },
  {
   "cell_type": "markdown",
   "metadata": {},
   "source": [
    "$3072 = 32 \\times 32 \\times 3$ where $32 \\times 32$ is the size of the image in pixels and $3$ is the number of channels (RGB)\n",
    "\n",
    "To show this array as an image let's reshape it in the needed from with the shape $(32, 32, 1)$"
   ]
  },
  {
   "cell_type": "code",
   "execution_count": 16,
   "metadata": {
    "ExecuteTime": {
     "end_time": "2018-10-04T14:58:02.900117Z",
     "start_time": "2018-10-04T14:58:02.889088Z"
    }
   },
   "outputs": [],
   "source": [
    "def show_pic(x):\n",
    "    plt.imshow(x.reshape((3, 32, 32)).transpose(1, 2, 0).astype(\"uint8\"))\n",
    "    plt.axis(\"off\")"
   ]
  },
  {
   "cell_type": "markdown",
   "metadata": {},
   "source": [
    "Draw one pic from each class"
   ]
  },
  {
   "cell_type": "code",
   "execution_count": 17,
   "metadata": {
    "ExecuteTime": {
     "end_time": "2018-10-04T14:58:02.914154Z",
     "start_time": "2018-10-04T14:58:02.902122Z"
    }
   },
   "outputs": [],
   "source": [
    "classes_idx_examples = np.zeros(10, dtype=np.int)\n",
    "for i in range(10):\n",
    "    classes_idx_examples[i] = np.where(y_train == i)[0][0]"
   ]
  },
  {
   "cell_type": "code",
   "execution_count": 18,
   "metadata": {
    "ExecuteTime": {
     "end_time": "2018-10-04T14:58:03.167828Z",
     "start_time": "2018-10-04T14:58:02.916168Z"
    }
   },
   "outputs": [
    {
     "data": {
      "image/png": "[encoded data removed]",
      "text/plain": [
       "<Figure size 864x360 with 10 Axes>"
      ]
     },
     "metadata": {},
     "output_type": "display_data"
    }
   ],
   "source": [
    "plt.figure(figsize=(12, 5))\n",
    "for i in range(10):\n",
    "    plt.subplot(2, 5, i + 1)\n",
    "    show_pic(X_train[classes_idx_examples[i]])\n",
    "    plt.title(classes[i])"
   ]
  },
  {
   "cell_type": "markdown",
   "metadata": {},
   "source": [
    "# Sklearn Logistic Regression"
   ]
  },
  {
   "cell_type": "markdown",
   "metadata": {},
   "source": [
    "Let's use Sklearn implementation of algorithms to have a benchmark.\n",
    "\n",
    "Also one should **always** track the results of the experiments to be able to compare different approaches. Let's create pandas $\\text{DataFrame}$ for this purpose."
   ]
  },
  {
   "cell_type": "code",
   "execution_count": 19,
   "metadata": {
    "ExecuteTime": {
     "end_time": "2018-10-04T14:58:03.175854Z",
     "start_time": "2018-10-04T14:58:03.169833Z"
    }
   },
   "outputs": [],
   "source": [
    "results = pd.DataFrame(columns=[\"Model\", \"Test Accuracy\"])"
   ]
  },
  {
   "cell_type": "markdown",
   "metadata": {},
   "source": [
    "For now it is empty, but will be filled in later"
   ]
  },
  {
   "cell_type": "code",
   "execution_count": 20,
   "metadata": {
    "ExecuteTime": {
     "end_time": "2018-10-04T14:58:03.201920Z",
     "start_time": "2018-10-04T14:58:03.177855Z"
    }
   },
   "outputs": [
    {
     "data": {
      "text/html": [
       "<div>\n",
       "<style scoped>\n",
       "    .dataframe tbody tr th:only-of-type {\n",
       "        vertical-align: middle;\n",
       "    }\n",
       "\n",
       "    .dataframe tbody tr th {\n",
       "        vertical-align: top;\n",
       "    }\n",
       "\n",
       "    .dataframe thead th {\n",
       "        text-align: right;\n",
       "    }\n",
       "</style>\n",
       "<table border=\"1\" class=\"dataframe\">\n",
       "  <thead>\n",
       "    <tr style=\"text-align: right;\">\n",
       "      <th></th>\n",
       "      <th>Model</th>\n",
       "      <th>Test Accuracy</th>\n",
       "    </tr>\n",
       "  </thead>\n",
       "  <tbody>\n",
       "  </tbody>\n",
       "</table>\n",
       "</div>"
      ],
      "text/plain": [
       "Empty DataFrame\n",
       "Columns: [Model, Test Accuracy]\n",
       "Index: []"
      ]
     },
     "execution_count": 20,
     "metadata": {},
     "output_type": "execute_result"
    }
   ],
   "source": [
    "results"
   ]
  },
  {
   "cell_type": "markdown",
   "metadata": {},
   "source": [
    "## Defining model"
   ]
  },
  {
   "cell_type": "markdown",
   "metadata": {},
   "source": [
    "Let's try Multinomial Logistic Regression (see theory in lectures)\n",
    "Sklearn implementation of LogRegression implies mandatory usage of regularization (it almost always works better with it preventing overfitting). We want to explore very basic LogRegression model thus to \"disable\" regularization we need to reduce its impact to almost zero. It can be done by setting regularization constant $\\lambda$ to very small value (in sklearn we define inverse regularization constant $C = 1 / \\lambda$ thus we need to make it big)\n",
    "\n",
    "Here we use Sklearn $\\text{LogisticRegression}$ with few options:\n",
    "* $\\text{multi_class} = \\text{\"multinomial\"} -$we want to build softmax classifier (there are other ways of dealing with multiclass setting for Logistic Regression)\n",
    "* $\\text{C} = 10^6-$ for now we don't want to use regularization; $\\text{C}$ is the inverse regularization constant which is $\\text{C} = \\frac{1}{\\lambda}$; thus we should make $\\text{C}$ big to turn off regulazrization\n",
    "* $\\text{solver} = \\text{sag} -$ optimization algorithm to use; Stochastic Average Gradient. Stochastic Gradient Descent method gitters massively. This is due to the not very good approximation of gradient (only by one example). To neglect this error one can simply average gradient across last few steps; that is exectly what $\\text{sag}$ does\n",
    "* $\\text{max_iter} = 15 -$ the number of passes over the training data (aka epochs)"
   ]
  },
  {
   "cell_type": "code",
   "execution_count": 21,
   "metadata": {
    "ExecuteTime": {
     "end_time": "2018-10-04T14:58:03.206932Z",
     "start_time": "2018-10-04T14:58:03.203923Z"
    }
   },
   "outputs": [],
   "source": [
    "model_lr_sklearn = LogisticRegression(multi_class=\"multinomial\", C=1e6, solver=\"sag\", max_iter=15)"
   ]
  },
  {
   "cell_type": "markdown",
   "metadata": {},
   "source": [
    "### Fitting"
   ]
  },
  {
   "cell_type": "code",
   "execution_count": 22,
   "metadata": {
    "ExecuteTime": {
     "end_time": "2018-10-04T14:58:10.204069Z",
     "start_time": "2018-10-04T14:58:03.208946Z"
    }
   },
   "outputs": [
    {
     "name": "stderr",
     "output_type": "stream",
     "text": [
      "C:\\Users\\hv158\\AppData\\Local\\Continuum\\anaconda3\\lib\\site-packages\\sklearn\\linear_model\\sag.py:326: ConvergenceWarning: The max_iter was reached which means the coef_ did not converge\n",
      "  \"the coef_ did not converge\", ConvergenceWarning)\n"
     ]
    },
    {
     "data": {
      "text/plain": [
       "LogisticRegression(C=1000000.0, class_weight=None, dual=False,\n",
       "          fit_intercept=True, intercept_scaling=1, max_iter=15,\n",
       "          multi_class='multinomial', n_jobs=1, penalty='l2',\n",
       "          random_state=None, solver='sag', tol=0.0001, verbose=0,\n",
       "          warm_start=False)"
      ]
     },
     "execution_count": 22,
     "metadata": {},
     "output_type": "execute_result"
    }
   ],
   "source": [
    "model_lr_sklearn.fit(X_train, y_train)"
   ]
  },
  {
   "cell_type": "markdown",
   "metadata": {},
   "source": [
    "### Evaluation"
   ]
  },
  {
   "cell_type": "markdown",
   "metadata": {},
   "source": [
    "Prediction"
   ]
  },
  {
   "cell_type": "code",
   "execution_count": 23,
   "metadata": {
    "ExecuteTime": {
     "end_time": "2018-10-04T14:58:10.224122Z",
     "start_time": "2018-10-04T14:58:10.206120Z"
    }
   },
   "outputs": [],
   "source": [
    "y_pred_test = model_lr_sklearn.predict(X_test)"
   ]
  },
  {
   "cell_type": "markdown",
   "metadata": {},
   "source": [
    "Accuracy"
   ]
  },
  {
   "cell_type": "code",
   "execution_count": 24,
   "metadata": {
    "ExecuteTime": {
     "end_time": "2018-10-04T14:58:10.232143Z",
     "start_time": "2018-10-04T14:58:10.227130Z"
    }
   },
   "outputs": [],
   "source": [
    "acc = accuracy_score(y_test, y_pred_test)"
   ]
  },
  {
   "cell_type": "markdown",
   "metadata": {},
   "source": [
    "Keeping table of results up-to-date"
   ]
  },
  {
   "cell_type": "code",
   "execution_count": 25,
   "metadata": {
    "ExecuteTime": {
     "end_time": "2018-10-04T14:58:10.256207Z",
     "start_time": "2018-10-04T14:58:10.235151Z"
    }
   },
   "outputs": [
    {
     "data": {
      "text/html": [
       "<div>\n",
       "<style scoped>\n",
       "    .dataframe tbody tr th:only-of-type {\n",
       "        vertical-align: middle;\n",
       "    }\n",
       "\n",
       "    .dataframe tbody tr th {\n",
       "        vertical-align: top;\n",
       "    }\n",
       "\n",
       "    .dataframe thead th {\n",
       "        text-align: right;\n",
       "    }\n",
       "</style>\n",
       "<table border=\"1\" class=\"dataframe\">\n",
       "  <thead>\n",
       "    <tr style=\"text-align: right;\">\n",
       "      <th></th>\n",
       "      <th>Model</th>\n",
       "      <th>Test Accuracy</th>\n",
       "    </tr>\n",
       "  </thead>\n",
       "  <tbody>\n",
       "    <tr>\n",
       "      <th>0</th>\n",
       "      <td>LR Sklearn</td>\n",
       "      <td>0.359</td>\n",
       "    </tr>\n",
       "  </tbody>\n",
       "</table>\n",
       "</div>"
      ],
      "text/plain": [
       "        Model  Test Accuracy\n",
       "0  LR Sklearn          0.359"
      ]
     },
     "execution_count": 25,
     "metadata": {},
     "output_type": "execute_result"
    }
   ],
   "source": [
    "results.loc[len(results)] = [\"LR Sklearn\", np.round(acc, 3)]\n",
    "results"
   ]
  },
  {
   "cell_type": "markdown",
   "metadata": {},
   "source": [
    "Keeping table of results up-to-date"
   ]
  },
  {
   "cell_type": "markdown",
   "metadata": {},
   "source": [
    "# Assignments begin here"
   ]
  },
  {
   "cell_type": "markdown",
   "metadata": {},
   "source": [
    "# The Great Race\n",
    "\n",
    "## BG: Part 1: Pima Diabetes classification\n",
    "\n",
    "It is important to compare the performance of multiple different machine learning algorithms\n",
    "consistently. In this chapter you will discover how you can create a test harness to compare\n",
    "multiple different machine learning algorithms in Python with scikit-learn. You can use this\n",
    "test harness as a template on your own machine learning problems and add more and different\n",
    "algorithms to compare. After completing this lesson you will know:\n",
    "\n",
    "1. How to formulate an experiment to directly compare machine learning algorithms.\n",
    "2. A reusable template for evaluating the performance of multiple algorithms on one dataset.\n",
    "3. How to report and visualize the results when comparing algorithm performance.\n",
    "\n",
    "In the example below six different classification\n",
    "algorithms (some of which you will recognize!) are compared on a single dataset:\n",
    "\n",
    "*  Logistic Regression\n",
    "*  Linear Discriminant Analysis\n",
    "*  k-Nearest Neighbors\n",
    "*  Classification and Regression Trees\n",
    "*  Naive Bayes\n",
    "* Support Vector Machines.\n",
    "\n",
    "The dataset is the Pima Indians onset of diabetes problem. The problem has two classes and\n",
    "eight numeric input variables of varying scales. The 10-fold cross-validation procedure is used to\n",
    "evaluate each algorithm, importantly configured with the same random seed to ensure that the\n",
    "same splits to the training data are performed and that each algorithm is evaluated in precisely\n",
    "the same way. Each algorithm is given a short name, useful for summarizing results afterward."
   ]
  },
  {
   "cell_type": "markdown",
   "metadata": {},
   "source": [
    "### Cross-Validation"
   ]
  },
  {
   "cell_type": "markdown",
   "metadata": {},
   "source": [
    "The common method to evaluate the model is cross-validation. The idea behind it is to divide the whole set of objects into $k$ sections and then use one section as a test set and other $k-1$ as a train (repeat it with all the sections).\n",
    "\n",
    "There is a special function for this in sklearn called $\\text{KFold}$. It creates set of indices for cross-validation."
   ]
  },
  {
   "cell_type": "code",
   "execution_count": 26,
   "metadata": {
    "ExecuteTime": {
     "end_time": "2018-10-04T14:58:10.270245Z",
     "start_time": "2018-10-04T14:58:10.259215Z"
    }
   },
   "outputs": [],
   "source": [
    "#e.g., \n",
    "from sklearn.model_selection import KFold\n",
    "cv = KFold(n_splits=5, shuffle=True, random_state=42)"
   ]
  },
  {
   "cell_type": "markdown",
   "metadata": {},
   "source": [
    "Next step is to do everything that we've done before in a loop:\n",
    "* Split\n",
    "* Train\n",
    "* Evaluate\n",
    "\n",
    "And store the average value of the accuracy. Running the code below provides a list of each \"algorithm short name\", the mean accuracy and the standard deviation accuracy."
   ]
  },
  {
   "cell_type": "code",
   "execution_count": 27,
   "metadata": {
    "ExecuteTime": {
     "end_time": "2018-10-04T14:58:10.836569Z",
     "start_time": "2018-10-04T14:58:10.272250Z"
    }
   },
   "outputs": [
    {
     "name": "stdout",
     "output_type": "stream",
     "text": [
      "LR: 0.769515 (0.048411)\n",
      "LDA: 0.773462 (0.051592)\n",
      "KNN: 0.726555 (0.061821)\n",
      "CART: 0.688722 (0.063416)\n",
      "NB: 0.755178 (0.042766)\n",
      "SVM: 0.651025 (0.072141)\n"
     ]
    },
    {
     "data": {
      "image/png": "[encoded data removed]",
      "text/plain": [
       "<Figure size 432x288 with 1 Axes>"
      ]
     },
     "metadata": {},
     "output_type": "display_data"
    }
   ],
   "source": [
    "# Compare Algorithms\n",
    "from pandas import read_csv\n",
    "from matplotlib import pyplot\n",
    "from sklearn.model_selection import KFold\n",
    "from sklearn.model_selection import cross_val_score\n",
    "from sklearn.linear_model import LogisticRegression\n",
    "from sklearn.tree import DecisionTreeClassifier\n",
    "from sklearn.neighbors import KNeighborsClassifier\n",
    "from sklearn.discriminant_analysis import LinearDiscriminantAnalysis\n",
    "from sklearn.naive_bayes import GaussianNB\n",
    "from sklearn.svm import SVC\n",
    "# load dataset\n",
    "filename = 'data/pima-indians-diabetes.data.csv'\n",
    "names = ['preg', 'plas', 'pres', 'skin', 'test', 'mass', 'pedi', 'age', 'class']\n",
    "dataframe = read_csv(filename, names=names)\n",
    "array = dataframe.values\n",
    "X = array[:,0:8]\n",
    "Y = array[:,8]\n",
    "# prepare models\n",
    "models = []\n",
    "models.append(('LR', LogisticRegression()))\n",
    "models.append(('LDA', LinearDiscriminantAnalysis()))\n",
    "models.append(('KNN', KNeighborsClassifier()))\n",
    "models.append(('CART', DecisionTreeClassifier()))\n",
    "models.append(('NB', GaussianNB()))\n",
    "models.append(('SVM', SVC()))\n",
    "\n",
    "# evaluate each model in turn\n",
    "results = []\n",
    "names = []\n",
    "scoring = 'accuracy'\n",
    "#Standardize the data\n",
    "for name, model in models:\n",
    "    kfold = KFold(n_splits=10, random_state=7)\n",
    "    cv_results = cross_val_score(model, X, Y, cv=kfold, scoring=scoring)\n",
    "    results.append(cv_results)\n",
    "    names.append(name)\n",
    "    msg = \"%s: %f (%f)\" % (name, cv_results.mean(), cv_results.std())\n",
    "    print(msg)\n",
    "    \n",
    "\n",
    "# boxplot algorithm comparison\n",
    "fig = pyplot.figure()\n",
    "fig.suptitle('Classification Algorithm Comparison')\n",
    "ax = fig.add_subplot(111)\n",
    "pyplot.boxplot(results)\n",
    "ax.set_xticklabels(names)\n",
    "pyplot.grid()\n",
    "pyplot.show()"
   ]
  },
  {
   "cell_type": "markdown",
   "metadata": {},
   "source": [
    "Above we produced a box and whisker plot showing the spread of the accuracy scores\n",
    "across each cross-validation fold for each algorithm.\n",
    "\n",
    "From these results, it would suggest that both logistic regression and linear discriminant\n",
    "analysis are perhaps worthy of further study on this problem."
   ]
  },
  {
   "cell_type": "markdown",
   "metadata": {},
   "source": [
    "## Task: CIFAR10 Great Race \n",
    "Repeat the above RACE for the CIFAR10 dataset and draw some conclusions. \n",
    "\n",
    "__ALLOW 8-10 HOURS TO RUN THIS TASK.__"
   ]
  },
  {
   "cell_type": "code",
   "execution_count": 28,
   "metadata": {
    "ExecuteTime": {
     "end_time": "2018-10-04T14:58:10.843590Z",
     "start_time": "2018-10-04T14:58:10.839579Z"
    }
   },
   "outputs": [
    {
     "data": {
      "text/plain": [
       "(5000, 3072)"
      ]
     },
     "execution_count": 28,
     "metadata": {},
     "output_type": "execute_result"
    }
   ],
   "source": [
    "# confirm you are using a .10 sub-sample (5000 training samples)\n",
    "X_train.shape"
   ]
  },
  {
   "cell_type": "code",
   "execution_count": 37,
   "metadata": {
    "ExecuteTime": {
     "end_time": "2018-10-04T15:06:39.400444Z",
     "start_time": "2018-10-04T15:06:39.392423Z"
    }
   },
   "outputs": [],
   "source": [
    "# Compare Algorithms\n",
    "from pandas import read_csv\n",
    "from matplotlib import pyplot\n",
    "from sklearn.model_selection import KFold\n",
    "from sklearn.model_selection import cross_val_score\n",
    "from sklearn.linear_model import LogisticRegression\n",
    "from sklearn.tree import DecisionTreeClassifier\n",
    "from sklearn.neighbors import KNeighborsClassifier\n",
    "from sklearn.discriminant_analysis import LinearDiscriminantAnalysis\n",
    "from sklearn.naive_bayes import GaussianNB\n",
    "from sklearn.svm import SVC\n",
    "# load dataset\n",
    "#filename = 'data/pima-indians-diabetes.data.csv'\n",
    "#names = ['preg', 'plas', 'pres', 'skin', 'test', 'mass', 'pedi', 'age', 'class']\n",
    "#dataframe = read_csv(filename, names=names)\n",
    "#array = dataframe.values\n",
    "#X = array[:,0:8]\n",
    "#Y = array[:,8]\n",
    "X_race = X_train\n",
    "y_race = y_train\n",
    "# prepare models\n",
    "models_race = []\n",
    "models_race.append(('LR', LogisticRegression()))\n",
    "models_race.append(('LDA', LinearDiscriminantAnalysis()))\n",
    "models_race.append(('KNN', KNeighborsClassifier()))\n",
    "models_race.append(('CART', DecisionTreeClassifier()))\n",
    "models_race.append(('NB', GaussianNB()))\n",
    "models_race.append(('SVM', SVC()))"
   ]
  },
  {
   "cell_type": "code",
   "execution_count": 38,
   "metadata": {
    "ExecuteTime": {
     "end_time": "2018-10-04T16:56:09.840258Z",
     "start_time": "2018-10-04T15:06:42.139879Z"
    }
   },
   "outputs": [
    {
     "name": "stdout",
     "output_type": "stream",
     "text": [
      "LR: 0.224000 (0.016273)\n"
     ]
    },
    {
     "name": "stderr",
     "output_type": "stream",
     "text": [
      "C:\\Users\\hv158\\AppData\\Local\\Continuum\\anaconda3\\lib\\site-packages\\sklearn\\discriminant_analysis.py:442: UserWarning: The priors do not sum to 1. Renormalizing\n",
      "  UserWarning)\n",
      "C:\\Users\\hv158\\AppData\\Local\\Continuum\\anaconda3\\lib\\site-packages\\sklearn\\discriminant_analysis.py:442: UserWarning: The priors do not sum to 1. Renormalizing\n",
      "  UserWarning)\n",
      "C:\\Users\\hv158\\AppData\\Local\\Continuum\\anaconda3\\lib\\site-packages\\sklearn\\discriminant_analysis.py:442: UserWarning: The priors do not sum to 1. Renormalizing\n",
      "  UserWarning)\n"
     ]
    },
    {
     "name": "stdout",
     "output_type": "stream",
     "text": [
      "LDA: 0.176200 (0.016086)\n",
      "KNN: 0.274600 (0.011526)\n",
      "CART: 0.210400 (0.023678)\n",
      "NB: 0.293200 (0.019904)\n",
      "SVM: 0.079200 (0.006145)\n"
     ]
    }
   ],
   "source": [
    "# evaluate each model in turn\n",
    "results_race = []\n",
    "names_race = []\n",
    "scoring = 'accuracy'\n",
    "#Standardize the data\n",
    "for name, model in models_race:\n",
    "    kfold_race = KFold(n_splits=10,random_state=42)\n",
    "    cv_results_race = cross_val_score(model, X_race, y_race, cv=kfold_race, scoring=scoring)\n",
    "    results_race.append(cv_results_race)\n",
    "    names_race.append(name)\n",
    "    msg_race = \"%s: %f (%f)\" % (name, cv_results_race.mean(), cv_results_race.std())\n",
    "    print(msg_race)"
   ]
  },
  {
   "cell_type": "code",
   "execution_count": 40,
   "metadata": {
    "ExecuteTime": {
     "end_time": "2018-10-04T18:46:41.247888Z",
     "start_time": "2018-10-04T18:46:41.132582Z"
    }
   },
   "outputs": [
    {
     "data": {
      "image/png": "[encoded data removed]",
      "text/plain": [
       "<Figure size 432x288 with 1 Axes>"
      ]
     },
     "metadata": {},
     "output_type": "display_data"
    }
   ],
   "source": [
    "# boxplot algorithm comparison\n",
    "fig = pyplot.figure()\n",
    "fig.suptitle('Classification Algorithm Comparison')\n",
    "ax = fig.add_subplot(111)\n",
    "pyplot.boxplot(results)\n",
    "ax.set_xticklabels(names)\n",
    "pyplot.grid()\n",
    "pyplot.show()"
   ]
  },
  {
   "cell_type": "markdown",
   "metadata": {},
   "source": [
    "### Discussion\n",
    "\n",
    "Above boxplot shows accuracies for various algorithms on CIFAR-10 dataset. SVM seems to be the worst performer. and LinearDiscriminantAnalysis and Logistic Regression looks to be predicting with better accuracies. However LinearDiscriminantAnalysis looks to have larger outliers on lower side."
   ]
  },
  {
   "cell_type": "markdown",
   "metadata": {},
   "source": [
    "# Background: HyperParameter tuning on steroids\n",
    "\n",
    "Machine learning models are parameterized so that their behavior can be tuned for a given problem. Models can have many parameters and finding the best combination of parameters can be treated as a search problem. In this section you will discover how to tune the parameters of machine learning algorithms in Python using the scikit-learn.\n",
    "\n",
    "Grid search is an approach to parameter tuning that will methodically build and evaluate a model for each combination of algorithm parameters specified in a grid. You can perform a grid search using the GridSearchCV class1. \n",
    "In this section we will focus on setting up a pipeline for text classifiction, though it can be adapted to any machine learning problem."
   ]
  },
  {
   "cell_type": "markdown",
   "metadata": {},
   "source": [
    "## Pima Indian Grid search\n",
    "The example below evaluates different alpha values for the Ridge Regression/LASSO algorithm on the Pima Diabetes binary classifiction data. This is a one-dimensional grid search.\n"
   ]
  },
  {
   "cell_type": "code",
   "execution_count": 42,
   "metadata": {
    "ExecuteTime": {
     "end_time": "2018-10-04T19:30:59.965265Z",
     "start_time": "2018-10-04T19:30:59.920146Z"
    }
   },
   "outputs": [
    {
     "name": "stdout",
     "output_type": "stream",
     "text": [
      "0.27961755931297233\n",
      "1.0\n"
     ]
    }
   ],
   "source": [
    "# Grid Search for Algorithm Tuning\n",
    "import numpy\n",
    "from pandas import read_csv\n",
    "from sklearn.linear_model import Ridge\n",
    "from sklearn.model_selection import GridSearchCV\n",
    "filename = 'pima-indians-diabetes.data.csv'\n",
    "names = ['preg', 'plas', 'pres', 'skin', 'test', 'mass', 'pedi', 'age', 'class']\n",
    "dataframe = read_csv(filename, names=names)\n",
    "array = dataframe.values\n",
    "X = array[:,0:8]\n",
    "Y = array[:,8]\n",
    "alphas = numpy.array([1,0.1,0.01,0.001,0.0001,0])\n",
    "param_grid = dict(alpha=alphas)\n",
    "model = Ridge()\n",
    "grid = GridSearchCV(estimator=model, param_grid=param_grid)\n",
    "grid.fit(X, Y)\n",
    "print(grid.best_score_)\n",
    "print(grid.best_estimator_.alpha)"
   ]
  },
  {
   "cell_type": "markdown",
   "metadata": {},
   "source": [
    "## Sample pipeline for text feature extraction and evaluation\n",
    "\n",
    "\n",
    "The dataset used in this example is the 20 newsgroups dataset which will be\n",
    "automatically downloaded and then cached and reused for the document\n",
    "classification example.\n",
    "\n",
    "<PRE>\n",
    ">>> from sklearn.datasets import fetch_20newsgroups\n",
    ">>> newsgroups_train = fetch_20newsgroups(subset='train')\n",
    "\n",
    ">>> from pprint import pprint\n",
    ">>> pprint(list(newsgroups_train.target_names))\n",
    "['alt.atheism',\n",
    " 'comp.graphics',\n",
    " 'comp.os.ms-windows.misc',\n",
    " 'comp.sys.ibm.pc.hardware',\n",
    " 'comp.sys.mac.hardware',\n",
    " 'comp.windows.x',\n",
    " 'misc.forsale',\n",
    " 'rec.autos',\n",
    " 'rec.motorcycles',\n",
    " 'rec.sport.baseball',\n",
    " 'rec.sport.hockey',\n",
    " 'sci.crypt',\n",
    " 'sci.electronics',\n",
    " 'sci.med',\n",
    " 'sci.space',\n",
    " 'soc.religion.christian',\n",
    " 'talk.politics.guns',\n",
    " 'talk.politics.mideast',\n",
    " 'talk.politics.misc',\n",
    " 'talk.religion.misc']\n",
    "</PRE>\n",
    "You can adjust the number of categories by giving their names to the dataset\n",
    "loader or setting them to None to get the 20 of them.\n",
    "\n",
    "Here is a sample output of a run on a quad-core machine::\n",
    "\n",
    "<PRE>  Loading 20 newsgroups dataset for categories:\n",
    "  ['alt.atheism', 'talk.religion.misc']\n",
    "  1427 documents\n",
    "  2 categories\n",
    "  \n",
    "  \n",
    "  Performing grid search...\n",
    "  pipeline: ['vect', 'tfidf', 'clf']\n",
    "  parameters:\n",
    "  {'clf__alpha': (1.0000000000000001e-05, 9.9999999999999995e-07),\n",
    "   'clf__n_iter': (10, 50, 80),\n",
    "   'clf__penalty': ('l2', 'elasticnet'),\n",
    "   'tfidf__use_idf': (True, False),\n",
    "   'vect__max_n': (1, 2),\n",
    "   'vect__max_df': (0.5, 0.75, 1.0),\n",
    "   'vect__max_features': (None, 5000, 10000, 50000)}\n",
    "  done in 1737.030s\n",
    "\n",
    "  Best score: 0.940\n",
    "  Best parameters set:\n",
    "      clf__alpha: 9.9999999999999995e-07\n",
    "      clf__n_iter: 50\n",
    "      clf__penalty: 'elasticnet'\n",
    "      tfidf__use_idf: True\n",
    "      vect__max_n: 2\n",
    "      vect__max_df: 0.75\n",
    "      vect__max_features: 50000\n",
    "</PRE>"
   ]
  },
  {
   "cell_type": "markdown",
   "metadata": {},
   "source": [
    "## From documents to a \"document by term\" frequency matrix  "
   ]
  },
  {
   "cell_type": "markdown",
   "metadata": {},
   "source": [
    "Convert a set of  documents to a \"document by term\" frequency matrix\n",
    "\n",
    "The following corpus: \n",
    "\n",
    "`corpus = [\n",
    "    'This is the first document.',\n",
    "    'This is the second second document.',\n",
    "    'And the third one.',\n",
    "    'Is this the first document?',\n",
    "]`\n",
    "\n",
    "gets converted to a \"document by term\" frequency matrix\n",
    "\n",
    "`array([[0, 1, 1, 1, 0, 0, 1, 0, 1],\n",
    "       [0, 1, 0, 1, 0, 2, 1, 0, 1],\n",
    "       [1, 0, 0, 0, 1, 0, 1, 1, 0],\n",
    "       [0, 1, 1, 1, 0, 0, 1, 0, 1]]\n",
    "       `\n",
    "\n",
    "where the 9 columns are labeled with the following 9 words extracted:\n",
    "\n",
    "`['and', 'document', 'first', 'is', 'one',\n",
    "      'second', 'the', 'third', 'this']`\n",
    "      \n",
    "By default, words of length 2 characters or more a kept as the vocabulary.\n",
    "\n",
    "For more details see (here)[http://scikit-learn.org/stable/modules/feature_extraction.html]"
   ]
  },
  {
   "cell_type": "code",
   "execution_count": 43,
   "metadata": {
    "ExecuteTime": {
     "end_time": "2018-10-04T19:33:59.518302Z",
     "start_time": "2018-10-04T19:33:59.514291Z"
    }
   },
   "outputs": [],
   "source": [
    "# Let’s use the following corpus (text dataset).\n",
    "corpus = [\n",
    "    'This is the first document.',\n",
    "    'This is the second second document.',\n",
    "    'And the third one.',\n",
    "    'Is this the first document?',\n",
    "]"
   ]
  },
  {
   "cell_type": "code",
   "execution_count": 44,
   "metadata": {
    "ExecuteTime": {
     "end_time": "2018-10-04T19:34:10.508409Z",
     "start_time": "2018-10-04T19:34:10.443219Z"
    }
   },
   "outputs": [
    {
     "data": {
      "text/plain": [
       "<4x9 sparse matrix of type '<class 'numpy.int64'>'\n",
       "\twith 19 stored elements in Compressed Sparse Row format>"
      ]
     },
     "execution_count": 44,
     "metadata": {},
     "output_type": "execute_result"
    }
   ],
   "source": [
    "#CountVectorizer implements both tokenization and occurrence counting in a single class:\n",
    "from sklearn.feature_extraction.text import CountVectorizer\n",
    "\n",
    "# Here we will tokenize and count the word occurrences of this minimalistic corpus of text documents:\n",
    "vectorizer = CountVectorizer() \n",
    "X = vectorizer.fit_transform(corpus)\n",
    "X                              \n",
    "#<4x9 sparse matrix of type '<... 'numpy.int64'>'\n",
    "#    with 19 stored elements in Compressed Sparse ... format>"
   ]
  },
  {
   "cell_type": "code",
   "execution_count": 45,
   "metadata": {
    "ExecuteTime": {
     "end_time": "2018-10-04T19:34:55.172674Z",
     "start_time": "2018-10-04T19:34:55.167660Z"
    }
   },
   "outputs": [
    {
     "data": {
      "text/plain": [
       "True"
      ]
     },
     "execution_count": 45,
     "metadata": {},
     "output_type": "execute_result"
    }
   ],
   "source": [
    "# The default configuration tokenizes the string by extracting words of at least 2 \n",
    "# letters. The specific function that does this step can be requested explicitly:  \n",
    "analyze = vectorizer.build_analyzer()\n",
    "analyze(\"This is a text document to analyze.\") == (\n",
    "    ['this', 'is', 'text', 'document', 'to', 'analyze'])"
   ]
  },
  {
   "cell_type": "code",
   "execution_count": 46,
   "metadata": {
    "ExecuteTime": {
     "end_time": "2018-10-04T19:34:58.590520Z",
     "start_time": "2018-10-04T19:34:58.586510Z"
    }
   },
   "outputs": [
    {
     "data": {
      "text/plain": [
       "True"
      ]
     },
     "execution_count": 46,
     "metadata": {},
     "output_type": "execute_result"
    }
   ],
   "source": [
    "vectorizer.get_feature_names() == (\n",
    "     ['and', 'document', 'first', 'is', 'one',\n",
    "      'second', 'the', 'third', 'this'])"
   ]
  },
  {
   "cell_type": "code",
   "execution_count": 47,
   "metadata": {
    "ExecuteTime": {
     "end_time": "2018-10-04T19:35:01.537503Z",
     "start_time": "2018-10-04T19:35:01.532489Z"
    }
   },
   "outputs": [
    {
     "data": {
      "text/plain": [
       "array([[0, 1, 1, 1, 0, 0, 1, 0, 1],\n",
       "       [0, 1, 0, 1, 0, 2, 1, 0, 1],\n",
       "       [1, 0, 0, 0, 1, 0, 1, 1, 0],\n",
       "       [0, 1, 1, 1, 0, 0, 1, 0, 1]], dtype=int64)"
      ]
     },
     "execution_count": 47,
     "metadata": {},
     "output_type": "execute_result"
    }
   ],
   "source": [
    "X.toarray()     #recover document by term frequency matrix        \n",
    "#array([[0, 1, 1, 1, 0, 0, 1, 0, 1],\n",
    "#       [0, 1, 0, 1, 0, 2, 1, 0, 1],\n",
    "#       [1, 0, 0, 0, 1, 0, 1, 1, 0],\n",
    "#       [0, 1, 1, 1, 0, 0, 1, 0, 1]]...)"
   ]
  },
  {
   "cell_type": "markdown",
   "metadata": {},
   "source": [
    "## Text classification pipeline"
   ]
  },
  {
   "cell_type": "markdown",
   "metadata": {},
   "source": [
    "Note below we use a generic Linear classifier class, SGDClassifier.  Here different classifiers can be engaged by specifying different loss fucntions. Here are some of the options (note we will focus on Logistic regression that is engaged thru specifying the loss as `'log'`:\n",
    "\n",
    "\n",
    "`loss : str, default: ‘hinge’\n",
    "\n",
    "The loss function to be used. Defaults to ‘hinge’, which gives a linear SVM.\n",
    "\n",
    "The possible options are ‘hinge’, ‘log’, ‘modified_huber’, ‘squared_hinge’, ‘perceptron’, or a regression loss: ‘squared_loss’, ‘huber’, ‘epsilon_insensitive’, or ‘squared_epsilon_insensitive’.\n",
    "\n",
    "The ‘log’ loss gives logistic regression, a probabilistic classifier. ‘modified_huber’ is another smooth loss that brings tolerance to outliers as well as probability estimates. ‘squared_hinge’ is like hinge but is quadratically penalized. ‘perceptron’ is the linear loss used by the perceptron algorithm. The other losses are designed for regression but can be useful in classification as well; see SGDRegressor for a description.`"
   ]
  },
  {
   "cell_type": "markdown",
   "metadata": {},
   "source": [
    "### EDA on 20 newsgroups dataset\n",
    "\n",
    "The 20 newsgroups dataset has 11314 training examples, 7532 test cases.\n",
    "\n",
    "\n",
    "#### Training Set"
   ]
  },
  {
   "cell_type": "code",
   "execution_count": 1,
   "metadata": {
    "ExecuteTime": {
     "end_time": "2018-10-15T14:30:59.434913Z",
     "start_time": "2018-10-15T14:30:56.788182Z"
    }
   },
   "outputs": [
    {
     "name": "stdout",
     "output_type": "stream",
     "text": [
      "Loading 20 newsgroups dataset for categories:\n",
      "None\n",
      "11314 documents\n",
      "20 categories\n",
      "\n",
      "Sample document Target Class comp.graphics\n",
      "Sample document body From: guykuo@carson.u.washington.edu (Guy Kuo)\n",
      "Subject: SI Clock Poll - Final Call\n",
      "Summary: Final call for SI clock reports\n",
      "Keywords: SI,acceleration,clock,upgrade\n",
      "Article-I.D.: shelley.1qvfo9INNc3s\n",
      "Organization: University of Washington\n",
      "Lines: 11\n",
      "NNTP-Posting-Host: carson.u.washington.edu\n",
      "\n",
      "A fair number of brave souls who upgraded their SI clock oscillator have\n",
      "shared their experiences for this poll. Please send a brief message detailing\n",
      "your experiences with the procedure. Top speed attained, CPU rated speed,\n",
      "add on cards and adapters, heat sinks, hour of usage per day, floppy disk\n",
      "functionality with 800 and 1.4 m floppies are especially requested.\n",
      "\n",
      "I will be summarizing in the next two days, so please add to the network\n",
      "knowledge base if you have done the clock upgrade and haven't answered this\n",
      "poll. Thanks.\n",
      "\n",
      "Guy Kuo <guykuo@u.washington.edu>\n",
      "\n",
      "11314\n"
     ]
    }
   ],
   "source": [
    "from sklearn.datasets import fetch_20newsgroups\n",
    "# Uncomment the following to do the analysis on all the categories\n",
    "categories = None\n",
    "\n",
    "print(\"Loading 20 newsgroups dataset for categories:\")\n",
    "print(categories)\n",
    "\n",
    "trainData = fetch_20newsgroups(subset='train', categories=categories)\n",
    "data = trainData\n",
    "print(\"%d documents\" % len(data.filenames))\n",
    "print(\"%d categories\" % len(data.target_names))\n",
    "print()\n",
    "print(\"Sample document Target Class\", data.target_names[1], )\n",
    "print(\"Sample document body\", data.data[1], )\n",
    "print(len(data.data))"
   ]
  },
  {
   "cell_type": "markdown",
   "metadata": {},
   "source": [
    "#### Test Set"
   ]
  },
  {
   "cell_type": "code",
   "execution_count": 2,
   "metadata": {
    "ExecuteTime": {
     "end_time": "2018-10-15T14:31:07.462006Z",
     "start_time": "2018-10-15T14:31:07.232222Z"
    }
   },
   "outputs": [
    {
     "name": "stdout",
     "output_type": "stream",
     "text": [
      "None\n",
      "7532 documents\n",
      "20 categories\n",
      "\n",
      "Sample document Target Class [comp.graphics]\n",
      "Sample document body From: Rick Miller <rick@ee.uwm.edu>\n",
      "Subject: X-Face?\n",
      "Organization: Just me.\n",
      "Lines: 17\n",
      "Distribution: world\n",
      "NNTP-Posting-Host: 129.89.2.33\n",
      "Summary: Go ahead... swamp me.  <EEP!>\n",
      "\n",
      "I'm not familiar at all with the format of these \"X-Face:\" thingies, but\n",
      "after seeing them in some folks' headers, I've *got* to *see* them (and\n",
      "maybe make one of my own)!\n",
      "\n",
      "I've got \"dpg-view\" on my Linux box (which displays \"uncompressed X-Faces\")\n",
      "and I've managed to compile [un]compface too... but now that I'm *looking*\n",
      "for them, I can't seem to find any X-Face:'s in anyones news headers!  :-(\n",
      "\n",
      "Could you, would you, please send me your \"X-Face:\" header?\n",
      "\n",
      "I *know* I'll probably get a little swamped, but I can handle it.\n",
      "\n",
      "\t...I hope.\n",
      "\n",
      "Rick Miller  <rick@ee.uwm.edu> | <ricxjo@discus.mil.wi.us>   Ricxjo Muelisto\n",
      "Send a postcard, get one back! | Enposxtigu bildkarton kaj vi ricevos alion!\n",
      "          RICK MILLER // 16203 WOODS // MUSKEGO, WIS. 53150 // USA\n",
      "\n",
      "7532\n"
     ]
    }
   ],
   "source": [
    "print(categories)\n",
    "testData = fetch_20newsgroups(subset='test', categories=categories)\n",
    "data = testData\n",
    "print(\"%d documents\" % len(data.filenames))\n",
    "print(\"%d categories\" % len(data.target_names))\n",
    "print()\n",
    "print(\"Sample document Target Class [%s]\"% data.target_names[1], )\n",
    "print(\"Sample document body\", data.data[1], )\n",
    "print(len(data.data))"
   ]
  },
  {
   "cell_type": "code",
   "execution_count": 3,
   "metadata": {
    "ExecuteTime": {
     "end_time": "2018-10-15T14:31:15.056969Z",
     "start_time": "2018-10-15T14:31:15.052959Z"
    }
   },
   "outputs": [
    {
     "name": "stdout",
     "output_type": "stream",
     "text": [
      "Number of (Train, Test) data (11314, 7532)\n"
     ]
    }
   ],
   "source": [
    "print(\"Number of (Train, Test) data (%d, %d)\" %(len(trainData.data),  len(testData.data) ))"
   ]
  },
  {
   "cell_type": "code",
   "execution_count": 4,
   "metadata": {
    "ExecuteTime": {
     "end_time": "2018-10-05T04:20:16.018259Z",
     "start_time": "2018-10-05T04:19:16.247949Z"
    }
   },
   "outputs": [
    {
     "name": "stdout",
     "output_type": "stream",
     "text": [
      "Automatically created module for IPython interactive environment\n",
      "Loading 20 newsgroups dataset for categories:\n",
      "None\n",
      "11314 documents\n",
      "20 categories\n",
      "\n",
      "Performing grid search...\n",
      "pipeline: ['vect', 'clf']\n",
      "parameters:\n",
      "{'clf__alpha': (1e-05, 1e-06), 'clf__penalty': ('l1', 'l2', 'elasticnet')}\n",
      "Fitting 3 folds for each of 6 candidates, totalling 18 fits\n"
     ]
    },
    {
     "name": "stderr",
     "output_type": "stream",
     "text": [
      "[Parallel(n_jobs=-1)]: Done  14 out of  18 | elapsed:   40.0s remaining:   11.4s\n",
      "[Parallel(n_jobs=-1)]: Done  18 out of  18 | elapsed:   43.8s finished\n"
     ]
    },
    {
     "name": "stdout",
     "output_type": "stream",
     "text": [
      "done in 55.651s\n",
      "\n",
      "Best score: 0.812\n",
      "Best parameters set:\n",
      "\tclf__alpha: 1e-06\n",
      "\tclf__penalty: 'l1'\n"
     ]
    }
   ],
   "source": [
    "# This code is adopted  and has been modified from \n",
    "#\n",
    "# Author: Olivier Grisel <olivier.grisel@ensta.org>\n",
    "#         Peter Prettenhofer <peter.prettenhofer@gmail.com>\n",
    "#         Mathieu Blondel <mathieu@mblondel.org>\n",
    "# License: BSD 3 clause\n",
    "\n",
    "from __future__ import print_function\n",
    "\n",
    "from pprint import pprint\n",
    "from time import time\n",
    "import logging\n",
    "\n",
    "from sklearn.datasets import fetch_20newsgroups\n",
    "from sklearn.feature_extraction.text import CountVectorizer\n",
    "from sklearn.feature_extraction.text import TfidfTransformer\n",
    "from sklearn.linear_model import SGDClassifier\n",
    "from sklearn.model_selection import GridSearchCV\n",
    "from sklearn.pipeline import Pipeline\n",
    "%matplotlib inline\n",
    "\n",
    "print(__doc__)\n",
    "\n",
    "# Display progress logs on stdout\n",
    "logging.basicConfig(level=logging.INFO,\n",
    "                    format='%(asctime)s %(levelname)s %(message)s')\n",
    "\n",
    "\n",
    "# #############################################################################\n",
    "# Load some categories from the training set \n",
    "categories = [\n",
    "    'alt.atheism',\n",
    "    'talk.religion.misc',\n",
    "]\n",
    "# Uncomment the following to do the analysis on all the categories\n",
    "categories = None\n",
    "\n",
    "print(\"Loading 20 newsgroups dataset for categories:\")\n",
    "print(categories)\n",
    "\n",
    "data = fetch_20newsgroups(subset='train', categories=categories)\n",
    "print(\"%d documents\" % len(data.filenames))\n",
    "print(\"%d categories\" % len(data.target_names))\n",
    "print()\n",
    "\n",
    "# #############################################################################\n",
    "# Define a pipeline combining a text feature extractor with a simple\n",
    "# classifier\n",
    "pipeline = Pipeline([\n",
    "    ('vect', CountVectorizer()),  #http://scikit-learn.org/stable/modules/feature_extraction.html\n",
    "    #('tfidf', TfidfTransformer()), #ignore for now\n",
    "    ('clf', SGDClassifier(loss='log', max_iter=5)),  #let's use logistic regression\n",
    "])\n",
    "\n",
    "# uncommenting more parameters will give better exploring power but will\n",
    "# increase processing time in a combinatorial way\n",
    "parameters = { #listed in the form of \"step__parameter\", e.g, clf__penalty\n",
    "    #'vect__max_df': (0.5, 0.75, 1.0),\n",
    "    # jgs 'vect__max_features': (None, 500, 5000, 10000, 50000),\n",
    "    # jgs 'vect__ngram_range': ((1, 1), (1, 2)),  # unigrams (single words) or bigrams (or sequence of words of length 2)\n",
    "    #'tfidf__use_idf': (True, False),\n",
    "    #'tfidf__norm': ('l1', 'l2'),\n",
    "    'clf__alpha': (0.00001, 0.000001),\n",
    "    'clf__penalty': ('l1', 'l2', 'elasticnet'),\n",
    "    #'clf__penalty': ('l1', 'l2', 'elasticnet'),\n",
    "    #'clf__loss': ('log', 'hinge'),  #hinge linear SVM\n",
    "    #'clf__n_iter': (10, 50, 80),\n",
    "}\n",
    "\n",
    "if __name__ == \"__main__\":\n",
    "    # multiprocessing requires the fork to happen in a __main__ protected\n",
    "    # block\n",
    "\n",
    "    # find the best parameters for both the feature extraction and the\n",
    "    # classifier\n",
    "    # n_jobs=-1 means that the computation will be dispatched on all the CPUs of the computer.\n",
    "    #\n",
    "    # By default, the GridSearchCV uses a 3-fold cross-validation. However, if it \n",
    "    #            detects that a classifier is passed, rather than a regressor, it uses a stratified 3-fold.\n",
    "    grid_search = GridSearchCV(pipeline, parameters, cv=3, n_jobs=-1, verbose=1)\n",
    "\n",
    "    print(\"Performing grid search...\")\n",
    "    print(\"pipeline:\", [name for name, _ in pipeline.steps])\n",
    "    print(\"parameters:\")\n",
    "    pprint(parameters)\n",
    "    t0 = time()\n",
    "    grid_search.fit(data.data, data.target)\n",
    "    print(\"done in %0.3fs\" % (time() - t0))\n",
    "    print()\n",
    "    #print(\"grid_search.cv_results_\", grid_search.cv_results_)\n",
    "    #estimator : estimator object. This is assumed to implement the scikit-learn estimator interface.  \n",
    "    #            Either estimator needs to provide a score function, or scoring must be passed.\n",
    "    #Accuracy is the default for classification; feel free to change this to precision, recall, fbeta\n",
    "    print(\"Best score: %0.3f\" % grid_search.best_score_)\n",
    "    print(\"Best parameters set:\")\n",
    "    best_parameters = grid_search.best_estimator_.get_params()\n",
    "    for param_name in sorted(parameters.keys()):\n",
    "        print(\"\\t%s: %r\" % (param_name, best_parameters[param_name]))"
   ]
  },
  {
   "cell_type": "markdown",
   "metadata": {},
   "source": [
    "## Confusion matrices\n",
    "A confusion matrix is a table that is often used to describe the performance of a classification model (or \"classifier\") on a set of test data for which the true values are known. The confusion matrix itself is relatively simple to understand, but the related terminology can be confusing.\n",
    "\n",
    "Let's start with an example confusion matrix for a binary classifier (though it can easily be extended to the case of more than two classes):\n",
    "\n",
    "<img src=\"attachment:image.png\" alt=\"Drawing\" style=\"width: =300px;\"/>\n",
    "\n",
    "What can we learn from this matrix?\n",
    "\n",
    "* There are two possible predicted classes: \"yes\" and \"no\". If we were predicting the presence of a disease, for example, \"yes\" would mean they have the disease, and \"no\" would mean they don't have the disease.\n",
    "* The classifier made a total of 165 predictions (e.g., 165 patients were being tested for the presence of that disease).\n",
    "* Out of those 165 cases, the classifier predicted \"yes\" 110 times, and \"no\" 55 times.\n",
    "* In reality, 105 patients in the sample have the disease, and 60 patients do not.\n",
    "\n",
    "Let's now define the most basic terms, which are whole numbers (not rates):\n",
    "\n",
    "* true positives (TP): These are cases in which we predicted yes (they have the disease), and they do have the disease.\n",
    "* true negatives (TN): We predicted no, and they don't have the disease.\n",
    "* false positives (FP): We predicted yes, but they don't actually have the disease. (Also known as a \"Type I error.\")\n",
    "* false negatives (FN): We predicted no, but they actually do have the disease. (Also known as a \"Type II error.\")\n",
    "\n",
    "I've added these terms to the confusion matrix, and also added the row and column totals:"
   ]
  },
  {
   "cell_type": "markdown",
   "metadata": {},
   "source": [
    "<img src=\"attachment:image.png\" alt=\"Drawing\" style=\"width: =300px;\"/>\n",
    "\n",
    "This is a list of rates that are often computed from a confusion matrix for a binary classifier:\n",
    "\n",
    "* Accuracy: Overall, how often is the classifier correct?\n",
    "  * (TP+TN)/total = (100+50)/165 = 0.91\n",
    "* Misclassification Rate: Overall, how often is it wrong?\n",
    "  * (FP+FN)/total = (10+5)/165 = 0.09\n",
    "  * equivalent to 1 minus Accuracy\n",
    "  * also known as \"Error Rate\"\n",
    "* True Positive Rate: When it's actually yes, how often does it predict yes?\n",
    "  * TP/actual yes = 100/105 = 0.95\n",
    "  * also known as \"Sensitivity\" or \"Recall\"\n",
    "* False Positive Rate: When it's actually no, how often does it predict yes?\n",
    "  * FP/actual no = 10/60 = 0.17\n",
    "  * Specificity: When it's actually no, how often does it predict no?\n",
    "* TN/actual no = 50/60 = 0.83\n",
    "  * equivalent to 1 minus False Positive Rate\n",
    "* Precision: When it predicts yes, how often is it correct?\n",
    "  * TP/predicted yes = 100/110 = 0.91\n",
    "* Prevalence: How often does the yes condition actually occur in our sample?\n",
    "  * actual yes/total = 105/165 = 0.64"
   ]
  },
  {
   "cell_type": "markdown",
   "metadata": {},
   "source": [
    "## Example confusion matrix for the Iris Data"
   ]
  },
  {
   "cell_type": "code",
   "execution_count": 21,
   "metadata": {
    "collapsed": true
   },
   "outputs": [],
   "source": [
    "#Please do NOT run these cells\n",
    "#See labs for this unit for more details of this\n",
    "cm_train = confusion_matrix(y_train, preds_train).astype(np.float32)\n",
    "cm_train /= cm_train.sum(axis=1)[:, np.newaxis]\n",
    "\n",
    "cm_test = confusion_matrix(y_test, preds_test).astype(np.float32)\n",
    "cm_test /= cm_test.sum(axis=1)[:, np.newaxis]"
   ]
  },
  {
   "cell_type": "markdown",
   "metadata": {},
   "source": [
    "Visualize them"
   ]
  },
  {
   "cell_type": "code",
   "execution_count": 22,
   "metadata": {},
   "outputs": [
    {
     "data": {
      "image/png": "[encoded data removed]",
      "text/plain": [
       "<matplotlib.figure.Figure at 0x7fb056043748>"
      ]
     },
     "metadata": {},
     "output_type": "display_data"
    }
   ],
   "source": [
    "plt.figure(figsize=(20, 8))\n",
    "\n",
    "plt.subplot(121)\n",
    "g = sns.heatmap(cm_train, vmin=0, vmax=1, annot=True, cmap=\"Reds\")\n",
    "plt.xlabel(\"Predicted\", fontsize=14)\n",
    "plt.ylabel(\"True\", fontsize=14)\n",
    "g.set(xticklabels=class_labels, yticklabels=class_labels)\n",
    "plt.title(\"Train\", fontsize=14)\n",
    "\n",
    "plt.subplot(122)\n",
    "g = sns.heatmap(cm_test, vmin=0, vmax=1, annot=True, cmap=\"Reds\")\n",
    "plt.xlabel(\"Predicted\", fontsize=14)\n",
    "plt.ylabel(\"True\", fontsize=14)\n",
    "g.set(xticklabels=class_labels, yticklabels=class_labels)\n",
    "plt.title(\"Test\", fontsize=14);"
   ]
  },
  {
   "cell_type": "markdown",
   "metadata": {},
   "source": [
    "Looking at the confusions matrices for training, setosa perfectly separates from two other classes. In the test confusion matrize we see perfect classification (very unusual and suspect in the real world)"
   ]
  },
  {
   "cell_type": "markdown",
   "metadata": {
    "collapsed": true
   },
   "source": [
    "# Task:  20 class text classifier\n",
    "Using the gridsearch pipeline presented in the previous section, please adapt it to get your best configuration using cross fold validation on all 20 classes from the 20 newsgroups dataset. Here are some hyperparamters to consider but dont limit your self to these:\n",
    "\n",
    "* penalty\n",
    "* number of terms\n",
    "* types of ngrams\n",
    "* linear classifier\n",
    "* TDIDF\n",
    "\n",
    "\n",
    "Have fun! Please report your best score and configuration. And discuss your confusion matrix analysis for the best configuration.\n"
   ]
  },
  {
   "cell_type": "code",
   "execution_count": 4,
   "metadata": {
    "ExecuteTime": {
     "end_time": "2018-10-15T18:07:51.736143Z",
     "start_time": "2018-10-15T14:31:44.871766Z"
    }
   },
   "outputs": [
    {
     "name": "stdout",
     "output_type": "stream",
     "text": [
      "Automatically created module for IPython interactive environment\n",
      "Loading 20 newsgroups dataset for categories:\n",
      "None\n",
      "11314 documents\n",
      "20 categories\n",
      "\n",
      "Performing grid search...\n",
      "pipeline: ['vect', 'clf']\n",
      "parameters:\n",
      "{'clf__alpha': (1e-05, 1e-06),\n",
      " 'clf__loss': ('log', 'hinge'),\n",
      " 'clf__n_iter': (10, 50, 80),\n",
      " 'clf__penalty': ('l1', 'l2', 'elasticnet'),\n",
      " 'vect__max_df': (0.5, 0.75, 1.0),\n",
      " 'vect__max_features': (None, 500, 5000, 10000, 50000),\n",
      " 'vect__ngram_range': ((1, 1), (1, 2))}\n",
      "Fitting 3 folds for each of 1080 candidates, totalling 3240 fits\n"
     ]
    },
    {
     "name": "stderr",
     "output_type": "stream",
     "text": [
      "[Parallel(n_jobs=-1)]: Done  26 tasks      | elapsed:   55.1s\n",
      "[Parallel(n_jobs=-1)]: Done 176 tasks      | elapsed:  5.6min\n",
      "[Parallel(n_jobs=-1)]: Done 426 tasks      | elapsed: 19.3min\n",
      "[Parallel(n_jobs=-1)]: Done 776 tasks      | elapsed: 54.1min\n",
      "[Parallel(n_jobs=-1)]: Done 1226 tasks      | elapsed: 76.3min\n",
      "[Parallel(n_jobs=-1)]: Done 1776 tasks      | elapsed: 116.0min\n",
      "[Parallel(n_jobs=-1)]: Done 2426 tasks      | elapsed: 163.3min\n",
      "[Parallel(n_jobs=-1)]: Done 3176 tasks      | elapsed: 208.4min\n",
      "[Parallel(n_jobs=-1)]: Done 3240 out of 3240 | elapsed: 215.5min finished\n",
      "C:\\Users\\hv158\\AppData\\Local\\Continuum\\anaconda3\\lib\\site-packages\\sklearn\\linear_model\\stochastic_gradient.py:117: DeprecationWarning: n_iter parameter is deprecated in 0.19 and will be removed in 0.21. Use max_iter and tol instead.\n",
      "  DeprecationWarning)\n"
     ]
    },
    {
     "name": "stdout",
     "output_type": "stream",
     "text": [
      "done in 12964.948s\n",
      "\n",
      "Best score: 0.842\n",
      "Best parameters set:\n",
      "\tclf__alpha: 1e-05\n",
      "\tclf__loss: 'log'\n",
      "\tclf__n_iter: 50\n",
      "\tclf__penalty: 'l2'\n",
      "\tvect__max_df: 1.0\n",
      "\tvect__max_features: None\n",
      "\tvect__ngram_range: (1, 2)\n"
     ]
    }
   ],
   "source": [
    "# This code is adopted  and has been modified from \n",
    "#\n",
    "# Author: Olivier Grisel <olivier.grisel@ensta.org>\n",
    "#         Peter Prettenhofer <peter.prettenhofer@gmail.com>\n",
    "#         Mathieu Blondel <mathieu@mblondel.org>\n",
    "# License: BSD 3 clause\n",
    "\n",
    "from __future__ import print_function\n",
    "\n",
    "from pprint import pprint\n",
    "from time import time\n",
    "import logging\n",
    "\n",
    "from sklearn.datasets import fetch_20newsgroups\n",
    "from sklearn.feature_extraction.text import CountVectorizer\n",
    "from sklearn.feature_extraction.text import TfidfTransformer\n",
    "from sklearn.linear_model import SGDClassifier\n",
    "from sklearn.model_selection import GridSearchCV\n",
    "from sklearn.pipeline import Pipeline\n",
    "%matplotlib inline\n",
    "\n",
    "print(__doc__)\n",
    "\n",
    "# Display progress logs on stdout\n",
    "logging.basicConfig(level=logging.INFO,\n",
    "                    format='%(asctime)s %(levelname)s %(message)s')\n",
    "\n",
    "\n",
    "# #############################################################################\n",
    "# Load some categories from the training set \n",
    "#categories = [\n",
    "#    'alt.atheism',\n",
    "#    'talk.religion.misc',\n",
    "#]\n",
    "\n",
    "# Uncomment the following to do the analysis on all the categories\n",
    "categories = None\n",
    "\n",
    "print(\"Loading 20 newsgroups dataset for categories:\")\n",
    "print(categories)\n",
    "\n",
    "data = fetch_20newsgroups(subset='train', categories=categories)\n",
    "print(\"%d documents\" % len(data.filenames))\n",
    "print(\"%d categories\" % len(data.target_names))\n",
    "print()\n",
    "\n",
    "# #############################################################################\n",
    "# Define a pipeline combining a text feature extractor with a simple\n",
    "# classifier\n",
    "pipeline = Pipeline([\n",
    "    ('vect', CountVectorizer()),  #http://scikit-learn.org/stable/modules/feature_extraction.html\n",
    "    #('tfidf', TfidfTransformer()), #ignore for now\n",
    "    ('clf', SGDClassifier(loss='log', max_iter=5)),  #let's use logistic regression\n",
    "])\n",
    "\n",
    "# uncommenting more parameters will give better exploring power but will\n",
    "# increase processing time in a combinatorial way\n",
    "parameters = { #listed in the form of \"step__parameter\", e.g, clf__penalty\n",
    "     'vect__max_df': (0.5, 0.75, 1.0),\n",
    "     'vect__max_features': (None, 500, 5000, 10000, 50000),\n",
    "     'vect__ngram_range': ((1, 1), (1, 2)),  # unigrams (single words) or bigrams (or sequence of words of length 2)\n",
    "    #'tfidf__use_idf': (True, False),\n",
    "    #'tfidf__norm': ('l1', 'l2'),\n",
    "    'clf__alpha': (0.00001, 0.000001),\n",
    "    'clf__penalty': ('l1', 'l2', 'elasticnet'),\n",
    "    'clf__penalty': ('l1', 'l2', 'elasticnet'),\n",
    "    'clf__loss': ('log', 'hinge'),  #hinge linear SVM\n",
    "    'clf__n_iter': (10, 50, 80),\n",
    "}\n",
    "\n",
    "if __name__ == \"__main__\":\n",
    "    # multiprocessing requires the fork to happen in a __main__ protected\n",
    "    # block\n",
    "\n",
    "    # find the best parameters for both the feature extraction and the\n",
    "    # classifier\n",
    "    # n_jobs=-1 means that the computation will be dispatched on all the CPUs of the computer.\n",
    "    #\n",
    "    # By default, the GridSearchCV uses a 3-fold cross-validation. However, if it \n",
    "    #            detects that a classifier is passed, rather than a regressor, it uses a stratified 3-fold.\n",
    "    grid_search = GridSearchCV(pipeline, parameters, cv=3, n_jobs=-1, verbose=1)\n",
    "\n",
    "    print(\"Performing grid search...\")\n",
    "    print(\"pipeline:\", [name for name, _ in pipeline.steps])\n",
    "    print(\"parameters:\")\n",
    "    pprint(parameters)\n",
    "    t0 = time()\n",
    "    grid_search.fit(data.data, data.target)\n",
    "    print(\"done in %0.3fs\" % (time() - t0))\n",
    "    print()\n",
    "    #print(\"grid_search.cv_results_\", grid_search.cv_results_)\n",
    "    #estimator : estimator object. This is assumed to implement the scikit-learn estimator interface.  \n",
    "    #            Either estimator needs to provide a score function, or scoring must be passed.\n",
    "    #Accuracy is the default for classification; feel free to change this to precision, recall, fbeta\n",
    "    print(\"Best score: %0.3f\" % grid_search.best_score_)\n",
    "    print(\"Best parameters set:\")\n",
    "    best_parameters = grid_search.best_estimator_.get_params()\n",
    "    for param_name in sorted(parameters.keys()):\n",
    "        print(\"\\t%s: %r\" % (param_name, best_parameters[param_name]))"
   ]
  },
  {
   "cell_type": "code",
   "execution_count": 5,
   "metadata": {
    "ExecuteTime": {
     "end_time": "2018-10-15T18:54:19.687995Z",
     "start_time": "2018-10-15T18:54:11.874598Z"
    }
   },
   "outputs": [],
   "source": [
    "preds_train = grid_search.best_estimator_.predict(trainData.data)\n",
    "preds_test = grid_search.best_estimator_.predict(testData.data)"
   ]
  },
  {
   "cell_type": "code",
   "execution_count": 6,
   "metadata": {
    "ExecuteTime": {
     "end_time": "2018-10-15T18:54:24.625850Z",
     "start_time": "2018-10-15T18:54:24.609841Z"
    }
   },
   "outputs": [],
   "source": [
    "from sklearn.metrics import accuracy_score, confusion_matrix\n",
    "\n",
    "cm_train = confusion_matrix(trainData.target, preds_train).astype(np.float32)\n",
    "cm_train /= cm_train.sum(axis=1)[:, np.newaxis]\n",
    "\n",
    "cm_test = confusion_matrix(testData.target, preds_test).astype(np.float32)\n",
    "cm_test /= cm_test.sum(axis=1)[:, np.newaxis]"
   ]
  },
  {
   "cell_type": "code",
   "execution_count": 8,
   "metadata": {
    "ExecuteTime": {
     "end_time": "2018-10-15T18:55:16.643839Z",
     "start_time": "2018-10-15T18:55:12.242266Z"
    }
   },
   "outputs": [
    {
     "data": {
      "image/png": "[encoded data removed]",
      "text/plain": [
       "<Figure size 1440x1152 with 4 Axes>"
      ]
     },
     "metadata": {},
     "output_type": "display_data"
    }
   ],
   "source": [
    "import matplotlib\n",
    "import matplotlib.pyplot as plt\n",
    "import seaborn as sns\n",
    "\n",
    "%matplotlib inline\n",
    "\n",
    "class_labels = list(range(0,20)) ## assigning labels for 20 categories\n",
    "\n",
    "plt.figure(figsize=(20, 16))\n",
    "\n",
    "plt.subplot(211)\n",
    "g = sns.heatmap(cm_train, vmin=0, vmax=1, annot=True, cmap=\"Reds\")\n",
    "plt.xlabel(\"Predicted\", fontsize=14)\n",
    "plt.ylabel(\"True\", fontsize=14)\n",
    "g.set(xticklabels=class_labels, yticklabels=class_labels)\n",
    "plt.title(\"Train\", fontsize=18)\n",
    "\n",
    "plt.subplot(212)\n",
    "g = sns.heatmap(cm_test, vmin=0, vmax=1, annot=True, cmap=\"Reds\")\n",
    "plt.xlabel(\"Predicted\", fontsize=14)\n",
    "plt.ylabel(\"True\", fontsize=14)\n",
    "g.set(xticklabels=class_labels, yticklabels=class_labels)\n",
    "plt.title(\"Test\", fontsize=18);"
   ]
  },
  {
   "cell_type": "markdown",
   "metadata": {},
   "source": [
    "### Discussion"
   ]
  },
  {
   "cell_type": "markdown",
   "metadata": {},
   "source": [
    "Best score: 0.842\n",
    "Best parameters set:\n",
    "\tclf__alpha: 1e-05\n",
    "\tclf__loss: 'log'\n",
    "\tclf__n_iter: 50\n",
    "\tclf__penalty: 'l2'\n",
    "\tvect__max_df: 1.0\n",
    "\tvect__max_features: None\n",
    "\tvect__ngram_range: (1, 2)\n",
    "    \n",
    "    \n",
    "Comments -\n",
    "Confusion matrix for Training data shows that it is predicting perfectly for all categories. This could be overfitting case.\n",
    "However predictions for Test data also have very good accuracy as shown in Test confusion matrix."
   ]
  },
  {
   "cell_type": "markdown",
   "metadata": {},
   "source": [
    "__ALLOW 1-2 HOURS FOR THIS TASK TO RUN.__"
   ]
  },
  {
   "cell_type": "markdown",
   "metadata": {},
   "source": [
    "# Task: Explore LASSO Logistic Regression\n",
    "Model the CIFAR-10 dataset using LASSO Logistic Regression (l1 penalty term). \n",
    "* Explore different values $\\text{C}$ is the inverse regularization constant which is $\\text{C} = \\frac{1}{\\lambda}$ that are listed here : {C=1.0, C=10.0, C=100.0, C=1000.0, C=10000.0}\n",
    "* Use crossfold validation (cv=5) to validate your results.\n",
    "\n",
    "Please reports your experimental results using the `results` table. Add one more column for reporting the number of zero coefficients after training. Recall, LASSO Logistic Regression can be useful in doing feature selection!   \n",
    "\n",
    "NOTE: the coefficient of the learnt model, `model_lr_sklearn`, are available via `model_lr_sklearn.coef_`\n",
    "\n",
    "`coef_ : array, shape (1, n_features) or (n_classes, n_features)\n",
    "\n",
    "Coefficient of the features in the decision function.\n",
    "\n",
    "coef_ is of shape (1, n_features) when the given problem is binary.`\n",
    "\n",
    " "
   ]
  },
  {
   "cell_type": "markdown",
   "metadata": {},
   "source": [
    "__ALLOW 8-10 HOURS FOR THIS TASK TO RUN__"
   ]
  },
  {
   "cell_type": "code",
   "execution_count": 25,
   "metadata": {
    "ExecuteTime": {
     "end_time": "2018-10-16T19:57:22.722152Z",
     "start_time": "2018-10-16T19:57:22.658028Z"
    }
   },
   "outputs": [
    {
     "data": {
      "text/html": [
       "<div>\n",
       "<style scoped>\n",
       "    .dataframe tbody tr th:only-of-type {\n",
       "        vertical-align: middle;\n",
       "    }\n",
       "\n",
       "    .dataframe tbody tr th {\n",
       "        vertical-align: top;\n",
       "    }\n",
       "\n",
       "    .dataframe thead th {\n",
       "        text-align: right;\n",
       "    }\n",
       "</style>\n",
       "<table border=\"1\" class=\"dataframe\">\n",
       "  <thead>\n",
       "    <tr style=\"text-align: right;\">\n",
       "      <th></th>\n",
       "      <th>Model Description</th>\n",
       "      <th>Test Accuracy</th>\n",
       "      <th>Average #of Zero Coefficients</th>\n",
       "    </tr>\n",
       "  </thead>\n",
       "  <tbody>\n",
       "    <tr>\n",
       "      <th>0</th>\n",
       "      <td>LR Sklearn fake run</td>\n",
       "      <td>0.363</td>\n",
       "      <td>1,000</td>\n",
       "    </tr>\n",
       "  </tbody>\n",
       "</table>\n",
       "</div>"
      ],
      "text/plain": [
       "     Model Description  Test Accuracy Average #of Zero Coefficients\n",
       "0  LR Sklearn fake run          0.363                         1,000"
      ]
     },
     "execution_count": 25,
     "metadata": {},
     "output_type": "execute_result"
    }
   ],
   "source": [
    "#Display the results table with your experiments\n",
    "import numpy as np\n",
    "import pandas as pd\n",
    "# NOTE \"Average  number of Zero Coefficients\" per class\n",
    "results = pd.DataFrame(columns=[\"Model Description\", \"Test Accuracy\", \"Average #of Zero Coefficients\"])\n",
    "results.loc[len(results)] = [\"LR Sklearn fake run\", np.round(0.363, 3), \"1,000\"]\n",
    "results"
   ]
  },
  {
   "cell_type": "code",
   "execution_count": 3,
   "metadata": {
    "ExecuteTime": {
     "end_time": "2018-10-16T04:40:25.890864Z",
     "start_time": "2018-10-16T04:40:12.727623Z"
    }
   },
   "outputs": [],
   "source": [
    "from pandas import read_csv\n",
    "from matplotlib import pyplot\n",
    "from sklearn.model_selection import KFold\n",
    "from sklearn.model_selection import cross_val_score\n",
    "from sklearn.linear_model import LogisticRegression\n",
    "from sklearn.tree import DecisionTreeClassifier\n",
    "from sklearn.neighbors import KNeighborsClassifier\n",
    "from sklearn.discriminant_analysis import LinearDiscriminantAnalysis\n",
    "from sklearn.naive_bayes import GaussianNB\n",
    "from sklearn.svm import SVC\n",
    "from sklearn.model_selection import GridSearchCV\n",
    "from sklearn.pipeline import Pipeline"
   ]
  },
  {
   "cell_type": "code",
   "execution_count": 10,
   "metadata": {
    "ExecuteTime": {
     "end_time": "2018-10-16T04:41:28.337651Z",
     "start_time": "2018-10-16T04:41:27.806189Z"
    }
   },
   "outputs": [
    {
     "name": "stderr",
     "output_type": "stream",
     "text": [
      "C:\\Users\\hv158\\AppData\\Local\\Continuum\\anaconda3\\lib\\site-packages\\sklearn\\model_selection\\_split.py:2026: FutureWarning: From version 0.21, test_size will always complement train_size unless both are specified.\n",
      "  FutureWarning)\n"
     ]
    }
   ],
   "source": [
    "data_batch = unpickle(\"data/cifar-10-batches-py/test_batch\")\n",
    "X_test = data_batch[\"data\"]\n",
    "y_test = np.array(data_batch[\"labels\"])\n",
    "classes = unpickle(\"data/cifar-10-batches-py/batches.meta\")[\"label_names\"]\n",
    "X_train, _, y_train, _ = train_test_split(X_train, y_train, stratify=y_train, train_size=0.1, random_state=42)\n",
    "X_test, _, y_test, _ = train_test_split(X_test, y_test, stratify=y_test, train_size=0.1, random_state=42)"
   ]
  },
  {
   "cell_type": "code",
   "execution_count": 13,
   "metadata": {
    "ExecuteTime": {
     "end_time": "2018-10-15T04:17:34.691710Z",
     "start_time": "2018-10-15T04:17:34.685565Z"
    }
   },
   "outputs": [],
   "source": [
    "cvalues = [1,10,100,1000,10000]\n",
    "\n",
    "cv = KFold(n_splits=5, shuffle=True, random_state=42)\n",
    "cv_idx = list(cv.split(X_train, y_train))\n",
    "\n",
    "# assigning 10% of CIFAR-10 data for experiment\n",
    "X = X_train\n",
    "y = y_train"
   ]
  },
  {
   "cell_type": "code",
   "execution_count": 26,
   "metadata": {
    "ExecuteTime": {
     "end_time": "2018-10-15T10:20:20.400403Z",
     "start_time": "2018-10-15T04:26:02.923745Z"
    }
   },
   "outputs": [
    {
     "name": "stdout",
     "output_type": "stream",
     "text": [
      "starting...1\n",
      "end of crossfold...\n",
      "end of crossfold...\n",
      "end of crossfold...\n",
      "end of crossfold...\n",
      "end of crossfold...\n",
      "starting...10\n",
      "end of crossfold...\n",
      "end of crossfold...\n",
      "end of crossfold...\n",
      "end of crossfold...\n",
      "end of crossfold...\n",
      "starting...100\n",
      "end of crossfold...\n",
      "end of crossfold...\n",
      "end of crossfold...\n",
      "end of crossfold...\n",
      "end of crossfold...\n",
      "starting...1000\n",
      "end of crossfold...\n",
      "end of crossfold...\n",
      "end of crossfold...\n",
      "end of crossfold...\n",
      "end of crossfold...\n",
      "starting...10000\n",
      "end of crossfold...\n",
      "end of crossfold...\n",
      "end of crossfold...\n",
      "end of crossfold...\n",
      "end of crossfold...\n",
      "end of process\n"
     ]
    },
    {
     "data": {
      "text/html": [
       "<div>\n",
       "<style scoped>\n",
       "    .dataframe tbody tr th:only-of-type {\n",
       "        vertical-align: middle;\n",
       "    }\n",
       "\n",
       "    .dataframe tbody tr th {\n",
       "        vertical-align: top;\n",
       "    }\n",
       "\n",
       "    .dataframe thead th {\n",
       "        text-align: right;\n",
       "    }\n",
       "</style>\n",
       "<table border=\"1\" class=\"dataframe\">\n",
       "  <thead>\n",
       "    <tr style=\"text-align: right;\">\n",
       "      <th></th>\n",
       "      <th>Model Description</th>\n",
       "      <th>Test Accuracy</th>\n",
       "      <th>Average #of Zero Coefficients</th>\n",
       "    </tr>\n",
       "  </thead>\n",
       "  <tbody>\n",
       "    <tr>\n",
       "      <th>0</th>\n",
       "      <td>LR Sklearn fake run</td>\n",
       "      <td>0.363</td>\n",
       "      <td>1,000</td>\n",
       "    </tr>\n",
       "    <tr>\n",
       "      <th>1</th>\n",
       "      <td>LR Sklearn c=1</td>\n",
       "      <td>0.238</td>\n",
       "      <td>3080.8</td>\n",
       "    </tr>\n",
       "    <tr>\n",
       "      <th>2</th>\n",
       "      <td>LR Sklearn c=10</td>\n",
       "      <td>0.240</td>\n",
       "      <td>15.8</td>\n",
       "    </tr>\n",
       "    <tr>\n",
       "      <th>3</th>\n",
       "      <td>LR Sklearn c=100</td>\n",
       "      <td>0.239</td>\n",
       "      <td>0.2</td>\n",
       "    </tr>\n",
       "    <tr>\n",
       "      <th>4</th>\n",
       "      <td>LR Sklearn c=1000</td>\n",
       "      <td>0.240</td>\n",
       "      <td>0</td>\n",
       "    </tr>\n",
       "    <tr>\n",
       "      <th>5</th>\n",
       "      <td>LR Sklearn c=10000</td>\n",
       "      <td>0.238</td>\n",
       "      <td>0</td>\n",
       "    </tr>\n",
       "  </tbody>\n",
       "</table>\n",
       "</div>"
      ],
      "text/plain": [
       "     Model Description  Test Accuracy Average #of Zero Coefficients\n",
       "0  LR Sklearn fake run          0.363                         1,000\n",
       "1       LR Sklearn c=1          0.238                        3080.8\n",
       "2      LR Sklearn c=10          0.240                          15.8\n",
       "3     LR Sklearn c=100          0.239                           0.2\n",
       "4    LR Sklearn c=1000          0.240                             0\n",
       "5   LR Sklearn c=10000          0.238                             0"
      ]
     },
     "execution_count": 26,
     "metadata": {},
     "output_type": "execute_result"
    }
   ],
   "source": [
    "for c in cvalues:\n",
    "    print(\"starting...\"+str(c))\n",
    "    acc = None\n",
    "    #cm = None\n",
    "    zero = None\n",
    "    for train_idx, test_idx in cv_idx:\n",
    "\n",
    "        # split\n",
    "        X_train_cv, X_val = X[train_idx], X[test_idx]\n",
    "        y_train_cv, y_val = y[train_idx], y[test_idx]\n",
    "\n",
    "        # create logistic regression pipeline\n",
    "        model = LogisticRegression(C = c,penalty='l1')\n",
    "\n",
    "        model.fit(X_train_cv, y_train_cv)\n",
    "        y_pred = model.predict(X_val)\n",
    "\n",
    "        # evaluate\n",
    "        if acc is None:\n",
    "            acc = accuracy_score(y_val, y_pred)\n",
    "            #cm = confusion_matrix(y_val, y_pred).astype(np.float32)\n",
    "            zero = len(model.coef_.flatten())-np.count_nonzero(model.coef_)\n",
    "        else:\n",
    "            acc += accuracy_score(y_val, y_pred)\n",
    "            #cm += confusion_matrix(y_val, y_pred)\n",
    "            zero += len(model.coef_.flatten())-np.count_nonzero(model.coef_)\n",
    "        print(\"end of crossfold...\")\n",
    "        \n",
    "    # take the average value across all folds\n",
    "    acc /= cv.n_splits\n",
    "    #cm /= cm.sum(axis=1)[:, np.newaxis]\n",
    "    zero /= cv.n_splits\n",
    "\n",
    "    results.loc[len(results)] = [\"LR Sklearn c=\"+ str(c), np.round(acc, 3), zero]\n",
    "    \n",
    "    \n",
    "print(\"end of process\")\n",
    "results"
   ]
  },
  {
   "cell_type": "markdown",
   "metadata": {},
   "source": [
    "# TASK Homegrown implementation of Logistic Regression [OPTIONAL]"
   ]
  },
  {
   "cell_type": "markdown",
   "metadata": {},
   "source": [
    "Below is a homegrown implementation of Logistic Regression. In this class  we added an ability to trace validation metrics."
   ]
  },
  {
   "cell_type": "code",
   "execution_count": 12,
   "metadata": {
    "ExecuteTime": {
     "end_time": "2018-10-16T19:43:03.636890Z",
     "start_time": "2018-10-16T19:43:03.623891Z"
    }
   },
   "outputs": [],
   "source": [
    "class LogisticRegressionHomegrown(object):\n",
    "    \n",
    "    def __init__(self):\n",
    "        \"\"\"\n",
    "        Constructor for the homgrown Logistic Regression\n",
    "        \n",
    "        Args:\n",
    "            None\n",
    "        \n",
    "        Return:\n",
    "            None\n",
    "        \"\"\"\n",
    "        self.coef_ = None       # weight vector\n",
    "        self.intercept_ = None  # bias term\n",
    "        self._theta = None      # augmented weight vector, i.e., bias + weights\n",
    "                                # this allows to treat all decision variables homogeneously\n",
    "        self.history = {\"cost\": [], \n",
    "                        \"acc\": [], \n",
    "                        \"val_cost\":[], \n",
    "                        \"val_acc\": []}\n",
    "        \n",
    "    def _grad(self, X, y):\n",
    "        \"\"\"\n",
    "        Calculates the gradient of the Logistic Regression \n",
    "        objective function\n",
    "\n",
    "        Args:\n",
    "            X(ndarray):    train objects\n",
    "            y(ndarray):    answers for train objects\n",
    "            \n",
    "        Return:\n",
    "            grad(ndarray): gradient\n",
    "        \"\"\"\n",
    "        # number of training examples\n",
    "        n = X.shape[0]\n",
    "        \n",
    "        # get scores for each class and example\n",
    "        # 2D matrix\n",
    "        scores = self._predict_raw(X)\n",
    "        \n",
    "        # transform scores to probabilities\n",
    "        # softmax\n",
    "        exp_scores = np.exp(scores)\n",
    "        probs = exp_scores / np.sum(exp_scores, axis=1, keepdims=True)\n",
    "        \n",
    "        # error\n",
    "        probs[range(n),y] -= 1\n",
    "        \n",
    "        # gradient\n",
    "        gradient = np.dot(X.T, probs) / n\n",
    "        \n",
    "        return gradient\n",
    "    \n",
    "    def _gd(self, X, y, max_iter, alpha, X_val, y_val):\n",
    "        \"\"\"\n",
    "        Runs Full GD and logs error, weigths, gradient at every step\n",
    "\n",
    "        Args:\n",
    "            X(ndarray):      train objects\n",
    "            y(ndarray):      answers for train objects\n",
    "            max_iter(int):   number of weight updates\n",
    "            alpha(floar):    step size in direction of gradient\n",
    "            \n",
    "        Return:\n",
    "            None\n",
    "        \"\"\"\n",
    "        for i in range(max_iter):\n",
    "            \n",
    "            metrics = self.score(X, y)\n",
    "            self.history[\"cost\"].append(metrics[\"cost\"])\n",
    "            self.history[\"acc\"].append(metrics[\"acc\"])\n",
    "            \n",
    "            if X_val is not None:\n",
    "                metrics_val = self.score(X_val, y_val)\n",
    "                self.history[\"val_cost\"].append(metrics_val[\"cost\"])\n",
    "                self.history[\"val_acc\"].append(metrics_val[\"acc\"])\n",
    "\n",
    "            # calculate gradient\n",
    "            grad = self._grad(X, y)\n",
    "            \n",
    "            # do gradient step\n",
    "            self._theta -= alpha * grad\n",
    "    \n",
    "    def fit(self, X, y, max_iter=1000, alpha=0.05, val_data=None):\n",
    "        \"\"\"\n",
    "        Public API to fit Logistic regression model\n",
    "        \n",
    "        Args:\n",
    "            X(ndarray):      train objects\n",
    "            y(ndarray):      answers for train objects\n",
    "            max_iter(int):   number of weight updates\n",
    "            alpha(floar):    step size in direction of gradient\n",
    "            \n",
    "        Return:\n",
    "            None\n",
    "        \"\"\"\n",
    "        # Augment the data with the bias term.\n",
    "        # So we can treat the the input variables and the bias term homogeneously \n",
    "        # from a vectorization perspective\n",
    "        X = np.c_[np.ones(X.shape[0]), X]\n",
    "        if val_data is not None:\n",
    "            X_val, y_val = val_data\n",
    "            X_val = np.c_[np.ones(X_val.shape[0]), X_val]\n",
    "        else:\n",
    "            X_val = None\n",
    "            y_val = None\n",
    "        # initialize if the first step\n",
    "        if self._theta is None:\n",
    "            self._theta = np.random.rand(X.shape[1], len(np.unique(y)))\n",
    "        \n",
    "        # do full gradient descent\n",
    "        self._gd(X, y, max_iter, alpha, X_val, y_val)\n",
    "        \n",
    "        # get final weigths and bias\n",
    "        self.intercept_ = self._theta[0]\n",
    "        self.coef_ = self._theta[1:]\n",
    "        \n",
    "    def score(self, X, y):\n",
    "        \"\"\"\n",
    "        Computes logloss and accuracy for (X, y)\n",
    "        \n",
    "        Args:\n",
    "            X(ndarray):      objects\n",
    "            y(ndarray):      answers for objects\n",
    "            \n",
    "        Return:\n",
    "            metrics(dict):   python dictionary which\n",
    "                             contains two fields: for accuracy \n",
    "                             and for objective function\n",
    "        \"\"\"\n",
    "        # number of training samples\n",
    "        n = X.shape[0]\n",
    "        \n",
    "        # get scores\n",
    "        scores = self._predict_raw(X)\n",
    "        \n",
    "        # trasnform scores to probabilities\n",
    "        exp_scores = np.exp(scores)\n",
    "        probs = exp_scores / np.sum(exp_scores, axis=1, keepdims=True)\n",
    "        \n",
    "        # logloss per each example\n",
    "        corect_logprobs = -np.log(probs[range(n),y])\n",
    "        \n",
    "        # total mean logloss\n",
    "        data_loss = np.sum(corect_logprobs) / n\n",
    "        \n",
    "        # predictions\n",
    "        pred = np.argmax(scores, axis=1)\n",
    "        # accuracy\n",
    "        acc = accuracy_score(y, pred)\n",
    "        \n",
    "        # final metrics\n",
    "        metrics = {\"acc\": acc, \"cost\": data_loss}\n",
    "        \n",
    "        return metrics\n",
    "        \n",
    "    def _predict_raw(self, X):\n",
    "        \"\"\"\n",
    "        Computes scores for each class and each object in X\n",
    "        \n",
    "        Args:\n",
    "            X(ndarray):      objects\n",
    "        \n",
    "        Return:\n",
    "            scores(ndarray): scores for each class and object\n",
    "        \"\"\"\n",
    "        # check whether X has appended bias feature or not\n",
    "        if X.shape[1] == len(self._theta):\n",
    "            scores = np.dot(X, self._theta)\n",
    "        else:\n",
    "            scores = np.dot(X, self.coef_) + self.intercept_\n",
    "        return scores\n",
    "    \n",
    "    def predict(self, X):\n",
    "        \"\"\"\n",
    "        Predicts class for each object in X\n",
    "        \n",
    "        Args:\n",
    "            X(ndarray):      objects\n",
    "        \n",
    "        Return:\n",
    "            pred(ndarray):   class for each object\n",
    "        \"\"\"\n",
    "        # get scores for each class\n",
    "        scores = self._predict_raw(X)\n",
    "        # choose class with maximum score\n",
    "        pred = np.argmax(scores, axis=1)\n",
    "        return pred"
   ]
  },
  {
   "cell_type": "markdown",
   "metadata": {},
   "source": [
    "**Do not forget** to scale data before using this class. It is crucial."
   ]
  },
  {
   "cell_type": "code",
   "execution_count": 13,
   "metadata": {
    "ExecuteTime": {
     "end_time": "2018-10-16T19:43:08.801755Z",
     "start_time": "2018-10-16T19:43:08.726530Z"
    }
   },
   "outputs": [],
   "source": [
    "if np.max(X_train) > 4.:\n",
    "    X_train = X_train.astype(np.float32) / 255.\n",
    "if np.max(X_test) > 4.:\n",
    "    X_test = X_test.astype(np.float32) / 255."
   ]
  },
  {
   "cell_type": "markdown",
   "metadata": {},
   "source": [
    "Defining a model"
   ]
  },
  {
   "cell_type": "code",
   "execution_count": 14,
   "metadata": {
    "ExecuteTime": {
     "end_time": "2018-10-16T19:43:14.025210Z",
     "start_time": "2018-10-16T19:43:14.021240Z"
    }
   },
   "outputs": [],
   "source": [
    "model_lr_homegrown = LogisticRegressionHomegrown()"
   ]
  },
  {
   "cell_type": "markdown",
   "metadata": {},
   "source": [
    "Fitting example"
   ]
  },
  {
   "cell_type": "code",
   "execution_count": 15,
   "metadata": {
    "ExecuteTime": {
     "end_time": "2018-10-16T19:43:17.500280Z",
     "start_time": "2018-10-16T19:43:17.008003Z"
    }
   },
   "outputs": [
    {
     "name": "stderr",
     "output_type": "stream",
     "text": [
      "C:\\Users\\hv158\\AppData\\Local\\Continuum\\anaconda3\\lib\\site-packages\\numpy\\core\\_methods.py:32: RuntimeWarning: overflow encountered in reduce\n",
      "  return umr_sum(a, axis, dtype, out, keepdims)\n",
      "C:\\Users\\hv158\\AppData\\Local\\Continuum\\anaconda3\\lib\\site-packages\\ipykernel_launcher.py:139: RuntimeWarning: invalid value encountered in true_divide\n",
      "C:\\Users\\hv158\\AppData\\Local\\Continuum\\anaconda3\\lib\\site-packages\\ipykernel_launcher.py:142: RuntimeWarning: divide by zero encountered in log\n",
      "C:\\Users\\hv158\\AppData\\Local\\Continuum\\anaconda3\\lib\\site-packages\\ipykernel_launcher.py:44: RuntimeWarning: invalid value encountered in true_divide\n"
     ]
    }
   ],
   "source": [
    "model_lr_homegrown.fit(X_train, y_train, max_iter=10, alpha=0.05)"
   ]
  },
  {
   "cell_type": "markdown",
   "metadata": {},
   "source": [
    "And we come up with all the $\\text{nan's}$ for objective function"
   ]
  },
  {
   "cell_type": "code",
   "execution_count": 16,
   "metadata": {
    "ExecuteTime": {
     "end_time": "2018-10-16T19:43:22.475081Z",
     "start_time": "2018-10-16T19:43:22.469098Z"
    }
   },
   "outputs": [
    {
     "data": {
      "text/plain": [
       "[nan, nan, nan, nan, nan, nan, nan, nan, nan, nan]"
      ]
     },
     "execution_count": 16,
     "metadata": {},
     "output_type": "execute_result"
    }
   ],
   "source": [
    "model_lr_homegrown.history[\"cost\"]"
   ]
  },
  {
   "cell_type": "markdown",
   "metadata": {},
   "source": [
    "And accuracy also does not change"
   ]
  },
  {
   "cell_type": "code",
   "execution_count": 17,
   "metadata": {
    "ExecuteTime": {
     "end_time": "2018-10-16T19:43:25.563876Z",
     "start_time": "2018-10-16T19:43:25.558866Z"
    }
   },
   "outputs": [
    {
     "data": {
      "text/plain": [
       "[0.1004, 0.1, 0.1, 0.1, 0.1, 0.1, 0.1, 0.1, 0.1, 0.1]"
      ]
     },
     "execution_count": 17,
     "metadata": {},
     "output_type": "execute_result"
    }
   ],
   "source": [
    "model_lr_homegrown.history[\"acc\"]"
   ]
  },
  {
   "cell_type": "markdown",
   "metadata": {},
   "source": [
    "## Task: Softmax Numerical Stability\n",
    "What can be causing this kind of problem (\"NaN\")? (Hint: see the lecture slides \"Numerical Stability for softmax function\")\n",
    "* Please fix this problem\n",
    "* Next section has some background to help shed some light"
   ]
  },
  {
   "cell_type": "markdown",
   "metadata": {},
   "source": [
    "### Working with np.max and matrices\n",
    "Explore the code in the following section first to see why/how!"
   ]
  },
  {
   "cell_type": "code",
   "execution_count": 42,
   "metadata": {
    "ExecuteTime": {
     "end_time": "2018-06-15T19:12:05.745385Z",
     "start_time": "2018-06-15T19:12:05.702664Z"
    }
   },
   "outputs": [
    {
     "name": "stdout",
     "output_type": "stream",
     "text": [
      "Is this correct?\n",
      "Adjusted data1 [[-5 -4 -3]\n",
      " [-2 -1  0]]\n",
      "Adjusted data2 [[-2 -1  0]\n",
      " [-2 -1  0]]\n",
      "Normalised score...\n",
      " [[ 0.1         0.3         0.6       ]\n",
      " [ 0.16666667  0.33333333  0.5       ]]\n",
      "This produces NaNs: (see SECOND ROW) \n",
      " [[  3.86033521e-97   6.21315959e-49   1.00000000e+00]\n",
      " [  0.00000000e+00   0.00000000e+00              nan]]\n",
      "Probabilities...\n",
      " [[  3.86033521e-097   6.21315959e-049   1.00000000e+000]\n",
      " [  9.25896716e-242   1.49021879e-193   1.00000000e+000]]\n"
     ]
    },
    {
     "name": "stderr",
     "output_type": "stream",
     "text": [
      "/Users/jamie/anaconda3/lib/python3.6/site-packages/ipykernel_launcher.py:29: RuntimeWarning: overflow encountered in exp\n",
      "/Users/jamie/anaconda3/lib/python3.6/site-packages/ipykernel_launcher.py:29: RuntimeWarning: invalid value encountered in true_divide\n"
     ]
    }
   ],
   "source": [
    "## Working with np.max, softmax, and matrices\n",
    "import numpy as np\n",
    "\n",
    "# For more info on np.max check the following link :\n",
    "# https://docs.scipy.org/doc/numpy-1.13.0/reference/generated/numpy.amax.html\n",
    "\n",
    "#GOAL: On a per row basis: Substract  max of that row from each element in that row\n",
    "#ATTEMPT #1: \n",
    "f = np.array([[1, 2, 3],[4, 5, 6]])\n",
    "f1 = f - np.max(f)\n",
    "# this does not work as expected - as np.max(f) returns the overall max \n",
    "print (\"Is this correct?\")\n",
    "print (\"Adjusted data1\", f1)\n",
    "\n",
    "# take max of f per row \n",
    "#ATTEMPT #2: pay attention to axis and keepdims\n",
    "f2 = f - np.max(f, axis=1, keepdims=True)\n",
    "print (\"Adjusted data2\", f2)\n",
    "\n",
    "\n",
    "#Normalised score to sum to 1\n",
    "f=([1,3,6], [2,4,6])\n",
    "p = f / np.sum(f,axis=1, keepdims=True)\n",
    "print (\"Normalised score...\\n\", p)\n",
    "\n",
    "# The following data will not work with for the softmax calculation\n",
    "# out of bounds\n",
    "perpendicularDistances = np.array([[123, 234, 345],[444, 555, 999]])\n",
    "probs = np.exp(perpendicularDistances) / np.sum(np.exp(perpendicularDistances), axis=1, keepdims=True)\n",
    "print(\"This produces NaNs: (see SECOND ROW) \\n\", probs)\n",
    "# need to use adjusted data \n",
    "perpendicularDistances -= np.max(perpendicularDistances, axis=1, keepdims=True)\n",
    "# trasnform scores to probabilities\n",
    "exp_scores = np.exp(perpendicularDistances)\n",
    "probs = exp_scores / np.sum(exp_scores, axis=1, keepdims=True)\n",
    "print (\"Probabilities...\\n\", probs)"
   ]
  },
  {
   "cell_type": "code",
   "execution_count": 18,
   "metadata": {
    "ExecuteTime": {
     "end_time": "2018-10-16T19:53:18.638400Z",
     "start_time": "2018-10-16T19:53:18.632411Z"
    }
   },
   "outputs": [],
   "source": [
    "class FixedLogisticRegressionHomegrown(LogisticRegressionHomegrown):\n",
    "    \n",
    "    def __init__(self):\n",
    "        # call the constructor of the parent class\n",
    "        super(FixedLogisticRegressionHomegrown, self).__init__()\n",
    "        \n",
    "    #==================================================#\n",
    "    #               Place your code here               #\n",
    "    #     Redefine a method which causes the error     #\n",
    "    #               Hint: only one method              #\n",
    "    #==================================================#\n",
    "    \n",
    "    def _grad(self, X, y):\n",
    "        \"\"\"\n",
    "        Calculates the gradient of the Logistic Regression \n",
    "        objective function\n",
    "\n",
    "        Args:\n",
    "            X(ndarray):    train objects\n",
    "            y(ndarray):    answers for train objects\n",
    "            \n",
    "        Return:\n",
    "            grad(ndarray): gradient\n",
    "        \"\"\"\n",
    "        # number of training examples\n",
    "        n = X.shape[0]\n",
    "        \n",
    "        # get scores for each class and example\n",
    "        # 2D matrix\n",
    "        scores = self._predict_raw(X)\n",
    "        \n",
    "        # transform scores to probabilities\n",
    "        # softmax\n",
    "        \n",
    "        # need to use adjusted data \n",
    "        scores -= np.max(scores, axis=1, keepdims=True) ## STEP ADDED to FIX the issue\n",
    "        \n",
    "        exp_scores = np.exp(scores)\n",
    "        probs = exp_scores / np.sum(exp_scores, axis=1, keepdims=True)\n",
    "        \n",
    "        # error\n",
    "        probs[range(n),y] -= 1\n",
    "        \n",
    "        # gradient\n",
    "        gradient = np.dot(X.T, probs) / n\n",
    "        \n",
    "        return gradient"
   ]
  },
  {
   "cell_type": "markdown",
   "metadata": {},
   "source": [
    "Defining a model"
   ]
  },
  {
   "cell_type": "code",
   "execution_count": 19,
   "metadata": {
    "ExecuteTime": {
     "end_time": "2018-10-16T19:53:21.874953Z",
     "start_time": "2018-10-16T19:53:21.870908Z"
    }
   },
   "outputs": [],
   "source": [
    "model_lr_homegrown_fixed = FixedLogisticRegressionHomegrown()"
   ]
  },
  {
   "cell_type": "markdown",
   "metadata": {},
   "source": [
    "Fitting example"
   ]
  },
  {
   "cell_type": "code",
   "execution_count": 20,
   "metadata": {
    "ExecuteTime": {
     "end_time": "2018-10-16T19:54:23.594849Z",
     "start_time": "2018-10-16T19:53:25.987685Z"
    }
   },
   "outputs": [
    {
     "name": "stderr",
     "output_type": "stream",
     "text": [
      "C:\\Users\\hv158\\AppData\\Local\\Continuum\\anaconda3\\lib\\site-packages\\numpy\\core\\_methods.py:32: RuntimeWarning: overflow encountered in reduce\n",
      "  return umr_sum(a, axis, dtype, out, keepdims)\n",
      "C:\\Users\\hv158\\AppData\\Local\\Continuum\\anaconda3\\lib\\site-packages\\ipykernel_launcher.py:139: RuntimeWarning: invalid value encountered in true_divide\n",
      "C:\\Users\\hv158\\AppData\\Local\\Continuum\\anaconda3\\lib\\site-packages\\ipykernel_launcher.py:142: RuntimeWarning: divide by zero encountered in log\n"
     ]
    }
   ],
   "source": [
    "model_lr_homegrown_fixed.fit(X_train, y_train, max_iter=2000, alpha=0.05, val_data=(X_test, y_test))"
   ]
  },
  {
   "cell_type": "code",
   "execution_count": 21,
   "metadata": {
    "ExecuteTime": {
     "end_time": "2018-10-16T19:54:43.730634Z",
     "start_time": "2018-10-16T19:54:43.301459Z"
    }
   },
   "outputs": [
    {
     "data": {
      "image/png": "[encoded data removed]",
      "text/plain": [
       "<Figure size 1440x576 with 2 Axes>"
      ]
     },
     "metadata": {},
     "output_type": "display_data"
    }
   ],
   "source": [
    "plt.figure(figsize=(20, 8))\n",
    "plt.suptitle(\"Homegrown Logistic Regression\")\n",
    "plt.subplot(121)\n",
    "plt.plot(model_lr_homegrown_fixed.history[\"cost\"], label=\"Train\")\n",
    "plt.plot(model_lr_homegrown_fixed.history[\"val_cost\"], label=\"Test\")\n",
    "plt.legend(loc=\"upper left\")\n",
    "plt.xlabel(\"Iteration\")\n",
    "plt.ylabel(\"Loss\")\n",
    "plt.subplot(122)\n",
    "plt.plot(model_lr_homegrown_fixed.history[\"acc\"], label=\"Train\")\n",
    "plt.plot(model_lr_homegrown_fixed.history[\"val_acc\"], label=\"Test\")\n",
    "plt.legend(loc=\"upper left\")\n",
    "plt.xlabel(\"Iteration\")\n",
    "plt.ylabel(\"Accuracy\");"
   ]
  },
  {
   "cell_type": "markdown",
   "metadata": {},
   "source": [
    "Prediction"
   ]
  },
  {
   "cell_type": "code",
   "execution_count": 22,
   "metadata": {
    "ExecuteTime": {
     "end_time": "2018-10-16T19:55:07.230102Z",
     "start_time": "2018-10-16T19:55:07.213089Z"
    }
   },
   "outputs": [],
   "source": [
    "y_pred_test = model_lr_homegrown_fixed.predict(X_test)"
   ]
  },
  {
   "cell_type": "markdown",
   "metadata": {},
   "source": [
    "Accuracy"
   ]
  },
  {
   "cell_type": "code",
   "execution_count": 23,
   "metadata": {
    "ExecuteTime": {
     "end_time": "2018-10-16T19:55:12.941855Z",
     "start_time": "2018-10-16T19:55:12.935827Z"
    }
   },
   "outputs": [],
   "source": [
    "acc = accuracy_score(y_test, y_pred_test)"
   ]
  },
  {
   "cell_type": "markdown",
   "metadata": {},
   "source": [
    "Keeping table of results up-to-date"
   ]
  },
  {
   "cell_type": "code",
   "execution_count": 26,
   "metadata": {
    "ExecuteTime": {
     "end_time": "2018-10-16T19:57:32.764065Z",
     "start_time": "2018-10-16T19:57:32.752051Z"
    }
   },
   "outputs": [
    {
     "data": {
      "text/html": [
       "<div>\n",
       "<style scoped>\n",
       "    .dataframe tbody tr th:only-of-type {\n",
       "        vertical-align: middle;\n",
       "    }\n",
       "\n",
       "    .dataframe tbody tr th {\n",
       "        vertical-align: top;\n",
       "    }\n",
       "\n",
       "    .dataframe thead th {\n",
       "        text-align: right;\n",
       "    }\n",
       "</style>\n",
       "<table border=\"1\" class=\"dataframe\">\n",
       "  <thead>\n",
       "    <tr style=\"text-align: right;\">\n",
       "      <th></th>\n",
       "      <th>Model Description</th>\n",
       "      <th>Test Accuracy</th>\n",
       "      <th>Average #of Zero Coefficients</th>\n",
       "    </tr>\n",
       "  </thead>\n",
       "  <tbody>\n",
       "    <tr>\n",
       "      <th>0</th>\n",
       "      <td>LR Sklearn fake run</td>\n",
       "      <td>0.363</td>\n",
       "      <td>1,000</td>\n",
       "    </tr>\n",
       "    <tr>\n",
       "      <th>1</th>\n",
       "      <td>LR Homegrown Fix 1</td>\n",
       "      <td>0.276</td>\n",
       "      <td>0</td>\n",
       "    </tr>\n",
       "  </tbody>\n",
       "</table>\n",
       "</div>"
      ],
      "text/plain": [
       "     Model Description  Test Accuracy Average #of Zero Coefficients\n",
       "0  LR Sklearn fake run          0.363                         1,000\n",
       "1   LR Homegrown Fix 1          0.276                             0"
      ]
     },
     "execution_count": 26,
     "metadata": {},
     "output_type": "execute_result"
    }
   ],
   "source": [
    "zero = len(model_lr_homegrown_fixed.coef_.flatten())-np.count_nonzero(model_lr_homegrown_fixed.coef_)\n",
    "results.loc[len(results)] = [\"LR Homegrown Fix 1\", np.round(acc, 3),zero] \n",
    "results"
   ]
  },
  {
   "cell_type": "markdown",
   "metadata": {},
   "source": [
    "## Task: improve by tuning training algo.\n",
    "Look at the plots obtained at the end of task 1 (it fluctuates a lot). This behaviour is very common to stochastic gradient descent. But here we are using full GD. What could be causing this problem? (*Hint*: a hyperparameter of the training algorithm)\n",
    "* Describe what's going on on the plots that you got\n",
    "* Try to fix it (*Hint*: you do NOT need to change the class implemented before)\n",
    "\n",
    "P.S.\n",
    "Test accuracy before this fix should be about 26%. This should jump to  31% after. "
   ]
  },
  {
   "cell_type": "code",
   "execution_count": 37,
   "metadata": {
    "ExecuteTime": {
     "end_time": "2018-10-16T20:09:18.463581Z",
     "start_time": "2018-10-16T20:08:48.991257Z"
    }
   },
   "outputs": [
    {
     "name": "stderr",
     "output_type": "stream",
     "text": [
      "C:\\Users\\hv158\\AppData\\Local\\Continuum\\anaconda3\\lib\\site-packages\\numpy\\core\\_methods.py:32: RuntimeWarning: overflow encountered in reduce\n",
      "  return umr_sum(a, axis, dtype, out, keepdims)\n",
      "C:\\Users\\hv158\\AppData\\Local\\Continuum\\anaconda3\\lib\\site-packages\\ipykernel_launcher.py:139: RuntimeWarning: invalid value encountered in true_divide\n",
      "C:\\Users\\hv158\\AppData\\Local\\Continuum\\anaconda3\\lib\\site-packages\\ipykernel_launcher.py:142: RuntimeWarning: divide by zero encountered in log\n"
     ]
    }
   ],
   "source": [
    "#==================================================#\n",
    "#               Place your code here               #\n",
    "#==================================================#\n",
    "model_lr_homegrown_fixed.fit(X_train, y_train, max_iter=1000, alpha=0.005, val_data=(X_test, y_test)) "
   ]
  },
  {
   "cell_type": "code",
   "execution_count": 38,
   "metadata": {
    "ExecuteTime": {
     "end_time": "2018-10-16T20:09:27.416981Z",
     "start_time": "2018-10-16T20:09:27.158310Z"
    }
   },
   "outputs": [
    {
     "data": {
      "image/png": "[encoded data removed]",
      "text/plain": [
       "<Figure size 1440x576 with 2 Axes>"
      ]
     },
     "metadata": {},
     "output_type": "display_data"
    }
   ],
   "source": [
    "plt.figure(figsize=(20, 8))\n",
    "plt.suptitle(\"Homegrown Logistic Regression\")\n",
    "plt.subplot(121)\n",
    "plt.plot(model_lr_homegrown_fixed.history[\"cost\"], label=\"Train\")\n",
    "plt.plot(model_lr_homegrown_fixed.history[\"val_cost\"], label=\"Test\")\n",
    "plt.legend(loc=\"upper left\")\n",
    "plt.xlabel(\"Iteration\")\n",
    "plt.ylabel(\"Loss\")\n",
    "plt.subplot(122)\n",
    "plt.plot(model_lr_homegrown_fixed.history[\"acc\"], label=\"Train\")\n",
    "plt.plot(model_lr_homegrown_fixed.history[\"val_acc\"], label=\"Test\")\n",
    "plt.legend(loc=\"upper left\")\n",
    "plt.xlabel(\"Iteration\")\n",
    "plt.ylabel(\"Accuracy\");"
   ]
  },
  {
   "cell_type": "code",
   "execution_count": 39,
   "metadata": {
    "ExecuteTime": {
     "end_time": "2018-10-16T20:10:10.363749Z",
     "start_time": "2018-10-16T20:10:10.345704Z"
    }
   },
   "outputs": [],
   "source": [
    "y_pred_test = model_lr_homegrown_fixed.predict(X_test)\n",
    "acc = accuracy_score(y_test, y_pred_test)"
   ]
  },
  {
   "cell_type": "code",
   "execution_count": 40,
   "metadata": {
    "ExecuteTime": {
     "end_time": "2018-10-16T20:10:35.417836Z",
     "start_time": "2018-10-16T20:10:35.407845Z"
    }
   },
   "outputs": [
    {
     "data": {
      "text/html": [
       "<div>\n",
       "<style scoped>\n",
       "    .dataframe tbody tr th:only-of-type {\n",
       "        vertical-align: middle;\n",
       "    }\n",
       "\n",
       "    .dataframe tbody tr th {\n",
       "        vertical-align: top;\n",
       "    }\n",
       "\n",
       "    .dataframe thead th {\n",
       "        text-align: right;\n",
       "    }\n",
       "</style>\n",
       "<table border=\"1\" class=\"dataframe\">\n",
       "  <thead>\n",
       "    <tr style=\"text-align: right;\">\n",
       "      <th></th>\n",
       "      <th>Model Description</th>\n",
       "      <th>Test Accuracy</th>\n",
       "      <th>Average #of Zero Coefficients</th>\n",
       "    </tr>\n",
       "  </thead>\n",
       "  <tbody>\n",
       "    <tr>\n",
       "      <th>0</th>\n",
       "      <td>LR Sklearn fake run</td>\n",
       "      <td>0.363</td>\n",
       "      <td>1,000</td>\n",
       "    </tr>\n",
       "    <tr>\n",
       "      <th>1</th>\n",
       "      <td>LR Homegrown Fix 1</td>\n",
       "      <td>0.276</td>\n",
       "      <td>0</td>\n",
       "    </tr>\n",
       "    <tr>\n",
       "      <th>2</th>\n",
       "      <td>LR Homegrown Fix 1</td>\n",
       "      <td>0.308</td>\n",
       "      <td>0</td>\n",
       "    </tr>\n",
       "  </tbody>\n",
       "</table>\n",
       "</div>"
      ],
      "text/plain": [
       "     Model Description  Test Accuracy Average #of Zero Coefficients\n",
       "0  LR Sklearn fake run          0.363                         1,000\n",
       "1   LR Homegrown Fix 1          0.276                             0\n",
       "2   LR Homegrown Fix 1          0.308                             0"
      ]
     },
     "execution_count": 40,
     "metadata": {},
     "output_type": "execute_result"
    }
   ],
   "source": [
    "zero = len(model_lr_homegrown_fixed.coef_.flatten())-np.count_nonzero(model_lr_homegrown_fixed.coef_)\n",
    "results.loc[len(results)] = [\"LR Homegrown Fix 1\", np.round(acc, 3),zero] \n",
    "results"
   ]
  },
  {
   "cell_type": "markdown",
   "metadata": {},
   "source": [
    "### Discussion\n",
    "We are seeing the graphs too wavy because we are using bigger learning rate. This causes 'oscillating' of gradient. If we select smaller learning rate then it is more likely to be smooth, however it might take more iterations to reach to actual gradient value."
   ]
  },
  {
   "cell_type": "markdown",
   "metadata": {},
   "source": [
    "** Note: I was able to get about 31% test set accuracy with all the fixes and tunes**"
   ]
  },
  {
   "cell_type": "markdown",
   "metadata": {},
   "source": [
    "## Task : Visualize the  weight vectors\n",
    "Visualize the  weight vectors (like images) for each class for both Sklearn learnt model and best homegrown learnt model. Can you see any class patterns? How long did it take to run? in both cases?\n",
    "\n",
    "### Task : Use all training data and visualize the  weight vectors\n",
    "Try to use all the training data to learn a classification model  Sklearn and then visual the resulting weight vectors. Notice any differences. How long did it take to run?"
   ]
  },
  {
   "cell_type": "code",
   "execution_count": null,
   "metadata": {
    "collapsed": true
   },
   "outputs": [],
   "source": [
    "#==================================================#\n",
    "#               Place your code here               #\n",
    "#   Hint: use show_pic() function defined above    #\n",
    "#==================================================#"
   ]
  },
  {
   "cell_type": "markdown",
   "metadata": {},
   "source": [
    "## T-SNE dimensionality reduction.\n",
    "\n",
    "See [this](https://www.dropbox.com/s/q0lrqtphxh5j4uv/6-Mapping_Representations-tSNE-visualize-DL-Model-Layers.ipynb?dl=0) notebook and also search materials on the internet (e.g. [this](http://distill.pub/2016/misread-tsne/) one) on T-SNE (t-Distributed Stochastic Neighbor Embedding).\n",
    "\n",
    "Perform this embedding (there is [sklearn](http://scikit-learn.org/stable/modules/generated/sklearn.manifold.TSNE.html) implementation) on first three classes and 500 examples per each of them (this is done ro reduce the execution time)"
   ]
  },
  {
   "cell_type": "code",
   "execution_count": null,
   "metadata": {
    "collapsed": true
   },
   "outputs": [],
   "source": []
  }
 ],
 "metadata": {
  "anaconda-cloud": {},
  "kernelspec": {
   "display_name": "Python 3",
   "language": "python",
   "name": "python3"
  },
  "language_info": {
   "codemirror_mode": {
    "name": "ipython",
    "version": 3
   },
   "file_extension": ".py",
   "mimetype": "text/x-python",
   "name": "python",
   "nbconvert_exporter": "python",
   "pygments_lexer": "ipython3",
   "version": "3.6.5"
  },
  "latex_envs": {
   "LaTeX_envs_menu_present": true,
   "autoclose": true,
   "autocomplete": true,
   "bibliofile": "biblio.bib",
   "cite_by": "apalike",
   "current_citInitial": 1,
   "eqLabelWithNumbers": true,
   "eqNumInitial": 1,
   "hotkeys": {
    "equation": "Ctrl-E",
    "itemize": "Ctrl-I"
   },
   "labels_anchors": false,
   "latex_user_defs": false,
   "report_style_numbering": false,
   "user_envs_cfg": true
  },
  "toc": {
   "base_numbering": 1,
   "nav_menu": {
    "height": "48px",
    "width": "252px"
   },
   "number_sections": true,
   "sideBar": true,
   "skip_h1_title": false,
   "title_cell": "Table of Contents",
   "title_sidebar": "Contents",
   "toc_cell": false,
   "toc_position": {
    "height": "588px",
    "left": "0px",
    "right": "1388px",
    "top": "108px",
    "width": "165px"
   },
   "toc_section_display": "block",
   "toc_window_display": true
  },
  "varInspector": {
   "cols": {
    "lenName": 16,
    "lenType": 16,
    "lenVar": 40
   },
   "kernels_config": {
    "python": {
     "delete_cmd_postfix": "",
     "delete_cmd_prefix": "del ",
     "library": "var_list.py",
     "varRefreshCmd": "print(var_dic_list())"
    },
    "r": {
     "delete_cmd_postfix": ") ",
     "delete_cmd_prefix": "rm(",
     "library": "var_list.r",
     "varRefreshCmd": "cat(var_dic_list()) "
    }
   },
   "types_to_exclude": [
    "module",
    "function",
    "builtin_function_or_method",
    "instance",
    "_Feature"
   ],
   "window_display": false
  }
 },
 "nbformat": 4,
 "nbformat_minor": 1
}
