{
 "cells": [
  {
   "cell_type": "markdown",
   "metadata": {},
   "source": [
    "# Assignment 9 - Titanic - Machine learning Case study"
   ]
  },
  {
   "cell_type": "code",
   "execution_count": 1,
   "metadata": {
    "ExecuteTime": {
     "end_time": "2018-11-03T04:26:24.357435Z",
     "start_time": "2018-11-03T04:26:21.801200Z"
    }
   },
   "outputs": [],
   "source": [
    "import numpy as np\n",
    "import pandas as pd\n",
    "\n",
    "from sklearn.datasets import load_boston\n",
    "from sklearn.model_selection import train_test_split\n",
    "from sklearn.model_selection import KFold\n",
    "from sklearn.preprocessing import MinMaxScaler\n",
    "from sklearn.linear_model import LinearRegression\n",
    "from sklearn.metrics import mean_absolute_error, mean_squared_error\n",
    "\n",
    "import matplotlib\n",
    "import matplotlib.pyplot as plt\n",
    "import seaborn as sns\n",
    "\n",
    "%matplotlib inline"
   ]
  },
  {
   "cell_type": "markdown",
   "metadata": {},
   "source": [
    "## Reading Training data"
   ]
  },
  {
   "cell_type": "code",
   "execution_count": 2,
   "metadata": {
    "ExecuteTime": {
     "end_time": "2018-11-03T04:26:24.400123Z",
     "start_time": "2018-11-03T04:26:24.362188Z"
    }
   },
   "outputs": [],
   "source": [
    "data = pd.read_csv('datasets/titanic/train.csv')"
   ]
  },
  {
   "cell_type": "code",
   "execution_count": 3,
   "metadata": {
    "ExecuteTime": {
     "end_time": "2018-11-03T04:26:24.416170Z",
     "start_time": "2018-11-03T04:26:24.405135Z"
    }
   },
   "outputs": [],
   "source": [
    "y = data['Survived']\n",
    "x = data.drop(['Survived', 'Ticket', 'Cabin'], axis = 1)"
   ]
  },
  {
   "cell_type": "markdown",
   "metadata": {},
   "source": [
    "## Exploratory Data Analysis"
   ]
  },
  {
   "cell_type": "code",
   "execution_count": 4,
   "metadata": {
    "ExecuteTime": {
     "end_time": "2018-11-03T04:26:24.502463Z",
     "start_time": "2018-11-03T04:26:24.421182Z"
    }
   },
   "outputs": [
    {
     "name": "stdout",
     "output_type": "stream",
     "text": [
      "<class 'pandas.core.frame.DataFrame'>\n",
      "RangeIndex: 891 entries, 0 to 890\n",
      "Data columns (total 9 columns):\n",
      "PassengerId    891 non-null int64\n",
      "Pclass         891 non-null int64\n",
      "Name           891 non-null object\n",
      "Sex            891 non-null object\n",
      "Age            714 non-null float64\n",
      "SibSp          891 non-null int64\n",
      "Parch          891 non-null int64\n",
      "Fare           891 non-null float64\n",
      "Embarked       889 non-null object\n",
      "dtypes: float64(2), int64(4), object(3)\n",
      "memory usage: 62.7+ KB\n"
     ]
    }
   ],
   "source": [
    "x.info()"
   ]
  },
  {
   "cell_type": "code",
   "execution_count": 5,
   "metadata": {
    "ExecuteTime": {
     "end_time": "2018-11-03T04:26:24.542007Z",
     "start_time": "2018-11-03T04:26:24.505474Z"
    }
   },
   "outputs": [
    {
     "data": {
      "text/html": [
       "<div>\n",
       "<style scoped>\n",
       "    .dataframe tbody tr th:only-of-type {\n",
       "        vertical-align: middle;\n",
       "    }\n",
       "\n",
       "    .dataframe tbody tr th {\n",
       "        vertical-align: top;\n",
       "    }\n",
       "\n",
       "    .dataframe thead th {\n",
       "        text-align: right;\n",
       "    }\n",
       "</style>\n",
       "<table border=\"1\" class=\"dataframe\">\n",
       "  <thead>\n",
       "    <tr style=\"text-align: right;\">\n",
       "      <th></th>\n",
       "      <th>PassengerId</th>\n",
       "      <th>Pclass</th>\n",
       "      <th>Age</th>\n",
       "      <th>SibSp</th>\n",
       "      <th>Parch</th>\n",
       "      <th>Fare</th>\n",
       "    </tr>\n",
       "  </thead>\n",
       "  <tbody>\n",
       "    <tr>\n",
       "      <th>count</th>\n",
       "      <td>891.000000</td>\n",
       "      <td>891.000000</td>\n",
       "      <td>714.000000</td>\n",
       "      <td>891.000000</td>\n",
       "      <td>891.000000</td>\n",
       "      <td>891.000000</td>\n",
       "    </tr>\n",
       "    <tr>\n",
       "      <th>mean</th>\n",
       "      <td>446.000000</td>\n",
       "      <td>2.308642</td>\n",
       "      <td>29.699118</td>\n",
       "      <td>0.523008</td>\n",
       "      <td>0.381594</td>\n",
       "      <td>32.204208</td>\n",
       "    </tr>\n",
       "    <tr>\n",
       "      <th>std</th>\n",
       "      <td>257.353842</td>\n",
       "      <td>0.836071</td>\n",
       "      <td>14.526497</td>\n",
       "      <td>1.102743</td>\n",
       "      <td>0.806057</td>\n",
       "      <td>49.693429</td>\n",
       "    </tr>\n",
       "    <tr>\n",
       "      <th>min</th>\n",
       "      <td>1.000000</td>\n",
       "      <td>1.000000</td>\n",
       "      <td>0.420000</td>\n",
       "      <td>0.000000</td>\n",
       "      <td>0.000000</td>\n",
       "      <td>0.000000</td>\n",
       "    </tr>\n",
       "    <tr>\n",
       "      <th>25%</th>\n",
       "      <td>223.500000</td>\n",
       "      <td>2.000000</td>\n",
       "      <td>20.125000</td>\n",
       "      <td>0.000000</td>\n",
       "      <td>0.000000</td>\n",
       "      <td>7.910400</td>\n",
       "    </tr>\n",
       "    <tr>\n",
       "      <th>50%</th>\n",
       "      <td>446.000000</td>\n",
       "      <td>3.000000</td>\n",
       "      <td>28.000000</td>\n",
       "      <td>0.000000</td>\n",
       "      <td>0.000000</td>\n",
       "      <td>14.454200</td>\n",
       "    </tr>\n",
       "    <tr>\n",
       "      <th>75%</th>\n",
       "      <td>668.500000</td>\n",
       "      <td>3.000000</td>\n",
       "      <td>38.000000</td>\n",
       "      <td>1.000000</td>\n",
       "      <td>0.000000</td>\n",
       "      <td>31.000000</td>\n",
       "    </tr>\n",
       "    <tr>\n",
       "      <th>max</th>\n",
       "      <td>891.000000</td>\n",
       "      <td>3.000000</td>\n",
       "      <td>80.000000</td>\n",
       "      <td>8.000000</td>\n",
       "      <td>6.000000</td>\n",
       "      <td>512.329200</td>\n",
       "    </tr>\n",
       "  </tbody>\n",
       "</table>\n",
       "</div>"
      ],
      "text/plain": [
       "       PassengerId      Pclass         Age       SibSp       Parch        Fare\n",
       "count   891.000000  891.000000  714.000000  891.000000  891.000000  891.000000\n",
       "mean    446.000000    2.308642   29.699118    0.523008    0.381594   32.204208\n",
       "std     257.353842    0.836071   14.526497    1.102743    0.806057   49.693429\n",
       "min       1.000000    1.000000    0.420000    0.000000    0.000000    0.000000\n",
       "25%     223.500000    2.000000   20.125000    0.000000    0.000000    7.910400\n",
       "50%     446.000000    3.000000   28.000000    0.000000    0.000000   14.454200\n",
       "75%     668.500000    3.000000   38.000000    1.000000    0.000000   31.000000\n",
       "max     891.000000    3.000000   80.000000    8.000000    6.000000  512.329200"
      ]
     },
     "execution_count": 5,
     "metadata": {},
     "output_type": "execute_result"
    }
   ],
   "source": [
    "x.describe()"
   ]
  },
  {
   "cell_type": "code",
   "execution_count": 6,
   "metadata": {
    "ExecuteTime": {
     "end_time": "2018-11-03T04:26:24.554069Z",
     "start_time": "2018-11-03T04:26:24.544013Z"
    }
   },
   "outputs": [
    {
     "data": {
      "text/plain": [
       "PassengerId      0\n",
       "Pclass           0\n",
       "Name             0\n",
       "Sex              0\n",
       "Age            177\n",
       "SibSp            0\n",
       "Parch            0\n",
       "Fare             0\n",
       "Embarked         2\n",
       "dtype: int64"
      ]
     },
     "execution_count": 6,
     "metadata": {},
     "output_type": "execute_result"
    }
   ],
   "source": [
    "x.isnull().sum()"
   ]
  },
  {
   "cell_type": "code",
   "execution_count": 7,
   "metadata": {
    "ExecuteTime": {
     "end_time": "2018-11-03T04:26:24.570141Z",
     "start_time": "2018-11-03T04:26:24.558073Z"
    }
   },
   "outputs": [
    {
     "data": {
      "text/plain": [
       "male      577\n",
       "female    314\n",
       "Name: Sex, dtype: int64"
      ]
     },
     "execution_count": 7,
     "metadata": {},
     "output_type": "execute_result"
    }
   ],
   "source": [
    "x.Sex.value_counts()"
   ]
  },
  {
   "cell_type": "code",
   "execution_count": 8,
   "metadata": {
    "ExecuteTime": {
     "end_time": "2018-11-03T04:26:24.590163Z",
     "start_time": "2018-11-03T04:26:24.572112Z"
    }
   },
   "outputs": [
    {
     "data": {
      "text/plain": [
       "S    644\n",
       "C    168\n",
       "Q     77\n",
       "Name: Embarked, dtype: int64"
      ]
     },
     "execution_count": 8,
     "metadata": {},
     "output_type": "execute_result"
    }
   ],
   "source": [
    "x.Embarked.value_counts()"
   ]
  },
  {
   "cell_type": "code",
   "execution_count": 9,
   "metadata": {
    "ExecuteTime": {
     "end_time": "2018-11-03T04:26:24.616109Z",
     "start_time": "2018-11-03T04:26:24.592164Z"
    }
   },
   "outputs": [
    {
     "data": {
      "text/html": [
       "<div>\n",
       "<style scoped>\n",
       "    .dataframe tbody tr th:only-of-type {\n",
       "        vertical-align: middle;\n",
       "    }\n",
       "\n",
       "    .dataframe tbody tr th {\n",
       "        vertical-align: top;\n",
       "    }\n",
       "\n",
       "    .dataframe thead th {\n",
       "        text-align: right;\n",
       "    }\n",
       "</style>\n",
       "<table border=\"1\" class=\"dataframe\">\n",
       "  <thead>\n",
       "    <tr style=\"text-align: right;\">\n",
       "      <th></th>\n",
       "      <th>PassengerId</th>\n",
       "      <th>Pclass</th>\n",
       "      <th>Name</th>\n",
       "      <th>Sex</th>\n",
       "      <th>Age</th>\n",
       "      <th>SibSp</th>\n",
       "      <th>Parch</th>\n",
       "      <th>Fare</th>\n",
       "      <th>Embarked</th>\n",
       "    </tr>\n",
       "  </thead>\n",
       "  <tbody>\n",
       "    <tr>\n",
       "      <th>61</th>\n",
       "      <td>62</td>\n",
       "      <td>1</td>\n",
       "      <td>Icard, Miss. Amelie</td>\n",
       "      <td>female</td>\n",
       "      <td>38.0</td>\n",
       "      <td>0</td>\n",
       "      <td>0</td>\n",
       "      <td>80.0</td>\n",
       "      <td>NaN</td>\n",
       "    </tr>\n",
       "    <tr>\n",
       "      <th>829</th>\n",
       "      <td>830</td>\n",
       "      <td>1</td>\n",
       "      <td>Stone, Mrs. George Nelson (Martha Evelyn)</td>\n",
       "      <td>female</td>\n",
       "      <td>62.0</td>\n",
       "      <td>0</td>\n",
       "      <td>0</td>\n",
       "      <td>80.0</td>\n",
       "      <td>NaN</td>\n",
       "    </tr>\n",
       "  </tbody>\n",
       "</table>\n",
       "</div>"
      ],
      "text/plain": [
       "     PassengerId  Pclass                                       Name     Sex  \\\n",
       "61            62       1                        Icard, Miss. Amelie  female   \n",
       "829          830       1  Stone, Mrs. George Nelson (Martha Evelyn)  female   \n",
       "\n",
       "      Age  SibSp  Parch  Fare Embarked  \n",
       "61   38.0      0      0  80.0      NaN  \n",
       "829  62.0      0      0  80.0      NaN  "
      ]
     },
     "execution_count": 9,
     "metadata": {},
     "output_type": "execute_result"
    }
   ],
   "source": [
    "x[x[\"Embarked\"].isnull()]"
   ]
  },
  {
   "cell_type": "code",
   "execution_count": 10,
   "metadata": {
    "ExecuteTime": {
     "end_time": "2018-11-03T04:26:26.498402Z",
     "start_time": "2018-11-03T04:26:24.619125Z"
    }
   },
   "outputs": [
    {
     "data": {
      "image/png": "[encoded data removed]",
      "text/plain": [
       "<Figure size 1440x1080 with 6 Axes>"
      ]
     },
     "metadata": {},
     "output_type": "display_data"
    }
   ],
   "source": [
    "x.hist(bins=50, figsize=(20,15))\n",
    "plt.show()"
   ]
  },
  {
   "cell_type": "markdown",
   "metadata": {},
   "source": [
    "## Train Val Data split"
   ]
  },
  {
   "cell_type": "code",
   "execution_count": 11,
   "metadata": {
    "ExecuteTime": {
     "end_time": "2018-11-03T04:26:26.514469Z",
     "start_time": "2018-11-03T04:26:26.502782Z"
    }
   },
   "outputs": [],
   "source": [
    "from sklearn.model_selection import train_test_split\n",
    "\n",
    "x_train,x_val,y_train,y_val = train_test_split(x,y, test_size=0.2, random_state=42)"
   ]
  },
  {
   "cell_type": "code",
   "execution_count": 12,
   "metadata": {
    "ExecuteTime": {
     "end_time": "2018-11-03T04:26:26.538533Z",
     "start_time": "2018-11-03T04:26:26.519480Z"
    }
   },
   "outputs": [
    {
     "data": {
      "text/plain": [
       "((712, 9), (712,), (179, 9), (179,))"
      ]
     },
     "execution_count": 12,
     "metadata": {},
     "output_type": "execute_result"
    }
   ],
   "source": [
    "x_train.shape,y_train.shape,x_val.shape,y_val.shape"
   ]
  },
  {
   "cell_type": "code",
   "execution_count": 13,
   "metadata": {
    "ExecuteTime": {
     "end_time": "2018-11-03T04:26:26.566475Z",
     "start_time": "2018-11-03T04:26:26.543177Z"
    }
   },
   "outputs": [],
   "source": [
    "num_col = ['PassengerId','Pclass','Age','SibSp','Parch','Fare']\n",
    "str_col = ['Name','Sex','Embarked']"
   ]
  },
  {
   "cell_type": "markdown",
   "metadata": {},
   "source": [
    "## Feature Engineering"
   ]
  },
  {
   "cell_type": "code",
   "execution_count": 14,
   "metadata": {
    "ExecuteTime": {
     "end_time": "2018-11-03T04:26:26.598571Z",
     "start_time": "2018-11-03T04:26:26.573452Z"
    }
   },
   "outputs": [],
   "source": [
    "corr_matrix = data.corr()"
   ]
  },
  {
   "cell_type": "code",
   "execution_count": 15,
   "metadata": {
    "ExecuteTime": {
     "end_time": "2018-11-03T04:26:26.630518Z",
     "start_time": "2018-11-03T04:26:26.606595Z"
    }
   },
   "outputs": [
    {
     "data": {
      "text/plain": [
       "Survived       1.000000\n",
       "Fare           0.257307\n",
       "Parch          0.081629\n",
       "PassengerId   -0.005007\n",
       "SibSp         -0.035322\n",
       "Age           -0.077221\n",
       "Pclass        -0.338481\n",
       "Name: Survived, dtype: float64"
      ]
     },
     "execution_count": 15,
     "metadata": {},
     "output_type": "execute_result"
    }
   ],
   "source": [
    "corr_matrix[\"Survived\"].sort_values(ascending=False)"
   ]
  },
  {
   "cell_type": "code",
   "execution_count": 16,
   "metadata": {
    "ExecuteTime": {
     "end_time": "2018-11-03T04:26:29.203458Z",
     "start_time": "2018-11-03T04:26:26.634863Z"
    }
   },
   "outputs": [
    {
     "data": {
      "text/plain": [
       "array([[<matplotlib.axes._subplots.AxesSubplot object at 0x0000017A3FB2E5C0>,\n",
       "        <matplotlib.axes._subplots.AxesSubplot object at 0x0000017A3FB5D5C0>,\n",
       "        <matplotlib.axes._subplots.AxesSubplot object at 0x0000017A3F41A550>,\n",
       "        <matplotlib.axes._subplots.AxesSubplot object at 0x0000017A3F43DBA8>,\n",
       "        <matplotlib.axes._subplots.AxesSubplot object at 0x0000017A3F46C278>],\n",
       "       [<matplotlib.axes._subplots.AxesSubplot object at 0x0000017A3F46C2B0>,\n",
       "        <matplotlib.axes._subplots.AxesSubplot object at 0x0000017A3F4BBF98>,\n",
       "        <matplotlib.axes._subplots.AxesSubplot object at 0x0000017A3F4ED668>,\n",
       "        <matplotlib.axes._subplots.AxesSubplot object at 0x0000017A3F515CF8>,\n",
       "        <matplotlib.axes._subplots.AxesSubplot object at 0x0000017A3F5463C8>],\n",
       "       [<matplotlib.axes._subplots.AxesSubplot object at 0x0000017A3F56EA58>,\n",
       "        <matplotlib.axes._subplots.AxesSubplot object at 0x0000017A3F5A0128>,\n",
       "        <matplotlib.axes._subplots.AxesSubplot object at 0x0000017A3F5C87B8>,\n",
       "        <matplotlib.axes._subplots.AxesSubplot object at 0x0000017A3F5F1E48>,\n",
       "        <matplotlib.axes._subplots.AxesSubplot object at 0x0000017A3F623518>],\n",
       "       [<matplotlib.axes._subplots.AxesSubplot object at 0x0000017A3F64BBA8>,\n",
       "        <matplotlib.axes._subplots.AxesSubplot object at 0x0000017A3F67C278>,\n",
       "        <matplotlib.axes._subplots.AxesSubplot object at 0x0000017A3F6A4908>,\n",
       "        <matplotlib.axes._subplots.AxesSubplot object at 0x0000017A3F6CCF98>,\n",
       "        <matplotlib.axes._subplots.AxesSubplot object at 0x0000017A3F6FF668>],\n",
       "       [<matplotlib.axes._subplots.AxesSubplot object at 0x0000017A3F728CF8>,\n",
       "        <matplotlib.axes._subplots.AxesSubplot object at 0x0000017A3F7593C8>,\n",
       "        <matplotlib.axes._subplots.AxesSubplot object at 0x0000017A3F780A58>,\n",
       "        <matplotlib.axes._subplots.AxesSubplot object at 0x0000017A3F7B2128>,\n",
       "        <matplotlib.axes._subplots.AxesSubplot object at 0x0000017A3F7D77B8>]],\n",
       "      dtype=object)"
      ]
     },
     "execution_count": 16,
     "metadata": {},
     "output_type": "execute_result"
    },
    {
     "data": {
      "image/png": "[encoded data removed]",
      "text/plain": [
       "<Figure size 864x576 with 25 Axes>"
      ]
     },
     "metadata": {},
     "output_type": "display_data"
    }
   ],
   "source": [
    "from pandas.plotting import scatter_matrix\n",
    "\n",
    "# Top three correlated inputs with housing_median_age\n",
    "attributes = [\"Survived\", \"Fare\", \"Parch\", \"Pclass\",\"Age\"]\n",
    "scatter_matrix(data[attributes], figsize=(12, 8))"
   ]
  },
  {
   "cell_type": "code",
   "execution_count": 17,
   "metadata": {
    "ExecuteTime": {
     "end_time": "2018-11-03T04:26:29.803100Z",
     "start_time": "2018-11-03T04:26:29.206573Z"
    }
   },
   "outputs": [
    {
     "data": {
      "text/plain": [
       "<matplotlib.axes._subplots.AxesSubplot at 0x17a3f379cf8>"
      ]
     },
     "execution_count": 17,
     "metadata": {},
     "output_type": "execute_result"
    },
    {
     "data": {
      "image/png": "[encoded data removed]",
      "text/plain": [
       "<Figure size 432x288 with 2 Axes>"
      ]
     },
     "metadata": {},
     "output_type": "display_data"
    }
   ],
   "source": [
    "sns.heatmap(np.round(corr_matrix,2),square=True,annot=True,cmap='coolwarm')"
   ]
  },
  {
   "cell_type": "markdown",
   "metadata": {},
   "source": [
    "### Numerical Features"
   ]
  },
  {
   "cell_type": "code",
   "execution_count": 18,
   "metadata": {
    "ExecuteTime": {
     "end_time": "2018-11-03T04:26:29.815755Z",
     "start_time": "2018-11-03T04:26:29.807326Z"
    }
   },
   "outputs": [],
   "source": [
    "from sklearn.base import BaseEstimator, TransformerMixin\n",
    "\n",
    "# Create a class to select numerical or categorical columns \n",
    "# since Scikit-Learn doesn't handle DataFrames yet\n",
    "class DataFrameSelector(BaseEstimator, TransformerMixin):\n",
    "    def __init__(self, attribute_names):\n",
    "        self.attribute_names = attribute_names\n",
    "    def fit(self, x_in, y=None):\n",
    "        return self\n",
    "    def transform(self, x_in):\n",
    "        return x_in[self.attribute_names].values"
   ]
  },
  {
   "cell_type": "code",
   "execution_count": 19,
   "metadata": {
    "ExecuteTime": {
     "end_time": "2018-11-03T04:26:29.853003Z",
     "start_time": "2018-11-03T04:26:29.819764Z"
    }
   },
   "outputs": [
    {
     "data": {
      "text/plain": [
       "array([[0.56647399, 0.        , 0.        ],\n",
       "       [0.28373963, 0.        , 0.        ],\n",
       "       [0.39683338, 0.        , 0.        ],\n",
       "       ...,\n",
       "       [0.50992712, 0.        , 0.25      ],\n",
       "       [0.17064589, 0.33333333, 0.125     ],\n",
       "       [0.25860769, 0.16666667, 0.        ]])"
      ]
     },
     "execution_count": 19,
     "metadata": {},
     "output_type": "execute_result"
    }
   ],
   "source": [
    "from sklearn.pipeline import Pipeline\n",
    "from sklearn.preprocessing import StandardScaler\n",
    "from sklearn.preprocessing import Imputer\n",
    "from sklearn.preprocessing import MinMaxScaler\n",
    "\n",
    "num_cols =['Age','Parch','SibSp']\n",
    "\n",
    "num_pipeline = Pipeline([\n",
    "        ('selector', DataFrameSelector(num_cols)),\n",
    "        ('imputer', Imputer(strategy=\"median\")),\n",
    "        ('std_scaler', MinMaxScaler()),\n",
    "    ])\n",
    "\n",
    "x_train_num_tr = num_pipeline.fit_transform(x_train)\n",
    "x_train_num_tr "
   ]
  },
  {
   "cell_type": "code",
   "execution_count": 20,
   "metadata": {
    "ExecuteTime": {
     "end_time": "2018-11-03T04:26:29.877127Z",
     "start_time": "2018-11-03T04:26:29.857009Z"
    }
   },
   "outputs": [
    {
     "data": {
      "text/plain": [
       "array([0.013, 0.167, 0.125])"
      ]
     },
     "execution_count": 20,
     "metadata": {},
     "output_type": "execute_result"
    }
   ],
   "source": [
    "np.round(num_pipeline.named_steps.std_scaler.scale_,3)"
   ]
  },
  {
   "cell_type": "markdown",
   "metadata": {},
   "source": [
    "### Categorical Features"
   ]
  },
  {
   "cell_type": "code",
   "execution_count": 21,
   "metadata": {
    "ExecuteTime": {
     "end_time": "2018-11-03T04:26:29.933065Z",
     "start_time": "2018-11-03T04:26:29.881329Z"
    }
   },
   "outputs": [],
   "source": [
    "# Definition of the CategoricalEncoder class, copied from PR #9151.\n",
    "# Just run this cell, or copy it to your code, do not try to understand it (yet).\n",
    "\n",
    "from sklearn.base import BaseEstimator, TransformerMixin\n",
    "from sklearn.utils import check_array\n",
    "from sklearn.preprocessing import LabelEncoder\n",
    "from scipy import sparse\n",
    "\n",
    "class CategoricalEncoder(BaseEstimator, TransformerMixin):\n",
    "    \"\"\"Encode categorical features as a numeric array.\n",
    "    The input to this transformer should be a matrix of integers or strings,\n",
    "    denoting the values taken on by categorical (discrete) features.\n",
    "    The features can be encoded using a one-hot aka one-of-K scheme\n",
    "    (``encoding='onehot'``, the default) or converted to ordinal integers\n",
    "    (``encoding='ordinal'``).\n",
    "    This encoding is needed for feeding categorical data to many scikit-learn\n",
    "    estimators, notably linear models and SVMs with the standard kernels.\n",
    "    Read more in the :ref:`User Guide <preprocessing_categorical_features>`.\n",
    "    Parameters\n",
    "    ----------\n",
    "    encoding : str, 'onehot', 'onehot-dense' or 'ordinal'\n",
    "        The type of encoding to use (default is 'onehot'):\n",
    "        - 'onehot': encode the features using a one-hot aka one-of-K scheme\n",
    "          (or also called 'dummy' encoding). This creates a binary column for\n",
    "          each category and returns a sparse matrix.\n",
    "        - 'onehot-dense': the same as 'onehot' but returns a dense array\n",
    "          instead of a sparse matrix.\n",
    "        - 'ordinal': encode the features as ordinal integers. This results in\n",
    "          a single column of integers (0 to n_categories - 1) per feature.\n",
    "    categories : 'auto' or a list of lists/arrays of values.\n",
    "        Categories (unique values) per feature:\n",
    "        - 'auto' : Determine categories automatically from the training data.\n",
    "        - list : ``categories[i]`` holds the categories expected in the ith\n",
    "          column. The passed categories are sorted before encoding the data\n",
    "          (used categories can be found in the ``categories_`` attribute).\n",
    "    dtype : number type, default np.float64\n",
    "        Desired dtype of output.\n",
    "    handle_unknown : 'error' (default) or 'ignore'\n",
    "        Whether to raise an error or ignore if a unknown categorical feature is\n",
    "        present during transform (default is to raise). When this is parameter\n",
    "        is set to 'ignore' and an unknown category is encountered during\n",
    "        transform, the resulting one-hot encoded columns for this feature\n",
    "        will be all zeros.\n",
    "        Ignoring unknown categories is not supported for\n",
    "        ``encoding='ordinal'``.\n",
    "    Attributes\n",
    "    ----------\n",
    "    categories_ : list of arrays\n",
    "        The categories of each feature determined during fitting. When\n",
    "        categories were specified manually, this holds the sorted categories\n",
    "        (in order corresponding with output of `transform`).\n",
    "    Examples\n",
    "    --------\n",
    "    Given a dataset with three features and two samples, we let the encoder\n",
    "    find the maximum value per feature and transform the data to a binary\n",
    "    one-hot encoding.\n",
    "    >>> from sklearn.preprocessing import CategoricalEncoder\n",
    "    >>> enc = CategoricalEncoder(handle_unknown='ignore')\n",
    "    >>> enc.fit([[0, 0, 3], [1, 1, 0], [0, 2, 1], [1, 0, 2]])\n",
    "    ... # doctest: +ELLIPSIS\n",
    "    CategoricalEncoder(categories='auto', dtype=<... 'numpy.float64'>,\n",
    "              encoding='onehot', handle_unknown='ignore')\n",
    "    >>> enc.transform([[0, 1, 1], [1, 0, 4]]).toarray()\n",
    "    array([[ 1.,  0.,  0.,  1.,  0.,  0.,  1.,  0.,  0.],\n",
    "           [ 0.,  1.,  1.,  0.,  0.,  0.,  0.,  0.,  0.]])\n",
    "    See also\n",
    "    --------\n",
    "    sklearn.preprocessing.OneHotEncoder : performs a one-hot encoding of\n",
    "      integer ordinal features. The ``OneHotEncoder assumes`` that input\n",
    "      features take on values in the range ``[0, max(feature)]`` instead of\n",
    "      using the unique values.\n",
    "    sklearn.feature_extraction.DictVectorizer : performs a one-hot encoding of\n",
    "      dictionary items (also handles string-valued features).\n",
    "    sklearn.feature_extraction.FeatureHasher : performs an approximate one-hot\n",
    "      encoding of dictionary items or strings.\n",
    "    \"\"\"\n",
    "\n",
    "    def __init__(self, encoding='onehot', categories='auto', dtype=np.float64,\n",
    "                 handle_unknown='error'):\n",
    "        self.encoding = encoding\n",
    "        self.categories = categories\n",
    "        self.dtype = dtype\n",
    "        self.handle_unknown = handle_unknown\n",
    "\n",
    "    def fit(self, X, y=None):\n",
    "        \"\"\"Fit the CategoricalEncoder to X.\n",
    "        Parameters\n",
    "        ----------\n",
    "        X : array-like, shape [n_samples, n_feature]\n",
    "            The data to determine the categories of each feature.\n",
    "        Returns\n",
    "        -------\n",
    "        self\n",
    "        \"\"\"\n",
    "\n",
    "        if self.encoding not in ['onehot', 'onehot-dense', 'ordinal']:\n",
    "            template = (\"encoding should be either 'onehot', 'onehot-dense' \"\n",
    "                        \"or 'ordinal', got %s\")\n",
    "            raise ValueError(template % self.handle_unknown)\n",
    "\n",
    "        if self.handle_unknown not in ['error', 'ignore']:\n",
    "            template = (\"handle_unknown should be either 'error' or \"\n",
    "                        \"'ignore', got %s\")\n",
    "            raise ValueError(template % self.handle_unknown)\n",
    "\n",
    "        if self.encoding == 'ordinal' and self.handle_unknown == 'ignore':\n",
    "            raise ValueError(\"handle_unknown='ignore' is not supported for\"\n",
    "                             \" encoding='ordinal'\")\n",
    "\n",
    "        X = check_array(X, dtype=np.object, accept_sparse='csc', copy=True)\n",
    "        n_samples, n_features = X.shape\n",
    "\n",
    "        self._label_encoders_ = [LabelEncoder() for _ in range(n_features)]\n",
    "\n",
    "        for i in range(n_features):\n",
    "            le = self._label_encoders_[i]\n",
    "            Xi = X[:, i]\n",
    "            if self.categories == 'auto':\n",
    "                le.fit(Xi)\n",
    "            else:\n",
    "                valid_mask = np.in1d(Xi, self.categories[i])\n",
    "                if not np.all(valid_mask):\n",
    "                    if self.handle_unknown == 'error':\n",
    "                        diff = np.unique(Xi[~valid_mask])\n",
    "                        msg = (\"Found unknown categories {0} in column {1}\"\n",
    "                               \" during fit\".format(diff, i))\n",
    "                        raise ValueError(msg)\n",
    "                le.classes_ = np.array(np.sort(self.categories[i]))\n",
    "\n",
    "        self.categories_ = [le.classes_ for le in self._label_encoders_]\n",
    "\n",
    "        return self\n",
    "\n",
    "    def transform(self, X):\n",
    "        \"\"\"Transform X using one-hot encoding.\n",
    "        Parameters\n",
    "        ----------\n",
    "        X : array-like, shape [n_samples, n_features]\n",
    "            The data to encode.\n",
    "        Returns\n",
    "        -------\n",
    "        X_out : sparse matrix or a 2-d array\n",
    "            Transformed input.\n",
    "        \"\"\"\n",
    "        X = check_array(X, accept_sparse='csc', dtype=np.object, copy=True)\n",
    "        n_samples, n_features = X.shape\n",
    "        X_int = np.zeros_like(X, dtype=np.int)\n",
    "        X_mask = np.ones_like(X, dtype=np.bool)\n",
    "\n",
    "        for i in range(n_features):\n",
    "            valid_mask = np.in1d(X[:, i], self.categories_[i])\n",
    "\n",
    "            if not np.all(valid_mask):\n",
    "                if self.handle_unknown == 'error':\n",
    "                    diff = np.unique(X[~valid_mask, i])\n",
    "                    msg = (\"Found unknown categories {0} in column {1}\"\n",
    "                           \" during transform\".format(diff, i))\n",
    "                    raise ValueError(msg)\n",
    "                else:\n",
    "                    # Set the problematic rows to an acceptable value and\n",
    "                    # continue `The rows are marked `X_mask` and will be\n",
    "                    # removed later.\n",
    "                    X_mask[:, i] = valid_mask\n",
    "                    X[:, i][~valid_mask] = self.categories_[i][0]\n",
    "            X_int[:, i] = self._label_encoders_[i].transform(X[:, i])\n",
    "\n",
    "        if self.encoding == 'ordinal':\n",
    "            return X_int.astype(self.dtype, copy=False)\n",
    "\n",
    "        mask = X_mask.ravel()\n",
    "        n_values = [cats.shape[0] for cats in self.categories_]\n",
    "        n_values = np.array([0] + n_values)\n",
    "        indices = np.cumsum(n_values)\n",
    "\n",
    "        column_indices = (X_int + indices[:-1]).ravel()[mask]\n",
    "        row_indices = np.repeat(np.arange(n_samples, dtype=np.int32),\n",
    "                                n_features)[mask]\n",
    "        data = np.ones(n_samples * n_features)[mask]\n",
    "\n",
    "        out = sparse.csc_matrix((data, (row_indices, column_indices)),\n",
    "                                shape=(n_samples, indices[-1]),\n",
    "                                dtype=self.dtype).tocsr()\n",
    "        if self.encoding == 'onehot-dense':\n",
    "            return out.toarray()\n",
    "        else:\n",
    "            return out"
   ]
  },
  {
   "cell_type": "code",
   "execution_count": 22,
   "metadata": {
    "ExecuteTime": {
     "end_time": "2018-11-03T04:26:30.030159Z",
     "start_time": "2018-11-03T04:26:29.937419Z"
    }
   },
   "outputs": [
    {
     "name": "stderr",
     "output_type": "stream",
     "text": [
      "C:\\Users\\hv158\\AppData\\Local\\Continuum\\anaconda3\\lib\\site-packages\\ipykernel_launcher.py:1: SettingWithCopyWarning: \n",
      "A value is trying to be set on a copy of a slice from a DataFrame.\n",
      "Try using .loc[row_indexer,col_indexer] = value instead\n",
      "\n",
      "See the caveats in the documentation: http://pandas.pydata.org/pandas-docs/stable/indexing.html#indexing-view-versus-copy\n",
      "  \"\"\"Entry point for launching an IPython kernel.\n"
     ]
    },
    {
     "data": {
      "text/plain": [
       "array([[0., 0., 1.],\n",
       "       [0., 0., 1.],\n",
       "       [0., 0., 1.],\n",
       "       ...,\n",
       "       [0., 0., 1.],\n",
       "       [0., 0., 1.],\n",
       "       [0., 0., 1.]])"
      ]
     },
     "execution_count": 22,
     "metadata": {},
     "output_type": "execute_result"
    }
   ],
   "source": [
    "x_train['Embarked']=x_train['Embarked'].fillna('C')\n",
    "cat_encoder = CategoricalEncoder(encoding=\"onehot-dense\")\n",
    "x_train_cat = cat_encoder.fit_transform(x_train.Embarked.values.reshape(-1, 1))\n",
    "x_train_cat"
   ]
  },
  {
   "cell_type": "code",
   "execution_count": 23,
   "metadata": {
    "ExecuteTime": {
     "end_time": "2018-11-03T04:26:30.059088Z",
     "start_time": "2018-11-03T04:26:30.034173Z"
    }
   },
   "outputs": [
    {
     "data": {
      "text/plain": [
       "[array(['C', 'Q', 'S'], dtype=object)]"
      ]
     },
     "execution_count": 23,
     "metadata": {},
     "output_type": "execute_result"
    }
   ],
   "source": [
    "cat_encoder.categories_"
   ]
  },
  {
   "cell_type": "code",
   "execution_count": 24,
   "metadata": {
    "ExecuteTime": {
     "end_time": "2018-11-03T04:26:30.150813Z",
     "start_time": "2018-11-03T04:26:30.063095Z"
    }
   },
   "outputs": [
    {
     "name": "stderr",
     "output_type": "stream",
     "text": [
      "C:\\Users\\hv158\\AppData\\Local\\Continuum\\anaconda3\\lib\\site-packages\\pandas\\core\\generic.py:5430: SettingWithCopyWarning: \n",
      "A value is trying to be set on a copy of a slice from a DataFrame\n",
      "\n",
      "See the caveats in the documentation: http://pandas.pydata.org/pandas-docs/stable/indexing.html#indexing-view-versus-copy\n",
      "  self._update_inplace(new_data)\n"
     ]
    },
    {
     "data": {
      "text/plain": [
       "array([[0., 0., 1., 0., 1.],\n",
       "       [0., 0., 1., 0., 1.],\n",
       "       [0., 0., 1., 0., 1.],\n",
       "       ...,\n",
       "       [0., 0., 1., 0., 1.],\n",
       "       [0., 0., 1., 1., 0.],\n",
       "       [0., 0., 1., 0., 1.]])"
      ]
     },
     "execution_count": 24,
     "metadata": {},
     "output_type": "execute_result"
    }
   ],
   "source": [
    "cat_cols =['Embarked','Sex']\n",
    "x_train.Embarked.fillna('C',inplace=True)\n",
    "cat_pipeline = Pipeline([\n",
    "        ('selector', DataFrameSelector(cat_cols)),\n",
    "        ('cat_encoder', CategoricalEncoder(encoding=\"onehot-dense\"))\n",
    "    ])\n",
    "\n",
    "x_train_cat_tr = cat_pipeline.fit_transform(x_train)\n",
    "x_train_cat_tr "
   ]
  },
  {
   "cell_type": "code",
   "execution_count": 25,
   "metadata": {
    "ExecuteTime": {
     "end_time": "2018-11-03T04:26:30.163288Z",
     "start_time": "2018-11-03T04:26:30.154919Z"
    }
   },
   "outputs": [
    {
     "data": {
      "text/plain": [
       "[array(['C', 'Q', 'S'], dtype=object), array(['female', 'male'], dtype=object)]"
      ]
     },
     "execution_count": 25,
     "metadata": {},
     "output_type": "execute_result"
    }
   ],
   "source": [
    "cat_pipeline.named_steps.cat_encoder.categories_"
   ]
  },
  {
   "cell_type": "markdown",
   "metadata": {},
   "source": [
    "### Custom Categorical Feature"
   ]
  },
  {
   "cell_type": "code",
   "execution_count": 26,
   "metadata": {
    "ExecuteTime": {
     "end_time": "2018-11-03T04:26:30.183341Z",
     "start_time": "2018-11-03T04:26:30.166296Z"
    }
   },
   "outputs": [],
   "source": [
    "def get_title(name):\n",
    "    title = name.split(\",\")[1].split(\".\")[0].strip()\n",
    "    return title"
   ]
  },
  {
   "cell_type": "code",
   "execution_count": 27,
   "metadata": {
    "ExecuteTime": {
     "end_time": "2018-11-03T04:26:30.207552Z",
     "start_time": "2018-11-03T04:26:30.186350Z"
    }
   },
   "outputs": [
    {
     "name": "stdout",
     "output_type": "stream",
     "text": [
      "Mr              517\n",
      "Miss            182\n",
      "Mrs             125\n",
      "Master           40\n",
      "Dr                7\n",
      "Rev               6\n",
      "Col               2\n",
      "Mlle              2\n",
      "Major             2\n",
      "the Countess      1\n",
      "Jonkheer          1\n",
      "Lady              1\n",
      "Mme               1\n",
      "Capt              1\n",
      "Ms                1\n",
      "Sir               1\n",
      "Don               1\n",
      "Name: Name, dtype: int64\n"
     ]
    }
   ],
   "source": [
    "#Get all the titles and print how often each one occurs.\n",
    "titles = x[\"Name\"].apply(get_title)\n",
    "print(pd.value_counts(titles))"
   ]
  },
  {
   "cell_type": "code",
   "execution_count": 28,
   "metadata": {
    "ExecuteTime": {
     "end_time": "2018-11-03T04:26:30.235629Z",
     "start_time": "2018-11-03T04:26:30.211599Z"
    }
   },
   "outputs": [
    {
     "data": {
      "text/plain": [
       "(712, 1)"
      ]
     },
     "execution_count": 28,
     "metadata": {},
     "output_type": "execute_result"
    }
   ],
   "source": [
    "from sklearn.base import BaseEstimator, TransformerMixin\n",
    "\n",
    "\n",
    "class CombinedAttributesAdder(BaseEstimator, TransformerMixin):\n",
    "    def __init__(self): # no *args or **kargs\n",
    "        self.sir = ['Dr','Rev','Col','Capt', 'Don', 'Major', 'Sir']\n",
    "        self.lady = ['Mlle','Dona', 'Lady', 'the Countess', 'Jonkheer','Mme','Ms']\n",
    "    def fit(self, x_in, y=None):\n",
    "        return self  # nothing else to do\n",
    "    def transform(self,x_in, y=None):\n",
    "        titles = x_in[\"Name\"].apply(get_title)\n",
    "        titles[titles.isin(self.sir)] = 'Sir'\n",
    "        titles[titles.isin(self.lady)] = 'Lady'\n",
    "        return np.c_[titles]\n",
    "\n",
    "attr_adder = CombinedAttributesAdder()\n",
    "x_train_name = attr_adder.transform(x_train)\n",
    "x_train_name.shape"
   ]
  },
  {
   "cell_type": "code",
   "execution_count": 29,
   "metadata": {
    "ExecuteTime": {
     "end_time": "2018-11-03T04:26:30.251670Z",
     "start_time": "2018-11-03T04:26:30.238638Z"
    }
   },
   "outputs": [],
   "source": [
    "from sklearn.base import BaseEstimator, TransformerMixin\n",
    "\n",
    "# Create a class to select numerical or categorical columns \n",
    "# since Scikit-Learn doesn't handle DataFrames yet\n",
    "class DataFrameSelector1(BaseEstimator, TransformerMixin):\n",
    "    def __init__(self, attribute_names):\n",
    "        self.attribute_names = attribute_names\n",
    "    def fit(self, x_in, y=None):\n",
    "        return self\n",
    "    def transform(self, x_in):\n",
    "        return x_in[self.attribute_names]"
   ]
  },
  {
   "cell_type": "code",
   "execution_count": 30,
   "metadata": {
    "ExecuteTime": {
     "end_time": "2018-11-03T04:26:30.283789Z",
     "start_time": "2018-11-03T04:26:30.254679Z"
    }
   },
   "outputs": [
    {
     "data": {
      "text/plain": [
       "(712, 6)"
      ]
     },
     "execution_count": 30,
     "metadata": {},
     "output_type": "execute_result"
    }
   ],
   "source": [
    "custcat_cols =['Name']\n",
    "Custcat_pipeline = Pipeline([\n",
    "        ('selector', DataFrameSelector1(custcat_cols)),\n",
    "        ('attribs_adder', CombinedAttributesAdder()),  #derive new features \n",
    "        ('cat_encoder', CategoricalEncoder(encoding=\"onehot-dense\"))\n",
    "    ])\n",
    "\n",
    "x_train_custcat_tr = Custcat_pipeline.fit_transform(x_train)\n",
    "x_train_custcat_tr.shape"
   ]
  },
  {
   "cell_type": "markdown",
   "metadata": {},
   "source": [
    "## Data  Preparation Pipeline"
   ]
  },
  {
   "cell_type": "code",
   "execution_count": 31,
   "metadata": {
    "ExecuteTime": {
     "end_time": "2018-11-03T04:26:30.299439Z",
     "start_time": "2018-11-03T04:26:30.286766Z"
    }
   },
   "outputs": [],
   "source": [
    "from sklearn.pipeline import FeatureUnion\n",
    "\n",
    "num_cols =['Age','Parch','SibSp']\n",
    "custcat_cols =['Name']\n",
    "cat_cols =['Embarked','Sex']\n",
    "\n",
    "full_pipeline = FeatureUnion(transformer_list=[\n",
    "        (\"num_pipeline\", num_pipeline),\n",
    "        (\"cat_pipeline\", cat_pipeline),\n",
    "        (\"Custcat_pipeline\", Custcat_pipeline),\n",
    "    ])"
   ]
  },
  {
   "cell_type": "code",
   "execution_count": 32,
   "metadata": {
    "ExecuteTime": {
     "end_time": "2018-11-03T04:26:30.319458Z",
     "start_time": "2018-11-03T04:26:30.302412Z"
    }
   },
   "outputs": [
    {
     "data": {
      "text/plain": [
       "[array(['C', 'Q', 'S'], dtype=object), array(['female', 'male'], dtype=object)]"
      ]
     },
     "execution_count": 32,
     "metadata": {},
     "output_type": "execute_result"
    }
   ],
   "source": [
    "cat_pipeline.named_steps.cat_encoder.categories_"
   ]
  },
  {
   "cell_type": "code",
   "execution_count": 33,
   "metadata": {
    "ExecuteTime": {
     "end_time": "2018-11-03T04:26:30.339513Z",
     "start_time": "2018-11-03T04:26:30.322466Z"
    }
   },
   "outputs": [
    {
     "data": {
      "text/plain": [
       "[array(['Lady', 'Master', 'Miss', 'Mr', 'Mrs', 'Sir'], dtype=object)]"
      ]
     },
     "execution_count": 33,
     "metadata": {},
     "output_type": "execute_result"
    }
   ],
   "source": [
    "Custcat_pipeline.named_steps.cat_encoder.categories_"
   ]
  },
  {
   "cell_type": "code",
   "execution_count": 34,
   "metadata": {
    "ExecuteTime": {
     "end_time": "2018-11-03T04:26:30.374564Z",
     "start_time": "2018-11-03T04:26:30.342519Z"
    }
   },
   "outputs": [
    {
     "data": {
      "text/plain": [
       "array([[0.56647399, 0.        , 0.        , ..., 1.        , 0.        ,\n",
       "        0.        ],\n",
       "       [0.28373963, 0.        , 0.        , ..., 1.        , 0.        ,\n",
       "        0.        ],\n",
       "       [0.39683338, 0.        , 0.        , ..., 1.        , 0.        ,\n",
       "        0.        ],\n",
       "       ...,\n",
       "       [0.50992712, 0.        , 0.25      , ..., 1.        , 0.        ,\n",
       "        0.        ],\n",
       "       [0.17064589, 0.33333333, 0.125     , ..., 0.        , 0.        ,\n",
       "        0.        ],\n",
       "       [0.25860769, 0.16666667, 0.        , ..., 1.        , 0.        ,\n",
       "        0.        ]])"
      ]
     },
     "execution_count": 34,
     "metadata": {},
     "output_type": "execute_result"
    }
   ],
   "source": [
    "x_train_prepared = full_pipeline.fit_transform(x_train)\n",
    "x_train_prepared"
   ]
  },
  {
   "cell_type": "code",
   "execution_count": 35,
   "metadata": {
    "ExecuteTime": {
     "end_time": "2018-11-03T04:26:30.382552Z",
     "start_time": "2018-11-03T04:26:30.377540Z"
    }
   },
   "outputs": [
    {
     "data": {
      "text/plain": [
       "(712, 14)"
      ]
     },
     "execution_count": 35,
     "metadata": {},
     "output_type": "execute_result"
    }
   ],
   "source": [
    "x_train_prepared.shape"
   ]
  },
  {
   "cell_type": "code",
   "execution_count": 36,
   "metadata": {
    "ExecuteTime": {
     "end_time": "2018-11-03T04:26:30.415128Z",
     "start_time": "2018-11-03T04:26:30.385559Z"
    }
   },
   "outputs": [
    {
     "data": {
      "text/plain": [
       "array([[0.40145361, 0.2       , 0.25      , ..., 0.        , 0.        ,\n",
       "        0.        ],\n",
       "       [0.42995582, 0.        , 0.        , ..., 1.        , 0.        ,\n",
       "        0.        ],\n",
       "       [0.27319367, 0.        , 0.        , ..., 1.        , 0.        ,\n",
       "        0.        ],\n",
       "       ...,\n",
       "       [0.52971355, 1.        , 0.25      , ..., 0.        , 1.        ,\n",
       "        0.        ],\n",
       "       [0.23044036, 0.        , 0.        , ..., 0.        , 0.        ,\n",
       "        0.        ],\n",
       "       [0.045176  , 0.2       , 0.25      , ..., 0.        , 0.        ,\n",
       "        0.        ]])"
      ]
     },
     "execution_count": 36,
     "metadata": {},
     "output_type": "execute_result"
    }
   ],
   "source": [
    "x_val_prepared = full_pipeline.fit_transform(x_val)\n",
    "x_val_prepared"
   ]
  },
  {
   "cell_type": "code",
   "execution_count": 37,
   "metadata": {
    "ExecuteTime": {
     "end_time": "2018-11-03T04:26:30.423377Z",
     "start_time": "2018-11-03T04:26:30.418134Z"
    }
   },
   "outputs": [
    {
     "data": {
      "text/plain": [
       "(179, 14)"
      ]
     },
     "execution_count": 37,
     "metadata": {},
     "output_type": "execute_result"
    }
   ],
   "source": [
    "x_val_prepared.shape"
   ]
  },
  {
   "cell_type": "markdown",
   "metadata": {},
   "source": [
    "## Model Evaluation"
   ]
  },
  {
   "cell_type": "code",
   "execution_count": 38,
   "metadata": {
    "ExecuteTime": {
     "end_time": "2018-11-03T04:26:30.439390Z",
     "start_time": "2018-11-03T04:26:30.425349Z"
    }
   },
   "outputs": [],
   "source": [
    "def display_scores(scores):\n",
    "    print(\"Scores:\", scores)\n",
    "    print(\"Mean:\", scores.mean())\n",
    "    print(\"Standard deviation:\", scores.std())"
   ]
  },
  {
   "cell_type": "code",
   "execution_count": 39,
   "metadata": {
    "ExecuteTime": {
     "end_time": "2018-11-03T04:26:30.471551Z",
     "start_time": "2018-11-03T04:26:30.442398Z"
    }
   },
   "outputs": [
    {
     "data": {
      "text/html": [
       "<div>\n",
       "<style scoped>\n",
       "    .dataframe tbody tr th:only-of-type {\n",
       "        vertical-align: middle;\n",
       "    }\n",
       "\n",
       "    .dataframe tbody tr th {\n",
       "        vertical-align: top;\n",
       "    }\n",
       "\n",
       "    .dataframe thead th {\n",
       "        text-align: right;\n",
       "    }\n",
       "</style>\n",
       "<table border=\"1\" class=\"dataframe\">\n",
       "  <thead>\n",
       "    <tr style=\"text-align: right;\">\n",
       "      <th></th>\n",
       "      <th>Model</th>\n",
       "      <th>Parameters</th>\n",
       "      <th>Accuracy</th>\n",
       "      <th>Time</th>\n",
       "    </tr>\n",
       "  </thead>\n",
       "  <tbody>\n",
       "  </tbody>\n",
       "</table>\n",
       "</div>"
      ],
      "text/plain": [
       "Empty DataFrame\n",
       "Columns: [Model, Parameters, Accuracy, Time]\n",
       "Index: []"
      ]
     },
     "execution_count": 39,
     "metadata": {},
     "output_type": "execute_result"
    }
   ],
   "source": [
    "results = pd.DataFrame(columns=[\"Model\",\"Parameters\", \"Accuracy\",\"Time\"])\n",
    "results"
   ]
  },
  {
   "cell_type": "markdown",
   "metadata": {},
   "source": [
    "### Decision Tree Classifier"
   ]
  },
  {
   "cell_type": "code",
   "execution_count": 40,
   "metadata": {
    "ExecuteTime": {
     "end_time": "2018-11-03T04:26:30.588729Z",
     "start_time": "2018-11-03T04:26:30.474560Z"
    }
   },
   "outputs": [
    {
     "name": "stdout",
     "output_type": "stream",
     "text": [
      "Scores: [0.75       0.66666667 0.83333333 0.70833333 0.79166667 0.70833333\n",
      " 0.625      0.66666667 0.75       0.83333333 0.875      0.83333333\n",
      " 0.83333333 0.79166667 0.83333333 0.79166667 0.625      0.66666667\n",
      " 0.625      0.875      0.75       0.83333333 0.70833333 0.625\n",
      " 0.7826087  0.73913043 0.7826087  0.7826087  0.77272727 0.86363636]\n",
      "Mean: 0.7574440052700925\n",
      "Standard deviation: 0.07783361545488578\n"
     ]
    }
   ],
   "source": [
    "from sklearn.tree import DecisionTreeClassifier\n",
    "\n",
    "tree_clf = DecisionTreeClassifier(random_state=42)\n",
    "from sklearn.model_selection import cross_val_score\n",
    "\n",
    "scores = cross_val_score(tree_clf, x_train_prepared, y_train,\n",
    "                         scoring='accuracy', cv=30)\n",
    "display_scores(scores)"
   ]
  },
  {
   "cell_type": "code",
   "execution_count": 41,
   "metadata": {
    "ExecuteTime": {
     "end_time": "2018-11-03T04:26:30.604882Z",
     "start_time": "2018-11-03T04:26:30.590392Z"
    }
   },
   "outputs": [
    {
     "data": {
      "text/html": [
       "<div>\n",
       "<style scoped>\n",
       "    .dataframe tbody tr th:only-of-type {\n",
       "        vertical-align: middle;\n",
       "    }\n",
       "\n",
       "    .dataframe tbody tr th {\n",
       "        vertical-align: top;\n",
       "    }\n",
       "\n",
       "    .dataframe thead th {\n",
       "        text-align: right;\n",
       "    }\n",
       "</style>\n",
       "<table border=\"1\" class=\"dataframe\">\n",
       "  <thead>\n",
       "    <tr style=\"text-align: right;\">\n",
       "      <th></th>\n",
       "      <th>Model</th>\n",
       "      <th>Parameters</th>\n",
       "      <th>Accuracy</th>\n",
       "      <th>Time</th>\n",
       "    </tr>\n",
       "  </thead>\n",
       "  <tbody>\n",
       "    <tr>\n",
       "      <th>0</th>\n",
       "      <td>DecisionTreeClassifier</td>\n",
       "      <td>Default</td>\n",
       "      <td>0.648</td>\n",
       "      <td>0.002008</td>\n",
       "    </tr>\n",
       "  </tbody>\n",
       "</table>\n",
       "</div>"
      ],
      "text/plain": [
       "                    Model Parameters  Accuracy      Time\n",
       "0  DecisionTreeClassifier    Default     0.648  0.002008"
      ]
     },
     "execution_count": 41,
     "metadata": {},
     "output_type": "execute_result"
    }
   ],
   "source": [
    "from sklearn.metrics import accuracy_score\n",
    "import time\n",
    "\n",
    "start = time.time()\n",
    "tree_clf.fit(x_train_prepared, y_train)\n",
    "x_val_predictions = tree_clf.predict(x_val_prepared)\n",
    "tree_acc = accuracy_score(y_val, x_val_predictions)\n",
    "exec_time = time.time()-start\n",
    "\n",
    "results.loc[len(results)] = [\"DecisionTreeClassifier\",\"Default\", np.round(tree_acc, 3),exec_time]\n",
    "results"
   ]
  },
  {
   "cell_type": "markdown",
   "metadata": {},
   "source": [
    "### Random Forest Classifier"
   ]
  },
  {
   "cell_type": "code",
   "execution_count": 42,
   "metadata": {
    "ExecuteTime": {
     "end_time": "2018-11-03T04:26:31.483804Z",
     "start_time": "2018-11-03T04:26:30.606861Z"
    }
   },
   "outputs": [
    {
     "name": "stdout",
     "output_type": "stream",
     "text": [
      "Scores: [0.79166667 0.70833333 0.91666667 0.875      0.79166667 0.70833333\n",
      " 0.625      0.66666667 0.70833333 0.79166667 0.95833333 0.79166667\n",
      " 0.875      0.79166667 0.83333333 0.79166667 0.66666667 0.66666667\n",
      " 0.66666667 0.83333333 0.79166667 0.79166667 0.70833333 0.70833333\n",
      " 0.82608696 0.73913043 0.73913043 0.7826087  0.72727273 0.86363636]\n",
      "Mean: 0.7712066315327186\n",
      "Standard deviation: 0.07943941695505136\n"
     ]
    }
   ],
   "source": [
    "from sklearn.ensemble import RandomForestClassifier\n",
    "\n",
    "forest_clf = RandomForestClassifier(random_state=42)\n",
    "forest_scores = cross_val_score(forest_clf,  x_train_prepared, y_train,\n",
    "                                scoring=\"accuracy\", cv=30)\n",
    "display_scores(forest_scores)"
   ]
  },
  {
   "cell_type": "code",
   "execution_count": 43,
   "metadata": {
    "ExecuteTime": {
     "end_time": "2018-11-03T04:26:31.546898Z",
     "start_time": "2018-11-03T04:26:31.487629Z"
    }
   },
   "outputs": [
    {
     "data": {
      "text/html": [
       "<div>\n",
       "<style scoped>\n",
       "    .dataframe tbody tr th:only-of-type {\n",
       "        vertical-align: middle;\n",
       "    }\n",
       "\n",
       "    .dataframe tbody tr th {\n",
       "        vertical-align: top;\n",
       "    }\n",
       "\n",
       "    .dataframe thead th {\n",
       "        text-align: right;\n",
       "    }\n",
       "</style>\n",
       "<table border=\"1\" class=\"dataframe\">\n",
       "  <thead>\n",
       "    <tr style=\"text-align: right;\">\n",
       "      <th></th>\n",
       "      <th>Model</th>\n",
       "      <th>Parameters</th>\n",
       "      <th>Accuracy</th>\n",
       "      <th>Time</th>\n",
       "    </tr>\n",
       "  </thead>\n",
       "  <tbody>\n",
       "    <tr>\n",
       "      <th>0</th>\n",
       "      <td>DecisionTreeClassifier</td>\n",
       "      <td>Default</td>\n",
       "      <td>0.648</td>\n",
       "      <td>0.002008</td>\n",
       "    </tr>\n",
       "    <tr>\n",
       "      <th>1</th>\n",
       "      <td>RandomForestClassifier</td>\n",
       "      <td>Default</td>\n",
       "      <td>0.726</td>\n",
       "      <td>0.032037</td>\n",
       "    </tr>\n",
       "  </tbody>\n",
       "</table>\n",
       "</div>"
      ],
      "text/plain": [
       "                    Model Parameters  Accuracy      Time\n",
       "0  DecisionTreeClassifier    Default     0.648  0.002008\n",
       "1  RandomForestClassifier    Default     0.726  0.032037"
      ]
     },
     "execution_count": 43,
     "metadata": {},
     "output_type": "execute_result"
    }
   ],
   "source": [
    "from sklearn.metrics import accuracy_score\n",
    "import time\n",
    "\n",
    "start = time.time()\n",
    "forest_clf.fit(x_train_prepared, y_train)\n",
    "x_val_predictions = forest_clf.predict(x_val_prepared)\n",
    "forest_acc = accuracy_score(y_val, x_val_predictions)\n",
    "exec_time = time.time()-start\n",
    "\n",
    "results.loc[len(results)] = [\"RandomForestClassifier\",\"Default\", np.round(forest_acc, 3),exec_time]\n",
    "results"
   ]
  },
  {
   "cell_type": "markdown",
   "metadata": {},
   "source": [
    "### Logistic Regression"
   ]
  },
  {
   "cell_type": "code",
   "execution_count": 44,
   "metadata": {
    "ExecuteTime": {
     "end_time": "2018-11-03T04:26:31.647937Z",
     "start_time": "2018-11-03T04:26:31.550895Z"
    }
   },
   "outputs": [
    {
     "name": "stdout",
     "output_type": "stream",
     "text": [
      "Scores: [0.91666667 0.79166667 0.95833333 0.83333333 0.875      0.70833333\n",
      " 0.75       0.58333333 0.79166667 0.91666667 1.         0.875\n",
      " 0.875      0.83333333 0.83333333 0.79166667 0.79166667 0.70833333\n",
      " 0.70833333 0.75       0.83333333 0.875      0.83333333 0.79166667\n",
      " 0.86956522 0.69565217 0.7826087  0.95652174 0.81818182 0.95454545]\n",
      "Mean: 0.8234025032938076\n",
      "Standard deviation: 0.09058349445123128\n"
     ]
    }
   ],
   "source": [
    "from sklearn.linear_model import LogisticRegression\n",
    "from sklearn.model_selection import cross_val_score\n",
    "\n",
    "log_reg = LogisticRegression()\n",
    "log_scores = cross_val_score(log_reg, x_train_prepared, y_train,\n",
    "                             scoring=\"accuracy\", cv=30)\n",
    "display_scores(log_scores)"
   ]
  },
  {
   "cell_type": "code",
   "execution_count": 45,
   "metadata": {
    "ExecuteTime": {
     "end_time": "2018-11-03T04:26:31.674676Z",
     "start_time": "2018-11-03T04:26:31.651952Z"
    }
   },
   "outputs": [
    {
     "data": {
      "text/html": [
       "<div>\n",
       "<style scoped>\n",
       "    .dataframe tbody tr th:only-of-type {\n",
       "        vertical-align: middle;\n",
       "    }\n",
       "\n",
       "    .dataframe tbody tr th {\n",
       "        vertical-align: top;\n",
       "    }\n",
       "\n",
       "    .dataframe thead th {\n",
       "        text-align: right;\n",
       "    }\n",
       "</style>\n",
       "<table border=\"1\" class=\"dataframe\">\n",
       "  <thead>\n",
       "    <tr style=\"text-align: right;\">\n",
       "      <th></th>\n",
       "      <th>Model</th>\n",
       "      <th>Parameters</th>\n",
       "      <th>Accuracy</th>\n",
       "      <th>Time</th>\n",
       "    </tr>\n",
       "  </thead>\n",
       "  <tbody>\n",
       "    <tr>\n",
       "      <th>0</th>\n",
       "      <td>DecisionTreeClassifier</td>\n",
       "      <td>Default</td>\n",
       "      <td>0.648</td>\n",
       "      <td>0.002008</td>\n",
       "    </tr>\n",
       "    <tr>\n",
       "      <th>1</th>\n",
       "      <td>RandomForestClassifier</td>\n",
       "      <td>Default</td>\n",
       "      <td>0.726</td>\n",
       "      <td>0.032037</td>\n",
       "    </tr>\n",
       "    <tr>\n",
       "      <th>2</th>\n",
       "      <td>LogisticRegression</td>\n",
       "      <td>Default</td>\n",
       "      <td>0.810</td>\n",
       "      <td>0.003206</td>\n",
       "    </tr>\n",
       "  </tbody>\n",
       "</table>\n",
       "</div>"
      ],
      "text/plain": [
       "                    Model Parameters  Accuracy      Time\n",
       "0  DecisionTreeClassifier    Default     0.648  0.002008\n",
       "1  RandomForestClassifier    Default     0.726  0.032037\n",
       "2      LogisticRegression    Default     0.810  0.003206"
      ]
     },
     "execution_count": 45,
     "metadata": {},
     "output_type": "execute_result"
    }
   ],
   "source": [
    "from sklearn.metrics import accuracy_score\n",
    "import time\n",
    "\n",
    "start = time.time()\n",
    "log_reg.fit(x_train_prepared, y_train)\n",
    "x_val_predictions = log_reg.predict(x_val_prepared)\n",
    "log_acc = accuracy_score(y_val, x_val_predictions)\n",
    "exec_time = time.time()-start\n",
    "\n",
    "results.loc[len(results)] = [\"LogisticRegression\",\"Default\", np.round(log_acc, 3),exec_time]\n",
    "results"
   ]
  },
  {
   "cell_type": "markdown",
   "metadata": {},
   "source": [
    "### Statistical Significance Test"
   ]
  },
  {
   "cell_type": "code",
   "execution_count": 46,
   "metadata": {
    "ExecuteTime": {
     "end_time": "2018-11-03T04:26:31.686708Z",
     "start_time": "2018-11-03T04:26:31.678687Z"
    }
   },
   "outputs": [],
   "source": [
    "from scipy import stats\n",
    "\n",
    "(t_score,p_value) = stats.ttest_rel(forest_scores,log_scores)"
   ]
  },
  {
   "cell_type": "code",
   "execution_count": 47,
   "metadata": {
    "ExecuteTime": {
     "end_time": "2018-11-03T04:26:31.710770Z",
     "start_time": "2018-11-03T04:26:31.689716Z"
    }
   },
   "outputs": [
    {
     "data": {
      "text/plain": [
       "(9.885490113209237e-05, -4.509678503977656)"
      ]
     },
     "execution_count": 47,
     "metadata": {},
     "output_type": "execute_result"
    }
   ],
   "source": [
    "p_value,t_score"
   ]
  },
  {
   "cell_type": "markdown",
   "metadata": {},
   "source": [
    "#### Discussion\n",
    "\n",
    "Here we are comparing accuracy of two models - LogisticRegression and RandomForestClassifier <p>\n",
    "Null hypothesis H0 is that both models are performing similarly <p>\n",
    "Alternate hypothesis H1 is that they are different in accuracies <p>\n",
    "    \n",
    "Smaller p-value 9.885490113209237e-05 indicates to strong evidence that **we reject the null hypothesis** ie models have different accuracies. <p>\n",
    "\n",
    "t-score of -4.509678503977656 indicates that **LogisticRegression is performing better** than RandomForestClassifier model <p>"
   ]
  },
  {
   "cell_type": "markdown",
   "metadata": {},
   "source": [
    "## Hyper parameter tuning"
   ]
  },
  {
   "cell_type": "markdown",
   "metadata": {},
   "source": [
    "### Randomized Search"
   ]
  },
  {
   "cell_type": "code",
   "execution_count": 48,
   "metadata": {
    "ExecuteTime": {
     "end_time": "2018-11-03T04:26:32.315551Z",
     "start_time": "2018-11-03T04:26:31.715145Z"
    }
   },
   "outputs": [
    {
     "data": {
      "text/plain": [
       "RandomizedSearchCV(cv=5, error_score='raise',\n",
       "          estimator=LogisticRegression(C=1.0, class_weight=None, dual=False, fit_intercept=True,\n",
       "          intercept_scaling=1, max_iter=100, multi_class='ovr', n_jobs=1,\n",
       "          penalty='l2', random_state=42, solver='liblinear', tol=0.0001,\n",
       "          verbose=0, warm_start=False),\n",
       "          fit_params=None, iid=True, n_iter=25, n_jobs=1,\n",
       "          param_distributions={'max_iter': <scipy.stats._distn_infrastructure.rv_frozen object at 0x0000017A40BBCD68>, 'C': <scipy.stats._distn_infrastructure.rv_frozen object at 0x0000017A40BBCEF0>},\n",
       "          pre_dispatch='2*n_jobs', random_state=42, refit=True,\n",
       "          return_train_score='warn', scoring='accuracy', verbose=0)"
      ]
     },
     "execution_count": 48,
     "metadata": {},
     "output_type": "execute_result"
    }
   ],
   "source": [
    "from sklearn.model_selection import RandomizedSearchCV\n",
    "from scipy.stats import randint\n",
    "from sklearn.linear_model import LogisticRegression\n",
    "\n",
    "param_distribs = {\n",
    "        'max_iter': randint(low=1, high=1000), \n",
    "        'C': randint(low=0.01, high=10),\n",
    "    }\n",
    "\n",
    "log_reg = LogisticRegression(random_state=42)\n",
    "rnd_search = RandomizedSearchCV(log_reg, param_distributions=param_distribs,\n",
    "                                n_iter=25, cv=5, scoring='accuracy', random_state=42)\n",
    "rnd_search.fit(x_train_prepared, y_train)"
   ]
  },
  {
   "cell_type": "code",
   "execution_count": 49,
   "metadata": {
    "ExecuteTime": {
     "end_time": "2018-11-03T04:26:32.331060Z",
     "start_time": "2018-11-03T04:26:32.320117Z"
    }
   },
   "outputs": [
    {
     "name": "stdout",
     "output_type": "stream",
     "text": [
      "0.8202247191011236 {'C': 6, 'max_iter': 436}\n",
      "0.8202247191011236 {'C': 7, 'max_iter': 701}\n",
      "0.8202247191011236 {'C': 4, 'max_iter': 615}\n",
      "0.8202247191011236 {'C': 9, 'max_iter': 467}\n",
      "0.8202247191011236 {'C': 6, 'max_iter': 331}\n",
      "0.8202247191011236 {'C': 7, 'max_iter': 373}\n",
      "0.8202247191011236 {'C': 3, 'max_iter': 872}\n",
      "0.8202247191011236 {'C': 7, 'max_iter': 131}\n",
      "0.8202247191011236 {'C': 5, 'max_iter': 309}\n",
      "0.8174157303370787 {'C': 1, 'max_iter': 344}\n",
      "0.8202247191011236 {'C': 5, 'max_iter': 386}\n",
      "0.8202247191011236 {'C': 4, 'max_iter': 161}\n",
      "0.8202247191011236 {'C': 9, 'max_iter': 22}\n",
      "0.8202247191011236 {'C': 8, 'max_iter': 561}\n",
      "0.8202247191011236 {'C': 9, 'max_iter': 476}\n",
      "0.8230337078651685 {'C': 2, 'max_iter': 876}\n",
      "0.8202247191011236 {'C': 6, 'max_iter': 244}\n",
      "0.8202247191011236 {'C': 8, 'max_iter': 131}\n",
      "0.8202247191011236 {'C': 4, 'max_iter': 819}\n",
      "0.8202247191011236 {'C': 6, 'max_iter': 21}\n",
      "0.8202247191011236 {'C': 8, 'max_iter': 167}\n",
      "0.8174157303370787 {'C': 1, 'max_iter': 388}\n",
      "0.8202247191011236 {'C': 8, 'max_iter': 316}\n",
      "0.8174157303370787 {'C': 1, 'max_iter': 777}\n",
      "0.8202247191011236 {'C': 9, 'max_iter': 565}\n"
     ]
    }
   ],
   "source": [
    "cvres = rnd_search.cv_results_\n",
    "for mean_score, params in zip(cvres[\"mean_test_score\"], cvres[\"params\"]):\n",
    "    print(mean_score, params)"
   ]
  },
  {
   "cell_type": "code",
   "execution_count": 50,
   "metadata": {
    "ExecuteTime": {
     "end_time": "2018-11-03T04:26:32.355159Z",
     "start_time": "2018-11-03T04:26:32.335068Z"
    }
   },
   "outputs": [
    {
     "data": {
      "text/plain": [
       "LogisticRegression(C=2, class_weight=None, dual=False, fit_intercept=True,\n",
       "          intercept_scaling=1, max_iter=876, multi_class='ovr', n_jobs=1,\n",
       "          penalty='l2', random_state=42, solver='liblinear', tol=0.0001,\n",
       "          verbose=0, warm_start=False)"
      ]
     },
     "execution_count": 50,
     "metadata": {},
     "output_type": "execute_result"
    }
   ],
   "source": [
    "rnd_search.best_estimator_"
   ]
  },
  {
   "cell_type": "code",
   "execution_count": 51,
   "metadata": {
    "ExecuteTime": {
     "end_time": "2018-11-03T04:26:32.379250Z",
     "start_time": "2018-11-03T04:26:32.358167Z"
    }
   },
   "outputs": [
    {
     "data": {
      "text/plain": [
       "{'C': 2, 'max_iter': 876}"
      ]
     },
     "execution_count": 51,
     "metadata": {},
     "output_type": "execute_result"
    }
   ],
   "source": [
    "rnd_search.best_params_"
   ]
  },
  {
   "cell_type": "code",
   "execution_count": 52,
   "metadata": {
    "ExecuteTime": {
     "end_time": "2018-11-03T04:26:32.423422Z",
     "start_time": "2018-11-03T04:26:32.383264Z"
    }
   },
   "outputs": [
    {
     "data": {
      "text/html": [
       "<div>\n",
       "<style scoped>\n",
       "    .dataframe tbody tr th:only-of-type {\n",
       "        vertical-align: middle;\n",
       "    }\n",
       "\n",
       "    .dataframe tbody tr th {\n",
       "        vertical-align: top;\n",
       "    }\n",
       "\n",
       "    .dataframe thead th {\n",
       "        text-align: right;\n",
       "    }\n",
       "</style>\n",
       "<table border=\"1\" class=\"dataframe\">\n",
       "  <thead>\n",
       "    <tr style=\"text-align: right;\">\n",
       "      <th></th>\n",
       "      <th>Model</th>\n",
       "      <th>Parameters</th>\n",
       "      <th>Accuracy</th>\n",
       "      <th>Time</th>\n",
       "    </tr>\n",
       "  </thead>\n",
       "  <tbody>\n",
       "    <tr>\n",
       "      <th>0</th>\n",
       "      <td>DecisionTreeClassifier</td>\n",
       "      <td>Default</td>\n",
       "      <td>0.648</td>\n",
       "      <td>0.002008</td>\n",
       "    </tr>\n",
       "    <tr>\n",
       "      <th>1</th>\n",
       "      <td>RandomForestClassifier</td>\n",
       "      <td>Default</td>\n",
       "      <td>0.726</td>\n",
       "      <td>0.032037</td>\n",
       "    </tr>\n",
       "    <tr>\n",
       "      <th>2</th>\n",
       "      <td>LogisticRegression</td>\n",
       "      <td>Default</td>\n",
       "      <td>0.810</td>\n",
       "      <td>0.003206</td>\n",
       "    </tr>\n",
       "    <tr>\n",
       "      <th>3</th>\n",
       "      <td>RandomizedSearch LogisticRegression</td>\n",
       "      <td>'C': 2, 'max_iter': 876</td>\n",
       "      <td>0.793</td>\n",
       "      <td>0.014330</td>\n",
       "    </tr>\n",
       "  </tbody>\n",
       "</table>\n",
       "</div>"
      ],
      "text/plain": [
       "                                 Model               Parameters  Accuracy  \\\n",
       "0               DecisionTreeClassifier                  Default     0.648   \n",
       "1               RandomForestClassifier                  Default     0.726   \n",
       "2                   LogisticRegression                  Default     0.810   \n",
       "3  RandomizedSearch LogisticRegression  'C': 2, 'max_iter': 876     0.793   \n",
       "\n",
       "       Time  \n",
       "0  0.002008  \n",
       "1  0.032037  \n",
       "2  0.003206  \n",
       "3  0.014330  "
      ]
     },
     "execution_count": 52,
     "metadata": {},
     "output_type": "execute_result"
    }
   ],
   "source": [
    "from sklearn.metrics import accuracy_score\n",
    "import time\n",
    "\n",
    "start = time.time()\n",
    "interim_model = rnd_search.best_estimator_\n",
    "\n",
    "X_val_prepared = full_pipeline.transform(x_val)\n",
    "interim_predictions = interim_model.predict(X_val_prepared)\n",
    "\n",
    "interim_acc = accuracy_score(y_val, interim_predictions)\n",
    "exec_time = time.time()-start\n",
    "\n",
    "results.loc[len(results)] = [\"RandomizedSearch LogisticRegression\" ,\"'C': 2, 'max_iter': 876\", np.round(interim_acc, 3),exec_time]\n",
    "results"
   ]
  },
  {
   "cell_type": "markdown",
   "metadata": {},
   "source": [
    "### Grid Search"
   ]
  },
  {
   "cell_type": "code",
   "execution_count": 53,
   "metadata": {
    "ExecuteTime": {
     "end_time": "2018-11-03T04:26:36.587011Z",
     "start_time": "2018-11-03T04:26:32.425431Z"
    }
   },
   "outputs": [
    {
     "data": {
      "text/plain": [
       "GridSearchCV(cv=5, error_score='raise',\n",
       "       estimator=LogisticRegression(C=1.0, class_weight=None, dual=False, fit_intercept=True,\n",
       "          intercept_scaling=1, max_iter=100, multi_class='ovr', n_jobs=1,\n",
       "          penalty='l2', random_state=42, solver='liblinear', tol=0.0001,\n",
       "          verbose=0, warm_start=False),\n",
       "       fit_params=None, iid=True, n_jobs=1,\n",
       "       param_grid=[{'max_iter': [100, 500, 700, 750, 800, 850, 900, 950, 1000], 'C': [0.5, 0.75, 1.0, 1.25, 1.5, 2.0, 2.25, 2.5, 3.0], 'penalty': ['l1', 'l2']}],\n",
       "       pre_dispatch='2*n_jobs', refit=True, return_train_score='warn',\n",
       "       scoring='accuracy', verbose=0)"
      ]
     },
     "execution_count": 53,
     "metadata": {},
     "output_type": "execute_result"
    }
   ],
   "source": [
    "from sklearn.model_selection import GridSearchCV\n",
    "\n",
    "param_grid = [\n",
    "    {'max_iter': [100,500,700,750,800,850,900,950,1000], 'C': [0.5,0.75,1.,1.25,1.5,2.,2.25,2.5,3.],'penalty' : ['l1','l2']},\n",
    "  ]\n",
    "\n",
    "log_reg = LogisticRegression(random_state=42)\n",
    "grid_search = GridSearchCV(log_reg, param_grid, cv=5,\n",
    "                           scoring='accuracy')\n",
    "grid_search.fit(x_train_prepared, y_train)"
   ]
  },
  {
   "cell_type": "code",
   "execution_count": 54,
   "metadata": {
    "ExecuteTime": {
     "end_time": "2018-11-03T04:26:36.599079Z",
     "start_time": "2018-11-03T04:26:36.591431Z"
    }
   },
   "outputs": [
    {
     "data": {
      "text/plain": [
       "LogisticRegression(C=1.0, class_weight=None, dual=False, fit_intercept=True,\n",
       "          intercept_scaling=1, max_iter=100, multi_class='ovr', n_jobs=1,\n",
       "          penalty='l1', random_state=42, solver='liblinear', tol=0.0001,\n",
       "          verbose=0, warm_start=False)"
      ]
     },
     "execution_count": 54,
     "metadata": {},
     "output_type": "execute_result"
    }
   ],
   "source": [
    "grid_search.best_estimator_"
   ]
  },
  {
   "cell_type": "code",
   "execution_count": 55,
   "metadata": {
    "ExecuteTime": {
     "end_time": "2018-11-03T04:26:36.627292Z",
     "start_time": "2018-11-03T04:26:36.603089Z"
    }
   },
   "outputs": [
    {
     "data": {
      "text/plain": [
       "{'C': 1.0, 'max_iter': 100, 'penalty': 'l1'}"
      ]
     },
     "execution_count": 55,
     "metadata": {},
     "output_type": "execute_result"
    }
   ],
   "source": [
    "grid_search.best_params_"
   ]
  },
  {
   "cell_type": "code",
   "execution_count": 56,
   "metadata": {
    "ExecuteTime": {
     "end_time": "2018-11-03T04:26:36.675510Z",
     "start_time": "2018-11-03T04:26:36.631390Z"
    }
   },
   "outputs": [
    {
     "name": "stdout",
     "output_type": "stream",
     "text": [
      "0.8117977528089888 {'C': 0.5, 'max_iter': 100, 'penalty': 'l1'}\n",
      "0.8061797752808989 {'C': 0.5, 'max_iter': 100, 'penalty': 'l2'}\n",
      "0.8117977528089888 {'C': 0.5, 'max_iter': 500, 'penalty': 'l1'}\n",
      "0.8061797752808989 {'C': 0.5, 'max_iter': 500, 'penalty': 'l2'}\n",
      "0.8117977528089888 {'C': 0.5, 'max_iter': 700, 'penalty': 'l1'}\n",
      "0.8061797752808989 {'C': 0.5, 'max_iter': 700, 'penalty': 'l2'}\n",
      "0.8117977528089888 {'C': 0.5, 'max_iter': 750, 'penalty': 'l1'}\n",
      "0.8061797752808989 {'C': 0.5, 'max_iter': 750, 'penalty': 'l2'}\n",
      "0.8117977528089888 {'C': 0.5, 'max_iter': 800, 'penalty': 'l1'}\n",
      "0.8061797752808989 {'C': 0.5, 'max_iter': 800, 'penalty': 'l2'}\n",
      "0.8117977528089888 {'C': 0.5, 'max_iter': 850, 'penalty': 'l1'}\n",
      "0.8061797752808989 {'C': 0.5, 'max_iter': 850, 'penalty': 'l2'}\n",
      "0.8117977528089888 {'C': 0.5, 'max_iter': 900, 'penalty': 'l1'}\n",
      "0.8061797752808989 {'C': 0.5, 'max_iter': 900, 'penalty': 'l2'}\n",
      "0.8117977528089888 {'C': 0.5, 'max_iter': 950, 'penalty': 'l1'}\n",
      "0.8061797752808989 {'C': 0.5, 'max_iter': 950, 'penalty': 'l2'}\n",
      "0.8117977528089888 {'C': 0.5, 'max_iter': 1000, 'penalty': 'l1'}\n",
      "0.8061797752808989 {'C': 0.5, 'max_iter': 1000, 'penalty': 'l2'}\n",
      "0.8216292134831461 {'C': 0.75, 'max_iter': 100, 'penalty': 'l1'}\n",
      "0.8146067415730337 {'C': 0.75, 'max_iter': 100, 'penalty': 'l2'}\n",
      "0.8216292134831461 {'C': 0.75, 'max_iter': 500, 'penalty': 'l1'}\n",
      "0.8146067415730337 {'C': 0.75, 'max_iter': 500, 'penalty': 'l2'}\n",
      "0.8216292134831461 {'C': 0.75, 'max_iter': 700, 'penalty': 'l1'}\n",
      "0.8146067415730337 {'C': 0.75, 'max_iter': 700, 'penalty': 'l2'}\n",
      "0.8216292134831461 {'C': 0.75, 'max_iter': 750, 'penalty': 'l1'}\n",
      "0.8146067415730337 {'C': 0.75, 'max_iter': 750, 'penalty': 'l2'}\n",
      "0.8216292134831461 {'C': 0.75, 'max_iter': 800, 'penalty': 'l1'}\n",
      "0.8146067415730337 {'C': 0.75, 'max_iter': 800, 'penalty': 'l2'}\n",
      "0.8216292134831461 {'C': 0.75, 'max_iter': 850, 'penalty': 'l1'}\n",
      "0.8146067415730337 {'C': 0.75, 'max_iter': 850, 'penalty': 'l2'}\n",
      "0.8216292134831461 {'C': 0.75, 'max_iter': 900, 'penalty': 'l1'}\n",
      "0.8146067415730337 {'C': 0.75, 'max_iter': 900, 'penalty': 'l2'}\n",
      "0.8216292134831461 {'C': 0.75, 'max_iter': 950, 'penalty': 'l1'}\n",
      "0.8146067415730337 {'C': 0.75, 'max_iter': 950, 'penalty': 'l2'}\n",
      "0.8216292134831461 {'C': 0.75, 'max_iter': 1000, 'penalty': 'l1'}\n",
      "0.8146067415730337 {'C': 0.75, 'max_iter': 1000, 'penalty': 'l2'}\n",
      "0.8258426966292135 {'C': 1.0, 'max_iter': 100, 'penalty': 'l1'}\n",
      "0.8174157303370787 {'C': 1.0, 'max_iter': 100, 'penalty': 'l2'}\n",
      "0.8258426966292135 {'C': 1.0, 'max_iter': 500, 'penalty': 'l1'}\n",
      "0.8174157303370787 {'C': 1.0, 'max_iter': 500, 'penalty': 'l2'}\n",
      "0.8258426966292135 {'C': 1.0, 'max_iter': 700, 'penalty': 'l1'}\n",
      "0.8174157303370787 {'C': 1.0, 'max_iter': 700, 'penalty': 'l2'}\n",
      "0.8258426966292135 {'C': 1.0, 'max_iter': 750, 'penalty': 'l1'}\n",
      "0.8174157303370787 {'C': 1.0, 'max_iter': 750, 'penalty': 'l2'}\n",
      "0.8258426966292135 {'C': 1.0, 'max_iter': 800, 'penalty': 'l1'}\n",
      "0.8174157303370787 {'C': 1.0, 'max_iter': 800, 'penalty': 'l2'}\n",
      "0.8258426966292135 {'C': 1.0, 'max_iter': 850, 'penalty': 'l1'}\n",
      "0.8174157303370787 {'C': 1.0, 'max_iter': 850, 'penalty': 'l2'}\n",
      "0.8258426966292135 {'C': 1.0, 'max_iter': 900, 'penalty': 'l1'}\n",
      "0.8174157303370787 {'C': 1.0, 'max_iter': 900, 'penalty': 'l2'}\n",
      "0.8258426966292135 {'C': 1.0, 'max_iter': 950, 'penalty': 'l1'}\n",
      "0.8174157303370787 {'C': 1.0, 'max_iter': 950, 'penalty': 'l2'}\n",
      "0.8258426966292135 {'C': 1.0, 'max_iter': 1000, 'penalty': 'l1'}\n",
      "0.8174157303370787 {'C': 1.0, 'max_iter': 1000, 'penalty': 'l2'}\n",
      "0.8258426966292135 {'C': 1.25, 'max_iter': 100, 'penalty': 'l1'}\n",
      "0.8202247191011236 {'C': 1.25, 'max_iter': 100, 'penalty': 'l2'}\n",
      "0.8258426966292135 {'C': 1.25, 'max_iter': 500, 'penalty': 'l1'}\n",
      "0.8202247191011236 {'C': 1.25, 'max_iter': 500, 'penalty': 'l2'}\n",
      "0.8258426966292135 {'C': 1.25, 'max_iter': 700, 'penalty': 'l1'}\n",
      "0.8202247191011236 {'C': 1.25, 'max_iter': 700, 'penalty': 'l2'}\n",
      "0.8258426966292135 {'C': 1.25, 'max_iter': 750, 'penalty': 'l1'}\n",
      "0.8202247191011236 {'C': 1.25, 'max_iter': 750, 'penalty': 'l2'}\n",
      "0.8258426966292135 {'C': 1.25, 'max_iter': 800, 'penalty': 'l1'}\n",
      "0.8202247191011236 {'C': 1.25, 'max_iter': 800, 'penalty': 'l2'}\n",
      "0.8258426966292135 {'C': 1.25, 'max_iter': 850, 'penalty': 'l1'}\n",
      "0.8202247191011236 {'C': 1.25, 'max_iter': 850, 'penalty': 'l2'}\n",
      "0.8258426966292135 {'C': 1.25, 'max_iter': 900, 'penalty': 'l1'}\n",
      "0.8202247191011236 {'C': 1.25, 'max_iter': 900, 'penalty': 'l2'}\n",
      "0.8258426966292135 {'C': 1.25, 'max_iter': 950, 'penalty': 'l1'}\n",
      "0.8202247191011236 {'C': 1.25, 'max_iter': 950, 'penalty': 'l2'}\n",
      "0.8258426966292135 {'C': 1.25, 'max_iter': 1000, 'penalty': 'l1'}\n",
      "0.8202247191011236 {'C': 1.25, 'max_iter': 1000, 'penalty': 'l2'}\n",
      "0.824438202247191 {'C': 1.5, 'max_iter': 100, 'penalty': 'l1'}\n",
      "0.8202247191011236 {'C': 1.5, 'max_iter': 100, 'penalty': 'l2'}\n",
      "0.824438202247191 {'C': 1.5, 'max_iter': 500, 'penalty': 'l1'}\n",
      "0.8202247191011236 {'C': 1.5, 'max_iter': 500, 'penalty': 'l2'}\n",
      "0.824438202247191 {'C': 1.5, 'max_iter': 700, 'penalty': 'l1'}\n",
      "0.8202247191011236 {'C': 1.5, 'max_iter': 700, 'penalty': 'l2'}\n",
      "0.824438202247191 {'C': 1.5, 'max_iter': 750, 'penalty': 'l1'}\n",
      "0.8202247191011236 {'C': 1.5, 'max_iter': 750, 'penalty': 'l2'}\n",
      "0.824438202247191 {'C': 1.5, 'max_iter': 800, 'penalty': 'l1'}\n",
      "0.8202247191011236 {'C': 1.5, 'max_iter': 800, 'penalty': 'l2'}\n",
      "0.824438202247191 {'C': 1.5, 'max_iter': 850, 'penalty': 'l1'}\n",
      "0.8202247191011236 {'C': 1.5, 'max_iter': 850, 'penalty': 'l2'}\n",
      "0.824438202247191 {'C': 1.5, 'max_iter': 900, 'penalty': 'l1'}\n",
      "0.8202247191011236 {'C': 1.5, 'max_iter': 900, 'penalty': 'l2'}\n",
      "0.824438202247191 {'C': 1.5, 'max_iter': 950, 'penalty': 'l1'}\n",
      "0.8202247191011236 {'C': 1.5, 'max_iter': 950, 'penalty': 'l2'}\n",
      "0.824438202247191 {'C': 1.5, 'max_iter': 1000, 'penalty': 'l1'}\n",
      "0.8202247191011236 {'C': 1.5, 'max_iter': 1000, 'penalty': 'l2'}\n",
      "0.8202247191011236 {'C': 2.0, 'max_iter': 100, 'penalty': 'l1'}\n",
      "0.8230337078651685 {'C': 2.0, 'max_iter': 100, 'penalty': 'l2'}\n",
      "0.8202247191011236 {'C': 2.0, 'max_iter': 500, 'penalty': 'l1'}\n",
      "0.8230337078651685 {'C': 2.0, 'max_iter': 500, 'penalty': 'l2'}\n",
      "0.8202247191011236 {'C': 2.0, 'max_iter': 700, 'penalty': 'l1'}\n",
      "0.8230337078651685 {'C': 2.0, 'max_iter': 700, 'penalty': 'l2'}\n",
      "0.8202247191011236 {'C': 2.0, 'max_iter': 750, 'penalty': 'l1'}\n",
      "0.8230337078651685 {'C': 2.0, 'max_iter': 750, 'penalty': 'l2'}\n",
      "0.8202247191011236 {'C': 2.0, 'max_iter': 800, 'penalty': 'l1'}\n",
      "0.8230337078651685 {'C': 2.0, 'max_iter': 800, 'penalty': 'l2'}\n",
      "0.8202247191011236 {'C': 2.0, 'max_iter': 850, 'penalty': 'l1'}\n",
      "0.8230337078651685 {'C': 2.0, 'max_iter': 850, 'penalty': 'l2'}\n",
      "0.8202247191011236 {'C': 2.0, 'max_iter': 900, 'penalty': 'l1'}\n",
      "0.8230337078651685 {'C': 2.0, 'max_iter': 900, 'penalty': 'l2'}\n",
      "0.8202247191011236 {'C': 2.0, 'max_iter': 950, 'penalty': 'l1'}\n",
      "0.8230337078651685 {'C': 2.0, 'max_iter': 950, 'penalty': 'l2'}\n",
      "0.8202247191011236 {'C': 2.0, 'max_iter': 1000, 'penalty': 'l1'}\n",
      "0.8230337078651685 {'C': 2.0, 'max_iter': 1000, 'penalty': 'l2'}\n",
      "0.8202247191011236 {'C': 2.25, 'max_iter': 100, 'penalty': 'l1'}\n",
      "0.8230337078651685 {'C': 2.25, 'max_iter': 100, 'penalty': 'l2'}\n",
      "0.8202247191011236 {'C': 2.25, 'max_iter': 500, 'penalty': 'l1'}\n",
      "0.8230337078651685 {'C': 2.25, 'max_iter': 500, 'penalty': 'l2'}\n",
      "0.8202247191011236 {'C': 2.25, 'max_iter': 700, 'penalty': 'l1'}\n",
      "0.8230337078651685 {'C': 2.25, 'max_iter': 700, 'penalty': 'l2'}\n",
      "0.8202247191011236 {'C': 2.25, 'max_iter': 750, 'penalty': 'l1'}\n",
      "0.8230337078651685 {'C': 2.25, 'max_iter': 750, 'penalty': 'l2'}\n",
      "0.8202247191011236 {'C': 2.25, 'max_iter': 800, 'penalty': 'l1'}\n",
      "0.8230337078651685 {'C': 2.25, 'max_iter': 800, 'penalty': 'l2'}\n",
      "0.8202247191011236 {'C': 2.25, 'max_iter': 850, 'penalty': 'l1'}\n",
      "0.8230337078651685 {'C': 2.25, 'max_iter': 850, 'penalty': 'l2'}\n",
      "0.8202247191011236 {'C': 2.25, 'max_iter': 900, 'penalty': 'l1'}\n",
      "0.8230337078651685 {'C': 2.25, 'max_iter': 900, 'penalty': 'l2'}\n",
      "0.8202247191011236 {'C': 2.25, 'max_iter': 950, 'penalty': 'l1'}\n",
      "0.8230337078651685 {'C': 2.25, 'max_iter': 950, 'penalty': 'l2'}\n",
      "0.8202247191011236 {'C': 2.25, 'max_iter': 1000, 'penalty': 'l1'}\n",
      "0.8230337078651685 {'C': 2.25, 'max_iter': 1000, 'penalty': 'l2'}\n",
      "0.8202247191011236 {'C': 2.5, 'max_iter': 100, 'penalty': 'l1'}\n",
      "0.8202247191011236 {'C': 2.5, 'max_iter': 100, 'penalty': 'l2'}\n",
      "0.8202247191011236 {'C': 2.5, 'max_iter': 500, 'penalty': 'l1'}\n",
      "0.8202247191011236 {'C': 2.5, 'max_iter': 500, 'penalty': 'l2'}\n",
      "0.8202247191011236 {'C': 2.5, 'max_iter': 700, 'penalty': 'l1'}\n",
      "0.8202247191011236 {'C': 2.5, 'max_iter': 700, 'penalty': 'l2'}\n",
      "0.8202247191011236 {'C': 2.5, 'max_iter': 750, 'penalty': 'l1'}\n",
      "0.8202247191011236 {'C': 2.5, 'max_iter': 750, 'penalty': 'l2'}\n",
      "0.8202247191011236 {'C': 2.5, 'max_iter': 800, 'penalty': 'l1'}\n",
      "0.8202247191011236 {'C': 2.5, 'max_iter': 800, 'penalty': 'l2'}\n",
      "0.8202247191011236 {'C': 2.5, 'max_iter': 850, 'penalty': 'l1'}\n",
      "0.8202247191011236 {'C': 2.5, 'max_iter': 850, 'penalty': 'l2'}\n",
      "0.8202247191011236 {'C': 2.5, 'max_iter': 900, 'penalty': 'l1'}\n",
      "0.8202247191011236 {'C': 2.5, 'max_iter': 900, 'penalty': 'l2'}\n",
      "0.8202247191011236 {'C': 2.5, 'max_iter': 950, 'penalty': 'l1'}\n",
      "0.8202247191011236 {'C': 2.5, 'max_iter': 950, 'penalty': 'l2'}\n",
      "0.8202247191011236 {'C': 2.5, 'max_iter': 1000, 'penalty': 'l1'}\n",
      "0.8202247191011236 {'C': 2.5, 'max_iter': 1000, 'penalty': 'l2'}\n",
      "0.8202247191011236 {'C': 3.0, 'max_iter': 100, 'penalty': 'l1'}\n",
      "0.8202247191011236 {'C': 3.0, 'max_iter': 100, 'penalty': 'l2'}\n",
      "0.8202247191011236 {'C': 3.0, 'max_iter': 500, 'penalty': 'l1'}\n",
      "0.8202247191011236 {'C': 3.0, 'max_iter': 500, 'penalty': 'l2'}\n",
      "0.8202247191011236 {'C': 3.0, 'max_iter': 700, 'penalty': 'l1'}\n",
      "0.8202247191011236 {'C': 3.0, 'max_iter': 700, 'penalty': 'l2'}\n",
      "0.8202247191011236 {'C': 3.0, 'max_iter': 750, 'penalty': 'l1'}\n",
      "0.8202247191011236 {'C': 3.0, 'max_iter': 750, 'penalty': 'l2'}\n",
      "0.8202247191011236 {'C': 3.0, 'max_iter': 800, 'penalty': 'l1'}\n",
      "0.8202247191011236 {'C': 3.0, 'max_iter': 800, 'penalty': 'l2'}\n",
      "0.8202247191011236 {'C': 3.0, 'max_iter': 850, 'penalty': 'l1'}\n",
      "0.8202247191011236 {'C': 3.0, 'max_iter': 850, 'penalty': 'l2'}\n",
      "0.8202247191011236 {'C': 3.0, 'max_iter': 900, 'penalty': 'l1'}\n",
      "0.8202247191011236 {'C': 3.0, 'max_iter': 900, 'penalty': 'l2'}\n",
      "0.8202247191011236 {'C': 3.0, 'max_iter': 950, 'penalty': 'l1'}\n",
      "0.8202247191011236 {'C': 3.0, 'max_iter': 950, 'penalty': 'l2'}\n",
      "0.8202247191011236 {'C': 3.0, 'max_iter': 1000, 'penalty': 'l1'}\n",
      "0.8202247191011236 {'C': 3.0, 'max_iter': 1000, 'penalty': 'l2'}\n"
     ]
    }
   ],
   "source": [
    "cvres = grid_search.cv_results_\n",
    "for mean_score, params in zip(cvres[\"mean_test_score\"], cvres[\"params\"]):\n",
    "    print(mean_score, params)"
   ]
  },
  {
   "cell_type": "markdown",
   "metadata": {},
   "source": [
    "## Feature Importance"
   ]
  },
  {
   "cell_type": "code",
   "execution_count": 57,
   "metadata": {
    "ExecuteTime": {
     "end_time": "2018-11-03T04:26:36.691578Z",
     "start_time": "2018-11-03T04:26:36.680525Z"
    }
   },
   "outputs": [
    {
     "data": {
      "text/plain": [
       "array([[ 0.        , -1.22067591, -3.04216445,  0.86652016, -0.10650605,\n",
       "         0.        ,  1.15427933, -0.668488  ,  0.        ,  1.89364194,\n",
       "        -0.13421274, -1.0630982 ,  0.7021122 , -0.04547502]])"
      ]
     },
     "execution_count": 57,
     "metadata": {},
     "output_type": "execute_result"
    }
   ],
   "source": [
    "feature_importances = grid_search.best_estimator_.coef_\n",
    "feature_importances"
   ]
  },
  {
   "cell_type": "code",
   "execution_count": 58,
   "metadata": {
    "ExecuteTime": {
     "end_time": "2018-11-03T04:26:36.715612Z",
     "start_time": "2018-11-03T04:26:36.694556Z"
    }
   },
   "outputs": [
    {
     "data": {
      "text/html": [
       "<div>\n",
       "<style scoped>\n",
       "    .dataframe tbody tr th:only-of-type {\n",
       "        vertical-align: middle;\n",
       "    }\n",
       "\n",
       "    .dataframe tbody tr th {\n",
       "        vertical-align: top;\n",
       "    }\n",
       "\n",
       "    .dataframe thead th {\n",
       "        text-align: right;\n",
       "    }\n",
       "</style>\n",
       "<table border=\"1\" class=\"dataframe\">\n",
       "  <thead>\n",
       "    <tr style=\"text-align: right;\">\n",
       "      <th></th>\n",
       "      <th>attributes</th>\n",
       "      <th>feature_importance</th>\n",
       "    </tr>\n",
       "  </thead>\n",
       "  <tbody>\n",
       "    <tr>\n",
       "      <th>9</th>\n",
       "      <td>Master</td>\n",
       "      <td>1.893642</td>\n",
       "    </tr>\n",
       "    <tr>\n",
       "      <th>6</th>\n",
       "      <td>female</td>\n",
       "      <td>1.154279</td>\n",
       "    </tr>\n",
       "    <tr>\n",
       "      <th>3</th>\n",
       "      <td>C</td>\n",
       "      <td>0.866520</td>\n",
       "    </tr>\n",
       "    <tr>\n",
       "      <th>12</th>\n",
       "      <td>Mrs</td>\n",
       "      <td>0.702112</td>\n",
       "    </tr>\n",
       "    <tr>\n",
       "      <th>0</th>\n",
       "      <td>Age</td>\n",
       "      <td>0.000000</td>\n",
       "    </tr>\n",
       "    <tr>\n",
       "      <th>5</th>\n",
       "      <td>S</td>\n",
       "      <td>0.000000</td>\n",
       "    </tr>\n",
       "    <tr>\n",
       "      <th>8</th>\n",
       "      <td>Lady</td>\n",
       "      <td>0.000000</td>\n",
       "    </tr>\n",
       "    <tr>\n",
       "      <th>13</th>\n",
       "      <td>Sir</td>\n",
       "      <td>-0.045475</td>\n",
       "    </tr>\n",
       "    <tr>\n",
       "      <th>4</th>\n",
       "      <td>Q</td>\n",
       "      <td>-0.106506</td>\n",
       "    </tr>\n",
       "    <tr>\n",
       "      <th>10</th>\n",
       "      <td>Miss</td>\n",
       "      <td>-0.134213</td>\n",
       "    </tr>\n",
       "    <tr>\n",
       "      <th>7</th>\n",
       "      <td>male</td>\n",
       "      <td>-0.668488</td>\n",
       "    </tr>\n",
       "    <tr>\n",
       "      <th>11</th>\n",
       "      <td>Mr</td>\n",
       "      <td>-1.063098</td>\n",
       "    </tr>\n",
       "    <tr>\n",
       "      <th>1</th>\n",
       "      <td>Parch</td>\n",
       "      <td>-1.220676</td>\n",
       "    </tr>\n",
       "    <tr>\n",
       "      <th>2</th>\n",
       "      <td>SibSp</td>\n",
       "      <td>-3.042164</td>\n",
       "    </tr>\n",
       "  </tbody>\n",
       "</table>\n",
       "</div>"
      ],
      "text/plain": [
       "   attributes  feature_importance\n",
       "9      Master            1.893642\n",
       "6      female            1.154279\n",
       "3           C            0.866520\n",
       "12        Mrs            0.702112\n",
       "0         Age            0.000000\n",
       "5           S            0.000000\n",
       "8        Lady            0.000000\n",
       "13        Sir           -0.045475\n",
       "4           Q           -0.106506\n",
       "10       Miss           -0.134213\n",
       "7        male           -0.668488\n",
       "11         Mr           -1.063098\n",
       "1       Parch           -1.220676\n",
       "2       SibSp           -3.042164"
      ]
     },
     "execution_count": 58,
     "metadata": {},
     "output_type": "execute_result"
    }
   ],
   "source": [
    "attributes = ['Age','Parch','SibSp','C', 'Q', 'S','female', 'male','Lady', 'Master', 'Miss', 'Mr', 'Mrs', 'Sir']\n",
    "d = {'attributes' : attributes,'feature_importance': feature_importances.flatten()}\n",
    "df = pd.DataFrame(data=d)\n",
    "df.sort_values('feature_importance',ascending=False)"
   ]
  },
  {
   "cell_type": "markdown",
   "metadata": {},
   "source": [
    "## Prediction with Final Model"
   ]
  },
  {
   "cell_type": "code",
   "execution_count": 59,
   "metadata": {
    "ExecuteTime": {
     "end_time": "2018-11-03T04:26:36.751778Z",
     "start_time": "2018-11-03T04:26:36.718621Z"
    }
   },
   "outputs": [
    {
     "data": {
      "text/html": [
       "<div>\n",
       "<style scoped>\n",
       "    .dataframe tbody tr th:only-of-type {\n",
       "        vertical-align: middle;\n",
       "    }\n",
       "\n",
       "    .dataframe tbody tr th {\n",
       "        vertical-align: top;\n",
       "    }\n",
       "\n",
       "    .dataframe thead th {\n",
       "        text-align: right;\n",
       "    }\n",
       "</style>\n",
       "<table border=\"1\" class=\"dataframe\">\n",
       "  <thead>\n",
       "    <tr style=\"text-align: right;\">\n",
       "      <th></th>\n",
       "      <th>Model</th>\n",
       "      <th>Parameters</th>\n",
       "      <th>Accuracy</th>\n",
       "      <th>Time</th>\n",
       "    </tr>\n",
       "  </thead>\n",
       "  <tbody>\n",
       "    <tr>\n",
       "      <th>0</th>\n",
       "      <td>DecisionTreeClassifier</td>\n",
       "      <td>Default</td>\n",
       "      <td>0.648</td>\n",
       "      <td>0.002008</td>\n",
       "    </tr>\n",
       "    <tr>\n",
       "      <th>1</th>\n",
       "      <td>RandomForestClassifier</td>\n",
       "      <td>Default</td>\n",
       "      <td>0.726</td>\n",
       "      <td>0.032037</td>\n",
       "    </tr>\n",
       "    <tr>\n",
       "      <th>2</th>\n",
       "      <td>LogisticRegression</td>\n",
       "      <td>Default</td>\n",
       "      <td>0.810</td>\n",
       "      <td>0.003206</td>\n",
       "    </tr>\n",
       "    <tr>\n",
       "      <th>3</th>\n",
       "      <td>RandomizedSearch LogisticRegression</td>\n",
       "      <td>'C': 2, 'max_iter': 876</td>\n",
       "      <td>0.793</td>\n",
       "      <td>0.014330</td>\n",
       "    </tr>\n",
       "    <tr>\n",
       "      <th>4</th>\n",
       "      <td>GridSearch LogisticRegression</td>\n",
       "      <td>'C': 1.0, 'max_iter': 100, 'penalty': 'l1'</td>\n",
       "      <td>0.726</td>\n",
       "      <td>0.011066</td>\n",
       "    </tr>\n",
       "  </tbody>\n",
       "</table>\n",
       "</div>"
      ],
      "text/plain": [
       "                                 Model  \\\n",
       "0               DecisionTreeClassifier   \n",
       "1               RandomForestClassifier   \n",
       "2                   LogisticRegression   \n",
       "3  RandomizedSearch LogisticRegression   \n",
       "4        GridSearch LogisticRegression   \n",
       "\n",
       "                                   Parameters  Accuracy      Time  \n",
       "0                                     Default     0.648  0.002008  \n",
       "1                                     Default     0.726  0.032037  \n",
       "2                                     Default     0.810  0.003206  \n",
       "3                     'C': 2, 'max_iter': 876     0.793  0.014330  \n",
       "4  'C': 1.0, 'max_iter': 100, 'penalty': 'l1'     0.726  0.011066  "
      ]
     },
     "execution_count": 59,
     "metadata": {},
     "output_type": "execute_result"
    }
   ],
   "source": [
    "from sklearn.metrics import accuracy_score\n",
    "import time\n",
    "\n",
    "start = time.time()\n",
    "final_model = grid_search.best_estimator_\n",
    "\n",
    "X_val_prepared = full_pipeline.transform(x_val)\n",
    "final_predictions = final_model.predict(X_val_prepared)\n",
    "\n",
    "final_acc = accuracy_score(y_val, final_predictions)\n",
    "exec_time = time.time()-start\n",
    "\n",
    "results.loc[len(results)] = [\"GridSearch LogisticRegression\",\"'C': 1.0, 'max_iter': 100, 'penalty': 'l1'\", np.round(forest_acc, 3),exec_time]\n",
    "results"
   ]
  },
  {
   "cell_type": "code",
   "execution_count": 60,
   "metadata": {
    "ExecuteTime": {
     "end_time": "2018-11-03T04:26:36.897685Z",
     "start_time": "2018-11-03T04:26:36.753736Z"
    }
   },
   "outputs": [
    {
     "data": {
      "text/plain": [
       "(array([109.,   0.,   0.,   0.,   0.,   0.,   0.,   0.,   0.,  70.]),\n",
       " array([0. , 0.1, 0.2, 0.3, 0.4, 0.5, 0.6, 0.7, 0.8, 0.9, 1. ]),\n",
       " <a list of 10 Patch objects>)"
      ]
     },
     "execution_count": 60,
     "metadata": {},
     "output_type": "execute_result"
    },
    {
     "data": {
      "image/png": "[encoded data removed]",
      "text/plain": [
       "<Figure size 432x288 with 1 Axes>"
      ]
     },
     "metadata": {},
     "output_type": "display_data"
    }
   ],
   "source": [
    "plt.hist(final_predictions)"
   ]
  },
  {
   "cell_type": "code",
   "execution_count": 61,
   "metadata": {
    "ExecuteTime": {
     "end_time": "2018-11-03T04:26:36.905708Z",
     "start_time": "2018-11-03T04:26:36.900692Z"
    }
   },
   "outputs": [],
   "source": [
    "from sklearn.metrics import confusion_matrix\n",
    "\n",
    "cm_val = confusion_matrix(y_val, final_predictions).astype(np.float32)\n",
    "cm_val /= cm_val.sum(axis=1)[:, np.newaxis]"
   ]
  },
  {
   "cell_type": "code",
   "execution_count": 62,
   "metadata": {
    "ExecuteTime": {
     "end_time": "2018-11-03T04:26:37.133389Z",
     "start_time": "2018-11-03T04:26:36.908715Z"
    }
   },
   "outputs": [
    {
     "data": {
      "text/plain": [
       "Text(0.5,1,'Val')"
      ]
     },
     "execution_count": 62,
     "metadata": {},
     "output_type": "execute_result"
    },
    {
     "data": {
      "image/png": "[encoded data removed]",
      "text/plain": [
       "<Figure size 864x432 with 2 Axes>"
      ]
     },
     "metadata": {},
     "output_type": "display_data"
    }
   ],
   "source": [
    "plt.figure(figsize=(12, 6))\n",
    "\n",
    "plt.subplot(111)\n",
    "g = sns.heatmap(cm_val, vmin=0, vmax=1, annot=True, cmap=\"coolwarm\")\n",
    "plt.xlabel(\"Predicted\", fontsize=14)\n",
    "plt.ylabel(\"True\", fontsize=14)\n",
    "g.set(xticklabels=[0,1], yticklabels=[0,1])\n",
    "plt.title(\"Val\", fontsize=14)"
   ]
  },
  {
   "cell_type": "markdown",
   "metadata": {},
   "source": [
    "## Reading Test Data"
   ]
  },
  {
   "cell_type": "code",
   "execution_count": 63,
   "metadata": {
    "ExecuteTime": {
     "end_time": "2018-11-03T04:26:37.149798Z",
     "start_time": "2018-11-03T04:26:37.136395Z"
    }
   },
   "outputs": [],
   "source": [
    "test = pd.read_csv('datasets/titanic/test.csv')\n",
    "test = test.drop(['Ticket', 'Cabin'], axis = 1)"
   ]
  },
  {
   "cell_type": "code",
   "execution_count": 64,
   "metadata": {
    "ExecuteTime": {
     "end_time": "2018-11-03T04:26:37.173900Z",
     "start_time": "2018-11-03T04:26:37.152807Z"
    }
   },
   "outputs": [
    {
     "data": {
      "text/html": [
       "<div>\n",
       "<style scoped>\n",
       "    .dataframe tbody tr th:only-of-type {\n",
       "        vertical-align: middle;\n",
       "    }\n",
       "\n",
       "    .dataframe tbody tr th {\n",
       "        vertical-align: top;\n",
       "    }\n",
       "\n",
       "    .dataframe thead th {\n",
       "        text-align: right;\n",
       "    }\n",
       "</style>\n",
       "<table border=\"1\" class=\"dataframe\">\n",
       "  <thead>\n",
       "    <tr style=\"text-align: right;\">\n",
       "      <th></th>\n",
       "      <th>PassengerId</th>\n",
       "      <th>Pclass</th>\n",
       "      <th>Name</th>\n",
       "      <th>Sex</th>\n",
       "      <th>Age</th>\n",
       "      <th>SibSp</th>\n",
       "      <th>Parch</th>\n",
       "      <th>Fare</th>\n",
       "      <th>Embarked</th>\n",
       "    </tr>\n",
       "  </thead>\n",
       "  <tbody>\n",
       "    <tr>\n",
       "      <th>0</th>\n",
       "      <td>892</td>\n",
       "      <td>3</td>\n",
       "      <td>Kelly, Mr. James</td>\n",
       "      <td>male</td>\n",
       "      <td>34.5</td>\n",
       "      <td>0</td>\n",
       "      <td>0</td>\n",
       "      <td>7.8292</td>\n",
       "      <td>Q</td>\n",
       "    </tr>\n",
       "    <tr>\n",
       "      <th>1</th>\n",
       "      <td>893</td>\n",
       "      <td>3</td>\n",
       "      <td>Wilkes, Mrs. James (Ellen Needs)</td>\n",
       "      <td>female</td>\n",
       "      <td>47.0</td>\n",
       "      <td>1</td>\n",
       "      <td>0</td>\n",
       "      <td>7.0000</td>\n",
       "      <td>S</td>\n",
       "    </tr>\n",
       "    <tr>\n",
       "      <th>2</th>\n",
       "      <td>894</td>\n",
       "      <td>2</td>\n",
       "      <td>Myles, Mr. Thomas Francis</td>\n",
       "      <td>male</td>\n",
       "      <td>62.0</td>\n",
       "      <td>0</td>\n",
       "      <td>0</td>\n",
       "      <td>9.6875</td>\n",
       "      <td>Q</td>\n",
       "    </tr>\n",
       "    <tr>\n",
       "      <th>3</th>\n",
       "      <td>895</td>\n",
       "      <td>3</td>\n",
       "      <td>Wirz, Mr. Albert</td>\n",
       "      <td>male</td>\n",
       "      <td>27.0</td>\n",
       "      <td>0</td>\n",
       "      <td>0</td>\n",
       "      <td>8.6625</td>\n",
       "      <td>S</td>\n",
       "    </tr>\n",
       "    <tr>\n",
       "      <th>4</th>\n",
       "      <td>896</td>\n",
       "      <td>3</td>\n",
       "      <td>Hirvonen, Mrs. Alexander (Helga E Lindqvist)</td>\n",
       "      <td>female</td>\n",
       "      <td>22.0</td>\n",
       "      <td>1</td>\n",
       "      <td>1</td>\n",
       "      <td>12.2875</td>\n",
       "      <td>S</td>\n",
       "    </tr>\n",
       "  </tbody>\n",
       "</table>\n",
       "</div>"
      ],
      "text/plain": [
       "   PassengerId  Pclass                                          Name     Sex  \\\n",
       "0          892       3                              Kelly, Mr. James    male   \n",
       "1          893       3              Wilkes, Mrs. James (Ellen Needs)  female   \n",
       "2          894       2                     Myles, Mr. Thomas Francis    male   \n",
       "3          895       3                              Wirz, Mr. Albert    male   \n",
       "4          896       3  Hirvonen, Mrs. Alexander (Helga E Lindqvist)  female   \n",
       "\n",
       "    Age  SibSp  Parch     Fare Embarked  \n",
       "0  34.5      0      0   7.8292        Q  \n",
       "1  47.0      1      0   7.0000        S  \n",
       "2  62.0      0      0   9.6875        Q  \n",
       "3  27.0      0      0   8.6625        S  \n",
       "4  22.0      1      1  12.2875        S  "
      ]
     },
     "execution_count": 64,
     "metadata": {},
     "output_type": "execute_result"
    }
   ],
   "source": [
    "test.head()"
   ]
  },
  {
   "cell_type": "code",
   "execution_count": 65,
   "metadata": {
    "ExecuteTime": {
     "end_time": "2018-11-03T04:26:37.194053Z",
     "start_time": "2018-11-03T04:26:37.176870Z"
    }
   },
   "outputs": [
    {
     "data": {
      "text/plain": [
       "(418, 9)"
      ]
     },
     "execution_count": 65,
     "metadata": {},
     "output_type": "execute_result"
    }
   ],
   "source": [
    "test.shape"
   ]
  },
  {
   "cell_type": "markdown",
   "metadata": {},
   "source": [
    "## Full Pipeline with Predictor on Test Data"
   ]
  },
  {
   "cell_type": "code",
   "execution_count": 66,
   "metadata": {
    "ExecuteTime": {
     "end_time": "2018-11-03T04:26:37.214065Z",
     "start_time": "2018-11-03T04:26:37.197020Z"
    }
   },
   "outputs": [],
   "source": [
    "full_pipeline_with_predictor = Pipeline([\n",
    "        (\"preparation\", full_pipeline),  # combination of numerical and categorical pipelines\n",
    "        (\"logRegression\", final_model) # LogisticRegression(C: 1.0, max_iter: 100, penalty: 'l1')\n",
    "    ])"
   ]
  },
  {
   "cell_type": "code",
   "execution_count": 67,
   "metadata": {
    "ExecuteTime": {
     "end_time": "2018-11-03T04:26:37.234117Z",
     "start_time": "2018-11-03T04:26:37.217074Z"
    }
   },
   "outputs": [
    {
     "data": {
      "text/plain": [
       "[('num_pipeline', Pipeline(memory=None,\n",
       "       steps=[('selector', DataFrameSelector(attribute_names=['Age', 'Parch', 'SibSp'])), ('imputer', Imputer(axis=0, copy=True, missing_values='NaN', strategy='median', verbose=0)), ('std_scaler', MinMaxScaler(copy=True, feature_range=(0, 1)))])),\n",
       " ('cat_pipeline', Pipeline(memory=None,\n",
       "       steps=[('selector', DataFrameSelector(attribute_names=['Embarked', 'Sex'])), ('cat_encoder', CategoricalEncoder(categories='auto', dtype=<class 'numpy.float64'>,\n",
       "            encoding='onehot-dense', handle_unknown='error'))])),\n",
       " ('Custcat_pipeline', Pipeline(memory=None,\n",
       "       steps=[('selector', DataFrameSelector1(attribute_names=['Name'])), ('attribs_adder', CombinedAttributesAdder()), ('cat_encoder', CategoricalEncoder(categories='auto', dtype=<class 'numpy.float64'>,\n",
       "            encoding='onehot-dense', handle_unknown='error'))]))]"
      ]
     },
     "execution_count": 67,
     "metadata": {},
     "output_type": "execute_result"
    }
   ],
   "source": [
    "full_pipeline_with_predictor.named_steps.preparation.transformer_list"
   ]
  },
  {
   "cell_type": "code",
   "execution_count": 68,
   "metadata": {
    "ExecuteTime": {
     "end_time": "2018-11-03T04:26:37.262233Z",
     "start_time": "2018-11-03T04:26:37.236164Z"
    }
   },
   "outputs": [],
   "source": [
    "x_val_predicted = full_pipeline_with_predictor.predict(x_val)"
   ]
  },
  {
   "cell_type": "code",
   "execution_count": 69,
   "metadata": {
    "ExecuteTime": {
     "end_time": "2018-11-03T04:26:37.290310Z",
     "start_time": "2018-11-03T04:26:37.264241Z"
    }
   },
   "outputs": [],
   "source": [
    "test_predicted = full_pipeline_with_predictor.predict(test)"
   ]
  },
  {
   "cell_type": "code",
   "execution_count": 70,
   "metadata": {
    "ExecuteTime": {
     "end_time": "2018-11-03T04:26:37.458869Z",
     "start_time": "2018-11-03T04:26:37.292315Z"
    }
   },
   "outputs": [
    {
     "data": {
      "text/plain": [
       "(array([262.,   0.,   0.,   0.,   0.,   0.,   0.,   0.,   0., 156.]),\n",
       " array([0. , 0.1, 0.2, 0.3, 0.4, 0.5, 0.6, 0.7, 0.8, 0.9, 1. ]),\n",
       " <a list of 10 Patch objects>)"
      ]
     },
     "execution_count": 70,
     "metadata": {},
     "output_type": "execute_result"
    },
    {
     "data": {
      "image/png": "[encoded data removed]",
      "text/plain": [
       "<Figure size 432x288 with 1 Axes>"
      ]
     },
     "metadata": {},
     "output_type": "display_data"
    }
   ],
   "source": [
    "plt.hist(test_predicted)"
   ]
  },
  {
   "cell_type": "code",
   "execution_count": null,
   "metadata": {},
   "outputs": [],
   "source": []
  }
 ],
 "metadata": {
  "kernelspec": {
   "display_name": "Python 3",
   "language": "python",
   "name": "python3"
  },
  "language_info": {
   "codemirror_mode": {
    "name": "ipython",
    "version": 3
   },
   "file_extension": ".py",
   "mimetype": "text/x-python",
   "name": "python",
   "nbconvert_exporter": "python",
   "pygments_lexer": "ipython3",
   "version": "3.6.5"
  },
  "latex_envs": {
   "LaTeX_envs_menu_present": true,
   "autoclose": true,
   "autocomplete": true,
   "bibliofile": "biblio.bib",
   "cite_by": "apalike",
   "current_citInitial": 1,
   "eqLabelWithNumbers": true,
   "eqNumInitial": 1,
   "hotkeys": {
    "equation": "Ctrl-E",
    "itemize": "Ctrl-I"
   },
   "labels_anchors": false,
   "latex_user_defs": false,
   "report_style_numbering": false,
   "user_envs_cfg": true
  },
  "toc": {
   "base_numbering": 1,
   "nav_menu": {},
   "number_sections": true,
   "sideBar": true,
   "skip_h1_title": false,
   "title_cell": "Table of Contents",
   "title_sidebar": "Contents",
   "toc_cell": false,
   "toc_position": {},
   "toc_section_display": true,
   "toc_window_display": false
  },
  "varInspector": {
   "cols": {
    "lenName": 16,
    "lenType": 16,
    "lenVar": 40
   },
   "kernels_config": {
    "python": {
     "delete_cmd_postfix": "",
     "delete_cmd_prefix": "del ",
     "library": "var_list.py",
     "varRefreshCmd": "print(var_dic_list())"
    },
    "r": {
     "delete_cmd_postfix": ") ",
     "delete_cmd_prefix": "rm(",
     "library": "var_list.r",
     "varRefreshCmd": "cat(var_dic_list()) "
    }
   },
   "types_to_exclude": [
    "module",
    "function",
    "builtin_function_or_method",
    "instance",
    "_Feature"
   ],
   "window_display": false
  }
 },
 "nbformat": 4,
 "nbformat_minor": 2
}
